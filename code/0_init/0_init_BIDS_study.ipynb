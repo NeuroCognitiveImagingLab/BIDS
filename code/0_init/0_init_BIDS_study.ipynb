{
 "cells": [
  {
   "cell_type": "markdown",
   "id": "47c8e26e-64b6-41a9-a842-227791bed0ab",
   "metadata": {},
   "source": [
    "# Initialize sutdy metadata for an EEG BIDS project \n",
    "\n",
    "Before you run this file, be sure to edit `config.yml` to reflect the details of your study.\n",
    "\n",
    "The script `0_init_BIDS_study.ipynb` will initialize the BIDS project by reading the `config.yml` file using the information to generate a BIDS-compliant `dataset_description.json` file.\n",
    "\n",
    "This file should typically only be run once for a project, unless you make an error."
   ]
  },
  {
   "cell_type": "code",
   "execution_count": null,
   "id": "3db6b90a-a67d-4419-a191-3a565ce9c725",
   "metadata": {},
   "outputs": [],
   "source": [
    "import os\n",
    "import os.path as op\n",
    "import json\n",
    "import yaml\n",
    "from yaml import CLoader as Loader\n",
    "from mne_bids import make_dataset_description, update_sidecar_json, BIDSPath"
   ]
  },
  {
   "cell_type": "markdown",
   "id": "9bb54837-c8ef-4e0e-9567-d77682ce0ce6",
   "metadata": {},
   "source": [
    "## BIDS Project Parameters\n",
    "Used to store metadata and for file/folder names\n",
    "\n",
    "Read from `config.yml`"
   ]
  },
  {
   "cell_type": "code",
   "execution_count": null,
   "id": "8b328987-c77a-4e89-9671-76c68542ad3f",
   "metadata": {},
   "outputs": [],
   "source": [
    "# this shouldn't change if you run this script from its default location in code/import\n",
    "bids_root = op.abspath('../..')\n",
    "\n",
    "cfg_file = op.join(bids_root, 'config.yml')\n",
    "with open(cfg_file, 'r') as f:\n",
    "    config = yaml.load(f, Loader=Loader)\n",
    "\n",
    "study_name = config['study_name']\n",
    "reb_info = config['reb_info']\n",
    "authors = config['authors']\n",
    "instn = config['instn']\n",
    "instn_addr = config['instn_addr']\n",
    "instn_dept = config['instn_dept']\n",
    "funding = config['funding'] \n",
    "license = config['license']\n",
    "data_type = config['data_type']\n",
    "line_freq = config['line_freq']"
   ]
  },
  {
   "cell_type": "markdown",
   "id": "aa92f066-6c78-44b1-96ba-501c36a4ff64",
   "metadata": {},
   "source": [
    "## Create study-level metadata"
   ]
  },
  {
   "cell_type": "code",
   "execution_count": null,
   "id": "efea76dd-ee9c-4b06-926b-7403c91768d2",
   "metadata": {},
   "outputs": [],
   "source": [
    "make_dataset_description(path=bids_root,\n",
    "                         name=study_name,\n",
    "                         data_license=license,\n",
    "                         authors=authors,\n",
    "                         funding=funding,\n",
    "                        )\n",
    "\n",
    "# --- Update metadata with additional info --- \n",
    "entries = {'EthicsApprovals':reb_info,\n",
    "           'InstitutionName':instn,\n",
    "           'InstitutionAddress':instn_addr,\n",
    "           'InstitutionalDepartmentName':instn_dept,\n",
    "           'PowerLineFrequency':line_freq,\n",
    "          }   \n",
    "sidecar_path = op.join(bids_root, 'dataset_description.json')\n",
    "with open(sidecar_path, 'r') as f:\n",
    "    info = json.load(f)        \n",
    "info = {**info, **entries}\n",
    "with open(sidecar_path, 'w') as f:\n",
    "    info = json.dump(info, f)"
   ]
  },
  {
   "cell_type": "code",
   "execution_count": null,
   "id": "01e97b23-05f0-4419-b5d6-5cf04115fdad",
   "metadata": {},
   "outputs": [],
   "source": []
  }
 ],
 "metadata": {
  "kernelspec": {
   "display_name": "base",
   "language": "python",
   "name": "python3"
  },
  "language_info": {
   "codemirror_mode": {
    "name": "ipython",
    "version": 3
   },
   "file_extension": ".py",
   "mimetype": "text/x-python",
   "name": "python",
   "nbconvert_exporter": "python",
   "pygments_lexer": "ipython3",
   "version": "3.10.9"
  },
  "vscode": {
   "interpreter": {
    "hash": "f5e4630e3e07bd92d5a314dff7356c1bcb3aaf5f61f83d0156082e68ebf03775"
   }
  }
 },
 "nbformat": 4,
 "nbformat_minor": 5
}
