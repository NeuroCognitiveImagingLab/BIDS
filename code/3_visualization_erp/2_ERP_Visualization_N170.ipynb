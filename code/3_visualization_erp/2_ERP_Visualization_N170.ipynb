{
 "cells": [
  {
   "attachments": {},
   "cell_type": "markdown",
   "id": "latin-footage",
   "metadata": {},
   "source": [
    "# ERP Visualization \n",
    "## Topo Plots & Waveforms\n",
    "### N170 (2 ROIs)\n",
    "\n",
    "---\n",
    "Copyright 2024 [Aaron J Newman](https://github.com/aaronjnewman), [NeuroCognitive Imaging Lab](http://ncil.science), [Dalhousie University](https://dal.ca)\n",
    "\n",
    "Released under the [The 3-Clause BSD License](https://opensource.org/licenses/BSD-3-Clause)\n",
    "\n",
    "---"
   ]
  },
  {
   "cell_type": "markdown",
   "id": "painful-magnitude",
   "metadata": {},
   "source": [
    "# Initialization"
   ]
  },
  {
   "cell_type": "code",
   "execution_count": null,
   "id": "12b9a95a-816a-4c3e-a920-1d899c5d1e73",
   "metadata": {},
   "outputs": [],
   "source": [
    "component = 'n170'"
   ]
  },
  {
   "cell_type": "markdown",
   "id": "graphic-tradition",
   "metadata": {},
   "source": [
    "## Load in the necessary libraries/packages we'll need"
   ]
  },
  {
   "cell_type": "code",
   "execution_count": null,
   "id": "dense-accounting",
   "metadata": {},
   "outputs": [],
   "source": [
    "import pandas as pd\n",
    "import numpy as np\n",
    "\n",
    "import matplotlib\n",
    "import matplotlib.pyplot as plt\n",
    "import seaborn as sns\n",
    "import os.path as op\n",
    "from glob import glob\n",
    "from pathlib import Path\n",
    "import json\n",
    "import mne\n",
    "mne.set_log_level('error')"
   ]
  },
  {
   "cell_type": "markdown",
   "id": "056b8946-693c-4056-97e0-51a3e4cf37ce",
   "metadata": {},
   "source": [
    "## Read Parameters from config.yml\n",
    "\n",
    "Will import study-level parameters from `config.yml` in `bids_root`"
   ]
  },
  {
   "cell_type": "code",
   "execution_count": null,
   "id": "4ed2575b-4e47-4225-b250-dea80acf202e",
   "metadata": {},
   "outputs": [],
   "source": [
    "# this shouldn't change if you run this script from its default location in code/import\n",
    "bids_root = '../..'\n",
    "\n",
    "config_file = op.join(bids_root, 'config.json')\n",
    "config = json.load(open(config_file))\n",
    "\n",
    "study_name = config['Study']['Name']\n",
    "study_name = config['Study']['TaskName']\n",
    "data_type = config['data_type']\n",
    "eog = {k: v for d in config['eog'] for k, v in d.items()}\n",
    "montage_fname = config['montage_fname']\n",
    "event_id = {k: v.pop() for d in config['events'] for k, v in d.items()}\n",
    "\n",
    "n_jobs = config['Preprocessing']['n_jobs']\n",
    "\n",
    "cfg = config['components'][component] #{k: v for d in config['analysis_settings'] for k, v in d.items()}"
   ]
  },
  {
   "cell_type": "markdown",
   "id": "popular-death",
   "metadata": {},
   "source": [
    "## Time windows of interest"
   ]
  },
  {
   "cell_type": "code",
   "execution_count": null,
   "id": "outside-recognition",
   "metadata": {},
   "outputs": [],
   "source": [
    "# Define the total length of the epoch \n",
    "# this can be less than what is in the input files; will use the crop function\n",
    "tmin = cfg['t_min']\n",
    "tmax =  cfg['t_max']\n",
    "baseline = eval(cfg['baseline'])\n",
    "\n",
    "# value obtained from butterfly plots visual inspection and added to config.yml\n",
    "peak_lat = cfg['peak_lat']\n",
    "\n",
    "tw_width = cfg['tw_width']\n",
    "\n",
    "# Amount of time to shift event codes by, based on empirical testing with photocell\n",
    "#  to determine lag between event code and actual stimulus appearance on screen.\n",
    "#  For reasons that are unclear, we need to double this value (in sec) to get the correct shift\n",
    "tshift = config['t_shift']"
   ]
  },
  {
   "cell_type": "markdown",
   "id": "characteristic-today",
   "metadata": {},
   "source": [
    "## Conditions and Contrasts of Interest"
   ]
  },
  {
   "cell_type": "code",
   "execution_count": null,
   "id": "a70824d1-db5b-479d-8d30-9b263579c344",
   "metadata": {},
   "outputs": [],
   "source": [
    "conditions = list(event_id.values())\n",
    "\n",
    "contrasts = {'CS-FF':['ConsonantString', 'FalseFont'],\n",
    "             'RW-FF':['RealWord', 'FalseFont'],\n",
    "             'PW-FF':['PseudoWord', 'FalseFont'],\n",
    "             'NW-FF':['NovelWord', 'FalseFont'],\n",
    "             'RW-CS':['RealWord', 'ConsonantString'],\n",
    "             'PW-CS':['PseudoWord', 'ConsonantString'],\n",
    "             'NW-CS':['NovelWord', 'ConsonantString'],\n",
    "             'RW-PW':['RealWord', 'PseudoWord'],\n",
    "             'RW-NW':['RealWord', 'NovelWord'],\n",
    "             'NW-PW':['NovelWord', 'PseudoWord']\n",
    "             }"
   ]
  },
  {
   "cell_type": "markdown",
   "id": "0011eb68-416b-403b-827a-14f9ff378b78",
   "metadata": {
    "tags": []
   },
   "source": [
    "## Paths"
   ]
  },
  {
   "cell_type": "code",
   "execution_count": null,
   "id": "a0d2b4fc-7c40-4a7d-b529-717355fd03e4",
   "metadata": {},
   "outputs": [],
   "source": [
    "source_path = op.join(bids_root, 'derivatives', 'erp_preprocessing')\n",
    "\n",
    "derivatives_path = op.join(bids_root, 'derivatives', 'erp_visualization', component)\n",
    "if Path(derivatives_path).exists() == False:\n",
    "    Path(derivatives_path).mkdir(parents=True)\n",
    "\n",
    "fig_path = op.join(derivatives_path, 'figures')\n",
    "if Path(fig_path).exists() == False:\n",
    "    Path(fig_path).mkdir(parents=True) \n",
    "    \n",
    "epochs_suffix = '-epo.fif'\n",
    "waveplot_stem = fig_path + '/waveforms_'\n",
    "topoplot_stem = fig_path + '/topoplots_'"
   ]
  },
  {
   "cell_type": "markdown",
   "id": "761c9484",
   "metadata": {},
   "source": [
    "## Figure settings"
   ]
  },
  {
   "cell_type": "code",
   "execution_count": null,
   "id": "ecbe3850-a8b5-4bf1-8720-e1cac9a69768",
   "metadata": {},
   "outputs": [],
   "source": [
    "colors = {'FalseFont':sns.color_palette('colorblind')[0], \n",
    "          'ConsonantString':sns.color_palette('colorblind')[1], \n",
    "          'PseudoWord':sns.color_palette('colorblind')[2], \n",
    "          'NovelWord':sns.color_palette('colorblind')[3], \n",
    "          'RealWord':sns.color_palette('colorblind')[4]}\n",
    "\n",
    "contr_colors = {'CS-FF':colors['ConsonantString'],\n",
    "                'RW-FF':colors['RealWord'],\n",
    "                'PW-FF':colors['PseudoWord'],\n",
    "                'NW-FF':colors['NovelWord'],\n",
    "                'RW-CS':colors['RealWord'],\n",
    "                'PW-CS':colors['PseudoWord'],\n",
    "                'NW-CS':colors['NovelWord'],\n",
    "                'RW-PW':colors['RealWord'],\n",
    "                'RW-NW':colors['RealWord'],\n",
    "                'NW-PW':colors['NovelWord']\n",
    "                }\n",
    "\n",
    "linestyles = {'FalseFont':'-', \n",
    "              'ConsonantString': ':', \n",
    "              'PseudoWord':'-.', \n",
    "              'NovelWord':'--', \n",
    "              'RealWord':'-'}\n",
    "\n",
    "# For big arrays of waveplots\n",
    "waveplot_figsize = (18, 6)\n",
    "fig_format = 'pdf'"
   ]
  },
  {
   "cell_type": "markdown",
   "id": "d222bc1c-0555-4afd-a4c2-21144904f11a",
   "metadata": {},
   "source": [
    "## Define ROIs\n",
    "clusters of electrodes to average over for waveform plots"
   ]
  },
  {
   "cell_type": "code",
   "execution_count": null,
   "id": "a619ef90-d291-47c7-aa3d-a22405b5d201",
   "metadata": {},
   "outputs": [],
   "source": [
    "# convoluted unpacking from yaml\n",
    "rois = {k: v for d in config['rois'] for k, v in d.items()}\n",
    "rois = {roi:rois[roi]  for roi in cfg['rois']}\n",
    "\n",
    "for roi, chs in rois.items():\n",
    "    rois[roi]= [c.split(', ') for c in chs][0]"
   ]
  },
  {
   "cell_type": "code",
   "execution_count": null,
   "id": "17780a14-b8ac-461c-a96a-779b45789438",
   "metadata": {},
   "outputs": [],
   "source": [
    "# only works for single ROI\n",
    "roi_chans = rois[cfg['rois'][0]]"
   ]
  },
  {
   "cell_type": "markdown",
   "id": "1dc3c393",
   "metadata": {},
   "source": [
    "## Subject list"
   ]
  },
  {
   "cell_type": "code",
   "execution_count": null,
   "id": "2a6d4d45-eebc-4f62-9902-cd5dc6a47dad",
   "metadata": {},
   "outputs": [],
   "source": [
    "prefix = 'sub-'\n",
    "subjects = sorted([s[-7:] for s in glob(source_path + '/' + prefix + '*')])"
   ]
  },
  {
   "cell_type": "markdown",
   "id": "cleared-contemporary",
   "metadata": {},
   "source": [
    "---\n",
    "# Read in the data"
   ]
  },
  {
   "cell_type": "markdown",
   "id": "ac231b52-25e8-48e7-a2d9-5faca800f64f",
   "metadata": {},
   "source": [
    "When we read the data, we also crop the epochs as specified above, and time-shift the event onsets to match true stimulus timing"
   ]
  },
  {
   "cell_type": "code",
   "execution_count": null,
   "id": "promotional-nancy",
   "metadata": {},
   "outputs": [],
   "source": [
    "epochs = {}\n",
    "for subject in subjects:\n",
    "    subj_path = op.join(source_path, subject, 'eeg')\n",
    "    epochs[subject] = mne.read_epochs(str(subj_path + '/' + subject + '_task-' + task + '-epo.fif'),\n",
    "                                         verbose=None, \n",
    "                                         preload=True)\n",
    "    # correct for stimulus presentation delay\n",
    "    epochs[subject]._raw_times = epochs[subject]._raw_times - tshift\n",
    "    epochs[subject]._times_readonly = epochs[subject]._times_readonly - tshift\n",
    "    \n",
    "    epochs[subject].crop(tmin=tmin, tmax=tmax).apply_baseline(baseline)\n",
    "    \n",
    "    epochs[subject].set_montage(montage_fname)"
   ]
  },
  {
   "cell_type": "code",
   "execution_count": null,
   "id": "be708ac2",
   "metadata": {},
   "outputs": [],
   "source": [
    "# epochs['sub-002']['FalseFont'].average().plot_joint()\n",
    "# plt.show()"
   ]
  },
  {
   "cell_type": "code",
   "execution_count": null,
   "id": "52136ccb",
   "metadata": {},
   "outputs": [],
   "source": [
    "# epochs['sub-002']['FalseFont'].drop_bad(reject={'eeg':400e-06}).average().plot_joint()\n",
    "# plt.show()"
   ]
  },
  {
   "cell_type": "markdown",
   "id": "useful-india",
   "metadata": {
    "tags": []
   },
   "source": [
    "## Create Evokeds"
   ]
  },
  {
   "cell_type": "code",
   "execution_count": null,
   "id": "alpha-integral",
   "metadata": {
    "scrolled": true
   },
   "outputs": [],
   "source": [
    "evoked = {}\n",
    "for cond in conditions:\n",
    "    evoked[cond] = [epochs[subject][cond].average() for subject in subjects]"
   ]
  },
  {
   "cell_type": "markdown",
   "id": "quiet-referral",
   "metadata": {
    "tags": []
   },
   "source": [
    "## Grand Averages"
   ]
  },
  {
   "cell_type": "code",
   "execution_count": null,
   "id": "painted-volleyball",
   "metadata": {
    "scrolled": true
   },
   "outputs": [],
   "source": [
    "gavg = {}\n",
    "for cond in conditions:\n",
    "    gavg[cond] = mne.grand_average(evoked[cond])"
   ]
  },
  {
   "cell_type": "markdown",
   "id": "emerging-paper",
   "metadata": {},
   "source": [
    "## Compute Contrasts\n",
    "Differences between pairs of conditions"
   ]
  },
  {
   "cell_type": "code",
   "execution_count": null,
   "id": "outside-publisher",
   "metadata": {},
   "outputs": [],
   "source": [
    "evoked_diff = {}\n",
    "\n",
    "for contr, conds in contrasts.items():\n",
    "    evoked_diff[contr] = [mne.combine_evoked([ c1, c2],\n",
    "                                                weights=[1, -1])\n",
    "                             for (c1, c2) in zip(evoked[conds[0]], evoked[conds[1]])\n",
    "                            ]"
   ]
  },
  {
   "cell_type": "markdown",
   "id": "6b220e27-d1c9-4c30-a3e9-847e4aa815af",
   "metadata": {},
   "source": [
    "## Create mask identifying ROI electrodes"
   ]
  },
  {
   "cell_type": "code",
   "execution_count": null,
   "id": "f5d33441-7c37-4984-8243-c0ce893e56e5",
   "metadata": {},
   "outputs": [],
   "source": [
    "chs = pd.Series(gavg[conditions[0]].ch_names)\n",
    "\n",
    "roi_elec = [i for c in rois.values() for i in c ]\n",
    "mask = chs.isin(roi_elec).to_numpy()\n",
    "num_tp = gavg[conditions[0]].data.shape[1]\n",
    "mask = np.repeat(mask[:, np.newaxis], num_tp, axis=1)"
   ]
  },
  {
   "cell_type": "markdown",
   "id": "prostate-humidity",
   "metadata": {},
   "source": [
    "---\n",
    "# Visualization"
   ]
  },
  {
   "cell_type": "markdown",
   "id": "laughing-hawaii",
   "metadata": {},
   "source": [
    "## Topo map time series for each condition"
   ]
  },
  {
   "cell_type": "code",
   "execution_count": null,
   "id": "floral-language",
   "metadata": {
    "inputHidden": false,
    "outputExpanded": true,
    "outputHidden": false,
    "tags": []
   },
   "outputs": [],
   "source": [
    "times = np.arange(0., tmax, .050)\n",
    "\n",
    "uv_range = 15\n",
    "\n",
    "for cond in conditions:\n",
    "    gavg[cond].plot_topomap(times, average=tw_width,\n",
    "                            ch_type='eeg', \n",
    "                            show_names=False, sensors=False, contours=False, \n",
    "                            colorbar=True, \n",
    "                            vmin=-uv_range, vmax=uv_range,\n",
    "                            title=(cond),\n",
    "                            mask=mask,\n",
    "                            mask_params=dict(marker='o', \n",
    "                                             markerfacecolor='w', \n",
    "                                             markeredgecolor='k',\n",
    "                                             linewidth=0, \n",
    "                                             markersize=6)\n",
    "                           )"
   ]
  },
  {
   "cell_type": "markdown",
   "id": "0d973e21-7e98-4797-a919-96838331ec7b",
   "metadata": {
    "tags": []
   },
   "source": [
    "### Average over N170 peak window"
   ]
  },
  {
   "cell_type": "code",
   "execution_count": null,
   "id": "63274a77-d786-42e6-9e30-a05df63d07e9",
   "metadata": {
    "inputHidden": false,
    "outputExpanded": true,
    "outputHidden": false,
    "scrolled": true,
    "tags": []
   },
   "outputs": [],
   "source": [
    "uv_range = 10\n",
    "for cond in conditions:\n",
    "    gavg[cond].plot_topomap(peak_lat, average=tw_width,\n",
    "                           ch_type='eeg', \n",
    "                           show_names=False, sensors=False, contours=False, \n",
    "                           colorbar=True, size=3, \n",
    "                           vmin=-uv_range, vmax=uv_range,\n",
    "                           title=(cond),\n",
    "                           mask=mask, \n",
    "                           mask_params=dict(marker='o', \n",
    "                                            markerfacecolor='w', \n",
    "                                            markeredgecolor='k',\n",
    "                                            linewidth=0, \n",
    "                                            markersize=3)\n",
    "                    ).savefig(topoplot_stem + 'IndivCond_' + cond + '.' + fig_format); "
   ]
  },
  {
   "cell_type": "markdown",
   "id": "ordinary-consumption",
   "metadata": {},
   "source": [
    "## Waveforms"
   ]
  },
  {
   "cell_type": "code",
   "execution_count": null,
   "id": "528802d5-02d6-4600-a7b2-878a4d531654",
   "metadata": {},
   "outputs": [],
   "source": [
    "ylim = {'eeg':[-10.5, 10]}\n",
    "\n",
    "fig, axs = plt.subplots(1, 2, figsize=waveplot_figsize)    \n",
    "ax = 0\n",
    "for roi, chans in rois.items():\n",
    "    if ax == 0:\n",
    "        show=False\n",
    "    else:\n",
    "        show=True\n",
    "\n",
    "    mne.viz.plot_compare_evokeds({c:evoked[c] for c in conditions},\n",
    "                                 picks=chans, combine='mean',\n",
    "                                 title=(roi),\n",
    "                                 colors=colors, linestyles=linestyles,\n",
    "                                 ylim=ylim,\n",
    "                                 show_sensors='upper right', legend='lower right', \n",
    "                                 ci=False,\n",
    "                                 axes=axs[ax], show=show\n",
    "                                );\n",
    "    # axs[ax].vlines([peak_lat-tw_width, peak_lat+tw_width], \n",
    "    #             ylim['eeg'][0], ylim['eeg'][1],\n",
    "    #             color='gray', linestyle=':'\n",
    "    #             )\n",
    "\n",
    "    ax += 1\n",
    "\n",
    "for ax in axs:\n",
    "    # these don't show in the notebook, but do in the saved files\n",
    "    ax.vlines([peak_lat-tw_width, peak_lat+tw_width], \n",
    "                    ylim['eeg'][0], ylim['eeg'][1],\n",
    "                    color='gray', linestyle=':'\n",
    "                    )\n",
    "    # shade N170 time window\n",
    "    ax.axvspan(peak_lat-tw_width, peak_lat+tw_width, alpha=0.5, color='lightgrey')\n",
    "\n",
    "        \n",
    "# Save images to files\n",
    "fig.savefig(waveplot_stem + 'allcond_legend_tw.' + fig_format)\n",
    "\n",
    "plt.show()"
   ]
  },
  {
   "cell_type": "markdown",
   "id": "0c266ea0-babe-466d-84f8-6361865e04c7",
   "metadata": {},
   "source": [
    "### GFP"
   ]
  },
  {
   "cell_type": "code",
   "execution_count": null,
   "id": "ae97150e-80a8-4675-8aed-2479985d98e2",
   "metadata": {},
   "outputs": [],
   "source": [
    "ylim = {'eeg':[0, 12]}\n",
    "\n",
    "fig, axs = plt.subplots(1, 2, figsize=waveplot_figsize)    \n",
    "ax = 0\n",
    "for roi, chans in rois.items():\n",
    "    if ax == 0:\n",
    "        show=False\n",
    "    else:\n",
    "        show=True\n",
    "\n",
    "    mne.viz.plot_compare_evokeds({c:evoked[c] for c in conditions},\n",
    "                                 picks=chans, #combine='mean',\n",
    "                                 title=(roi),\n",
    "                                 colors=colors, linestyles=linestyles,\n",
    "                                 ylim=ylim,\n",
    "                                 show_sensors='upper right', legend='lower right', \n",
    "                                 ci=False,\n",
    "                                 axes=axs[ax], show=show\n",
    "                                );\n",
    "    ax += 1\n",
    "\n",
    "# Save images to files\n",
    "fig.savefig(waveplot_stem + 'allcond_gfp_legend.' + fig_format)\n",
    "\n",
    "plt.show()"
   ]
  },
  {
   "cell_type": "markdown",
   "id": "russian-scheduling",
   "metadata": {},
   "source": [
    "### With CIs"
   ]
  },
  {
   "cell_type": "code",
   "execution_count": null,
   "id": "appreciated-heaven",
   "metadata": {},
   "outputs": [],
   "source": [
    "ylim = {'eeg':[-12, 10]}\n",
    "\n",
    "fig, axs = plt.subplots(1, 2, figsize=waveplot_figsize)    \n",
    "ax = 0\n",
    "for roi, chans in rois.items():\n",
    "    if ax == 0:\n",
    "        show=False\n",
    "    else:\n",
    "        show=True\n",
    "\n",
    "    mne.viz.plot_compare_evokeds({c:evoked[c] for c in conditions},\n",
    "                                 picks=chans, combine='mean',\n",
    "                                 title=(roi),\n",
    "                                 colors=colors, linestyles=linestyles,\n",
    "                                 ylim=ylim,\n",
    "                                 show_sensors='upper right', legend='lower right', \n",
    "                                 ci=True,\n",
    "                                 axes=axs[ax], show=show\n",
    "                                );\n",
    "    ax += 1\n",
    "\n",
    "# Save images to files\n",
    "fig.savefig(waveplot_stem + 'allcond_CIs.' + fig_format)\n",
    "\n",
    "plt.show()"
   ]
  },
  {
   "cell_type": "markdown",
   "id": "b85afaf8-400b-49b3-ac60-00d0d09e8e4c",
   "metadata": {},
   "source": [
    "## Pairwise contrasts"
   ]
  },
  {
   "cell_type": "code",
   "execution_count": null,
   "id": "8ee4cc8d-8ce2-4e6f-b9ea-5fb311d4452b",
   "metadata": {},
   "outputs": [],
   "source": [
    "ylim = {'eeg':[-10.5, 10]}\n",
    "\n",
    "for contr in contrasts:    \n",
    "    fig, axs = plt.subplots(1, 2, figsize=waveplot_figsize)    \n",
    "    ax = 0\n",
    "    for roi, chans in rois.items():\n",
    "        if ax == 0:\n",
    "            show=False\n",
    "        else:\n",
    "            show=True\n",
    "\n",
    "        mne.viz.plot_compare_evokeds({c:evoked[c] for c in contrasts[contr]},\n",
    "                                     picks=chans, combine='mean',\n",
    "                                     title=(contr + ' ' + roi),\n",
    "                                     colors=[colors[i] for i in contrasts[contr]], linestyles=['-','--'],\n",
    "                                     ylim=ylim,\n",
    "                                 show_sensors='upper right', legend='lower right', \n",
    "                                     ci=False,\n",
    "                                     axes=axs[ax], show=show\n",
    "                                    );\n",
    "        # Save images to files\n",
    "        fig.savefig(waveplot_stem + contr + '.' + fig_format)\n",
    "        \n",
    "        ax += 1\n",
    "\n",
    "\n",
    "plt.show()"
   ]
  },
  {
   "cell_type": "markdown",
   "id": "indie-negotiation",
   "metadata": {},
   "source": [
    "---\n",
    "# Difference Waves (Contrasts) "
   ]
  },
  {
   "cell_type": "code",
   "execution_count": null,
   "id": "rocky-anthony",
   "metadata": {},
   "outputs": [],
   "source": [
    "\n",
    "ylim = {'eeg':[-6, 3]}\n",
    "component_timewin = (peak_lat - tw_width,\n",
    "                     peak_lat + tw_width\n",
    "                     )\n",
    "\n",
    "for contr in contrasts:\n",
    "    fig, axs = plt.subplots(1, 2, figsize=waveplot_figsize)   \n",
    "    ax = 0\n",
    "    for roi, chans in rois.items():\n",
    "        if ax == 0:\n",
    "            show=False\n",
    "        else:\n",
    "            show=True\n",
    "            \n",
    "        mne.viz.plot_compare_evokeds({contr:evoked_diff[contr]},\n",
    "                                     picks=chans, combine='mean',\n",
    "                                     title=(contr + ' ' + roi),\n",
    "                                     ylim=ylim,\n",
    "                                    #  vlines=[0, \n",
    "                                    #          component_timewin[0], \n",
    "                                    #          component_timewin[1]\n",
    "                                    #          ],\n",
    "                                     show_sensors='upper right', legend=False, \n",
    "                                     ci=True,\n",
    "                                     colors=[contr_colors[contr]], \n",
    "                                     axes=axs[ax], show=show\n",
    "                                    );\n",
    "        ax += 1\n",
    "        \n",
    "    for ax in axs:\n",
    "        # these don't show in the notebook, but do in the saved files\n",
    "        ax.vlines([peak_lat-tw_width, peak_lat+tw_width], \n",
    "                       ylim['eeg'][0], ylim['eeg'][1],\n",
    "                       color='gray', linestyle=':'\n",
    "                      )\n",
    "\n",
    "    # Save images to files\n",
    "    fig.savefig(waveplot_stem + 'diff_' + contr + '.' + fig_format)\n",
    "       \n",
    "\n",
    "    plt.show()"
   ]
  },
  {
   "cell_type": "markdown",
   "id": "1f5160f4",
   "metadata": {},
   "source": [
    "## Topoplots"
   ]
  },
  {
   "cell_type": "code",
   "execution_count": null,
   "id": "hundred-stage",
   "metadata": {
    "inputHidden": false,
    "outputExpanded": true,
    "outputHidden": false
   },
   "outputs": [],
   "source": [
    "times = np.arange(-.090, tmax - .050, .050)\n",
    "\n",
    "uv_range = 4\n",
    "contr_ff = ['CS-FF', 'RW-FF', 'PW-FF', 'NW-FF']\n",
    "for contr in contr_ff:\n",
    "     mne.grand_average(evoked_diff[contr]).plot_topomap(times, average=tw_width,\n",
    "                                                       ch_type='eeg', \n",
    "                                                       show_names=False, sensors=False, contours=False, \n",
    "                                                       colorbar=True, \n",
    "                                                       vmin=-uv_range, vmax=uv_range,\n",
    "                                                       mask=mask, \n",
    "                                                       title=(contr)\n",
    "                                                      ).savefig(topoplot_stem + 'ts_' + contr + '.' + fig_format); "
   ]
  },
  {
   "cell_type": "markdown",
   "id": "0c308cab",
   "metadata": {},
   "source": [
    "### Plot with smaller scale for non-FF contrasts"
   ]
  },
  {
   "cell_type": "code",
   "execution_count": null,
   "id": "hundred-stage",
   "metadata": {
    "inputHidden": false,
    "outputExpanded": true,
    "outputHidden": false
   },
   "outputs": [],
   "source": [
    "times = np.arange(-.090, tmax - .050, .050)\n",
    "\n",
    "uv_range = 2\n",
    "\n",
    "contr_no_ff = ['RW-CS', 'PW-CS', 'NW-CS', 'RW-PW', 'RW-NW', 'NW-PW']\n",
    "\n",
    "for contr in contr_no_ff:\n",
    "     mne.grand_average(evoked_diff[contr]).plot_topomap(times, average=tw_width,\n",
    "                                                       ch_type='eeg', \n",
    "                                                       show_names=False, sensors=False, contours=False, \n",
    "                                                       colorbar=True, \n",
    "                                                       vmin=-uv_range, vmax=uv_range,\n",
    "                                                       mask=mask, \n",
    "                                                       title=(contr)\n",
    "                                                      ).savefig(topoplot_stem + 'ts_' + contr + '.' + fig_format); "
   ]
  },
  {
   "cell_type": "markdown",
   "id": "fad77b16-b90e-4c7d-8d5c-e2c683967cd1",
   "metadata": {
    "tags": []
   },
   "source": [
    "### Average over N170 peak window"
   ]
  },
  {
   "cell_type": "code",
   "execution_count": null,
   "id": "8d3dd047-ebde-4a53-9cff-441ad5b5ef3a",
   "metadata": {
    "inputHidden": false,
    "outputExpanded": true,
    "outputHidden": false,
    "tags": []
   },
   "outputs": [],
   "source": [
    "uv_range = 3\n",
    "\n",
    "for contr in contr_ff:\n",
    "    mne.grand_average(evoked_diff[contr]).plot_topomap(peak_lat, average=tw_width,\n",
    "                                                       ch_type='eeg', \n",
    "                                                       show_names=False, sensors=False, contours=False, \n",
    "                                                       colorbar=True, size=3, \n",
    "                                                       vmin=-uv_range, vmax=uv_range,\n",
    "                                                       title=(contr),\n",
    "                                                       mask=mask, \n",
    "                                                       mask_params=dict(marker='o', \n",
    "                                                                        markerfacecolor='w', \n",
    "                                                                        markeredgecolor='k',\n",
    "                                                                        linewidth=0, \n",
    "                                                                        markersize=3)\n",
    "                                                ).savefig(topoplot_stem + contr + '.' + fig_format); "
   ]
  },
  {
   "cell_type": "code",
   "execution_count": null,
   "id": "8d3dd047-ebde-4a53-9cff-441ad5b5ef3a",
   "metadata": {
    "inputHidden": false,
    "outputExpanded": true,
    "outputHidden": false,
    "tags": []
   },
   "outputs": [],
   "source": [
    "uv_range = 2\n",
    "\n",
    "for contr in contr_no_ff:\n",
    "    mne.grand_average(evoked_diff[contr]).plot_topomap(peak_lat, average=tw_width,\n",
    "                                                       ch_type='eeg', \n",
    "                                                       show_names=False, sensors=False, contours=False, \n",
    "                                                       colorbar=True, size=3, \n",
    "                                                       vmin=-uv_range, vmax=uv_range,\n",
    "                                                       title=(contr),\n",
    "                                                       mask=mask, \n",
    "                                                       mask_params=dict(marker='o', \n",
    "                                                                        markerfacecolor='w', \n",
    "                                                                        markeredgecolor='k',\n",
    "                                                                        linewidth=0, \n",
    "                                                                        markersize=3)\n",
    "                                                ).savefig(topoplot_stem + contr + '.' + fig_format); "
   ]
  },
  {
   "cell_type": "code",
   "execution_count": null,
   "id": "23a55250",
   "metadata": {},
   "outputs": [],
   "source": []
  }
 ],
 "metadata": {
  "kernelspec": {
   "display_name": "Python 3.10.6 ('eeg')",
   "language": "python",
   "name": "python3"
  },
  "language_info": {
   "codemirror_mode": {
    "name": "ipython",
    "version": 3
   },
   "file_extension": ".py",
   "mimetype": "text/x-python",
   "name": "python",
   "nbconvert_exporter": "python",
   "pygments_lexer": "ipython3",
   "version": "3.10.6 | packaged by conda-forge | (main, Aug 22 2022, 20:41:22) [Clang 13.0.1 ]"
  },
  "vscode": {
   "interpreter": {
    "hash": "a8ee0125304c48a7dae18728506102a5d66693cc245d7232811a78e6cb7f32b3"
   }
  }
 },
 "nbformat": 4,
 "nbformat_minor": 5
}
