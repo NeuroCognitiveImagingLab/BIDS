{
 "cells": [
  {
   "attachments": {},
   "cell_type": "markdown",
   "id": "latin-footage",
   "metadata": {},
   "source": [
    "# ERP Visualization \n",
    "## Butterfly plots and electrode montage\n",
    "\n",
    "Some general-purpose plots.\n",
    "\n",
    "---\n",
    "Copyright 2023 [Aaron J Newman](https://github.com/aaronjnewman), [NeuroCognitive Imaging Lab](http://ncil.science), [Dalhousie University](https://dal.ca)\n",
    "\n",
    "Released under the [The 3-Clause BSD License](https://opensource.org/licenses/BSD-3-Clause)\n",
    "\n",
    "---"
   ]
  },
  {
   "cell_type": "markdown",
   "id": "graphic-tradition",
   "metadata": {},
   "source": [
    "## Load in the necessary libraries/packages we'll need"
   ]
  },
  {
   "cell_type": "code",
   "execution_count": null,
   "id": "dense-accounting",
   "metadata": {},
   "outputs": [],
   "source": [
    "import pandas as pd\n",
    "import numpy as np\n",
    "\n",
    "import matplotlib\n",
    "import matplotlib.pyplot as plt\n",
    "import seaborn as sns\n",
    "import os.path as op\n",
    "from glob import glob\n",
    "from pathlib import Path\n",
    "import yaml\n",
    "from yaml import CLoader as Loader\n",
    "\n",
    "import mne\n",
    "mne.set_log_level('error')"
   ]
  },
  {
   "cell_type": "markdown",
   "id": "056b8946-693c-4056-97e0-51a3e4cf37ce",
   "metadata": {},
   "source": [
    "## Read Parameters from config.yml\n",
    "\n",
    "Will import study-level parameters from `config.yml` in `bids_root`"
   ]
  },
  {
   "cell_type": "code",
   "execution_count": null,
   "id": "9b6729a5-b33e-40d0-bfa1-dcacaee7fdff",
   "metadata": {},
   "outputs": [],
   "source": [
    "component = 'n170' "
   ]
  },
  {
   "cell_type": "code",
   "execution_count": null,
   "id": "4ed2575b-4e47-4225-b250-dea80acf202e",
   "metadata": {},
   "outputs": [],
   "source": [
    "# this shouldn't change if you run this script from its default location in code/import\n",
    "bids_root = '../..'\n",
    "\n",
    "cfg_file = op.join(bids_root, 'config.yml')\n",
    "with open(cfg_file, 'r') as f:\n",
    "    config = yaml.load(f, Loader=Loader)\n",
    "\n",
    "study_name = config['study_name']\n",
    "task = config['task']\n",
    "data_type = config['data_type']\n",
    "eog = {k: v for d in config['eog'] for k, v in d.items()}\n",
    "montage_fname = config['montage_fname']\n",
    "event_id = {k: v.pop() for d in config['events'] for k, v in d.items()}\n",
    "\n",
    "n_jobs = config['preprocessing_settings']['n_jobs']\n",
    "\n",
    "component_p = config['components'][component]\n",
    "component_meas = component_p['component_meas']\n"
   ]
  },
  {
   "cell_type": "markdown",
   "id": "6e54d3e1-9826-4e7e-ae75-03a6f920e4fc",
   "metadata": {},
   "source": [
    "## Time windows of interest"
   ]
  },
  {
   "cell_type": "code",
   "execution_count": null,
   "id": "18d429cf-3715-49cb-b826-e54f61cd41d9",
   "metadata": {},
   "outputs": [],
   "source": [
    "# Define the total length of the epoch \n",
    "# this can be less than what is in the input files; will use the crop function\n",
    "t_min = float(component_p['t_min'])\n",
    "t_max =  float(component_p['t_max'])\n",
    "baseline = eval(component_p['baseline'])\n",
    "\n",
    "# value obtained from butterfly plots visual inspection and added to config.yml\n",
    "peak_lat = component_p['peak_lat']\n",
    "\n",
    "tw_width = component_p['tw_width']\n",
    "\n",
    "# Amount of time to shift event codes by, based on empirical testing with photocell\n",
    "#  to determine lag between event code and actual stimulus appearance on screen.\n",
    "#  For reasons that are unclear, we need to double this value (in sec) to get the correct shift\n",
    "tshift = config['t_shift']"
   ]
  },
  {
   "cell_type": "markdown",
   "id": "characteristic-today",
   "metadata": {},
   "source": [
    "## Conditions and Contrasts of Interest"
   ]
  },
  {
   "cell_type": "code",
   "execution_count": null,
   "id": "a70824d1-db5b-479d-8d30-9b263579c344",
   "metadata": {},
   "outputs": [],
   "source": [
    "conditions = list(event_id.values())\n",
    "\n",
    "contrasts = {'CS-FF':['ConsonantString', 'FalseFont'],\n",
    "             'RW-FF':['RealWord', 'FalseFont'],\n",
    "             'PW-FF':['PseudoWord', 'FalseFont'],\n",
    "             'NW-FF':['NovelWord', 'FalseFont'],\n",
    "             'RW-CS':['RealWord', 'ConsonantString'],\n",
    "             'PW-CS':['PseudoWord', 'ConsonantString'],\n",
    "             'NW-CS':['NovelWord', 'ConsonantString'],\n",
    "             'RW-PW':['RealWord', 'PseudoWord'],\n",
    "             'RW-NW':['RealWord', 'NovelWord'],\n",
    "             'NW-PW':['NovelWord', 'PseudoWord']\n",
    "             }"
   ]
  },
  {
   "cell_type": "markdown",
   "id": "0011eb68-416b-403b-827a-14f9ff378b78",
   "metadata": {
    "tags": []
   },
   "source": [
    "## Paths"
   ]
  },
  {
   "cell_type": "code",
   "execution_count": null,
   "id": "a0d2b4fc-7c40-4a7d-b529-717355fd03e4",
   "metadata": {},
   "outputs": [],
   "source": [
    "source_path = op.join(bids_root, 'derivatives', 'erp_preprocessing')\n",
    "\n",
    "derivatives_path = op.join(bids_root, 'derivatives', 'erp_visualization/full_tw')\n",
    "if Path(derivatives_path).exists() == False:\n",
    "    Path(derivatives_path).mkdir(parents=True)\n",
    "\n",
    "fig_path = op.join(derivatives_path, 'figures')\n",
    "if Path(fig_path).exists() == False:\n",
    "    Path(fig_path).mkdir(parents=True) \n",
    "    \n",
    "epochs_suffix = '-epo.fif'"
   ]
  },
  {
   "cell_type": "markdown",
   "id": "761c9484",
   "metadata": {},
   "source": [
    "## Figure settings"
   ]
  },
  {
   "cell_type": "code",
   "execution_count": null,
   "id": "ecbe3850-a8b5-4bf1-8720-e1cac9a69768",
   "metadata": {},
   "outputs": [],
   "source": [
    "colors = {'FalseFont':sns.color_palette('colorblind')[0], \n",
    "          'ConsonantString':sns.color_palette('colorblind')[1], \n",
    "          'PseudoWord':sns.color_palette('colorblind')[2], \n",
    "          'NovelWord':sns.color_palette('colorblind')[3], \n",
    "          'RealWord':sns.color_palette('colorblind')[4]}\n",
    "\n",
    "linestyles = {'FalseFont':'-', \n",
    "              'ConsonantString': ':', \n",
    "              'PseudoWord':'-.', \n",
    "              'NovelWord':'--', \n",
    "              'RealWord':'-'}\n",
    "\n",
    "# For big arrays of waveplots\n",
    "waveplot_figsize = (18, 6)\n",
    "fig_format = 'pdf'\n",
    "\n",
    "jointplot_stem = fig_path + '/jointplot_avgref_'  \n",
    "waveplot_stem = fig_path + '/' + component + '_waveforms_full_tw_'\n",
    "topoplot_stem = fig_path + '/' + component + '_topoplot_full_tw_'"
   ]
  },
  {
   "cell_type": "markdown",
   "id": "1dc3c393",
   "metadata": {},
   "source": [
    "## Subject list"
   ]
  },
  {
   "cell_type": "code",
   "execution_count": null,
   "id": "2a6d4d45-eebc-4f62-9902-cd5dc6a47dad",
   "metadata": {},
   "outputs": [],
   "source": [
    "prefix = 'sub-'\n",
    "subjects = sorted([s[-7:] for s in glob(source_path + '/' + prefix + '*')])"
   ]
  },
  {
   "cell_type": "markdown",
   "id": "cleared-contemporary",
   "metadata": {},
   "source": [
    "---\n",
    "# Read in the data"
   ]
  },
  {
   "cell_type": "markdown",
   "id": "ac231b52-25e8-48e7-a2d9-5faca800f64f",
   "metadata": {},
   "source": [
    "When we read the data, we also crop the epochs as specified above, and time-shift the event onsets to match true stimulus timing"
   ]
  },
  {
   "cell_type": "code",
   "execution_count": null,
   "id": "promotional-nancy",
   "metadata": {},
   "outputs": [],
   "source": [
    "epochs = {}\n",
    "for subject in subjects:\n",
    "    subj_path = op.join(source_path, subject, 'eeg')\n",
    "    epochs[subject] = mne.read_epochs(str(subj_path + '/' + subject + '_task-' + task + '-epo.fif'),\n",
    "                                         verbose=None, \n",
    "                                         preload=True)\n",
    "    # correct for stimulus presentation delay\n",
    "    epochs[subject]._raw_times = epochs[subject]._raw_times - tshift\n",
    "    epochs[subject]._times_readonly = epochs[subject]._times_readonly - tshift\n",
    "    \n",
    "    epochs[subject].crop(tmin=t_min, tmax=t_max).apply_baseline(baseline)\n",
    "    \n",
    "    epochs[subject].set_montage(montage_fname)\n",
    "    # epochs[subject].drop_channels(drop_chs)"
   ]
  },
  {
   "cell_type": "markdown",
   "id": "useful-india",
   "metadata": {
    "tags": []
   },
   "source": [
    "## Create Evokeds"
   ]
  },
  {
   "cell_type": "code",
   "execution_count": null,
   "id": "alpha-integral",
   "metadata": {
    "scrolled": true
   },
   "outputs": [],
   "source": [
    "evoked = {}\n",
    "for cond in conditions:\n",
    "    evoked[cond] = [epochs[subject][cond].average() for subject in subjects]"
   ]
  },
  {
   "cell_type": "markdown",
   "id": "quiet-referral",
   "metadata": {
    "tags": []
   },
   "source": [
    "## Grand Averages"
   ]
  },
  {
   "cell_type": "code",
   "execution_count": null,
   "id": "painted-volleyball",
   "metadata": {
    "scrolled": true
   },
   "outputs": [],
   "source": [
    "gavg = {}\n",
    "for cond in conditions:\n",
    "    gavg[cond] = mne.grand_average(evoked[cond])"
   ]
  },
  {
   "cell_type": "markdown",
   "id": "6a26b4fb",
   "metadata": {},
   "source": [
    "### average across conditions"
   ]
  },
  {
   "cell_type": "code",
   "execution_count": null,
   "id": "808e9089",
   "metadata": {},
   "outputs": [],
   "source": [
    "evoked_all = [epochs[subject].average() for subject in subjects]\n",
    "gavg_all = mne.grand_average(evoked_all)"
   ]
  },
  {
   "cell_type": "markdown",
   "id": "837df7fc-2e2b-4f6d-9bb3-ec07656f0437",
   "metadata": {},
   "source": [
    "## Compute Contrasts\n",
    "Differences between pairs of conditions"
   ]
  },
  {
   "cell_type": "code",
   "execution_count": null,
   "id": "b3a9600c-376d-4517-b185-1943171fa9a8",
   "metadata": {},
   "outputs": [],
   "source": [
    "evoked_diff = {}\n",
    "\n",
    "for contr, conds in contrasts.items():\n",
    "    evoked_diff[contr] = [mne.combine_evoked([ c1, c2],\n",
    "                                                weights=[1, -1])\n",
    "                             for (c1, c2) in zip(evoked[conds[0]], evoked[conds[1]])\n",
    "                            ]"
   ]
  },
  {
   "cell_type": "markdown",
   "id": "be5e2a77-f108-4b5a-82eb-231661a7f912",
   "metadata": {},
   "source": [
    "## Plot montage\n",
    "In this script because it's generic"
   ]
  },
  {
   "cell_type": "code",
   "execution_count": null,
   "id": "8456913a-4569-416b-b723-baacb7355db5",
   "metadata": {},
   "outputs": [],
   "source": [
    "matplotlib.rcParams['figure.dpi'] = 72\n",
    "mne.viz.plot_sensors(gavg[conditions[0]].info, \n",
    "                     show_names=True,\n",
    "                     pointsize=10,\n",
    "                     ).savefig(fig_path + '/montage.' + fig_format)\n",
    "plt.show()\n"
   ]
  },
  {
   "cell_type": "code",
   "execution_count": null,
   "id": "8456913a-4569-416b-b723-baacb7355db5",
   "metadata": {},
   "outputs": [],
   "source": [
    "matplotlib.rcParams['figure.dpi'] = 72\n",
    "mne.viz.plot_sensors(gavg[conditions[0]].info, \n",
    "                     show_names=False,\n",
    "                     pointsize=125,\n",
    "                     ).savefig(fig_path + '/montage_nolabels.' + fig_format)\n",
    "plt.show()\n"
   ]
  },
  {
   "cell_type": "markdown",
   "id": "0e16d53b-923b-4ceb-977a-24932fdf107f",
   "metadata": {},
   "source": [
    "## Define ROIs\n",
    "clusters of electrodes to average over for waveform plots"
   ]
  },
  {
   "cell_type": "code",
   "execution_count": null,
   "id": "b9e08139-eae7-4571-8e4a-ce30df5e12b1",
   "metadata": {},
   "outputs": [],
   "source": [
    "# convoluted unpacking from yaml\n",
    "rois_all = {k: v for d in config['rois'] for k, v in d.items()}\n",
    "for roi, chs in rois_all.items():\n",
    "    rois_all[roi]= [c.split(', ') for c in chs][0]\n",
    "\n",
    "rois = {roi:rois_all[roi]  for roi in component_p['rois']}"
   ]
  },
  {
   "cell_type": "markdown",
   "id": "c705df4e-4756-498a-891f-50fae522bfab",
   "metadata": {},
   "source": [
    "#### Create mask identifying ROI electrodes"
   ]
  },
  {
   "cell_type": "code",
   "execution_count": null,
   "id": "9ef1bff2-3720-4595-90c2-02a1bbb072ad",
   "metadata": {},
   "outputs": [],
   "source": [
    "chs = pd.Series(gavg[conditions[0]].ch_names)\n",
    "\n",
    "roi_elec = [i for c in rois.values() for i in c ]\n",
    "mask = chs.isin(roi_elec).to_numpy()\n",
    "num_tp = gavg[conditions[0]].data.shape[1]\n",
    "mask = np.repeat(mask[:, np.newaxis], num_tp, axis=1)\n"
   ]
  },
  {
   "cell_type": "markdown",
   "id": "appointed-presentation",
   "metadata": {},
   "source": [
    "## Butterfly plots\n",
    "\n",
    "Times for topo maps were hard-coded based on first running the plots without specifying peak times. Times from the automatic peak finding were then used in a way that is consistent across all conditions."
   ]
  },
  {
   "cell_type": "code",
   "execution_count": null,
   "id": "structured-culture",
   "metadata": {
    "scrolled": true,
    "tags": []
   },
   "outputs": [],
   "source": [
    "uv_range = 13\n",
    "ylim = 13\n",
    "plt.close()\n",
    "gavg_all.plot_joint(title=('Average across all conditions'), \n",
    "                            ts_args={'hline':[0], \n",
    "                                    'ylim':{'eeg':[-ylim, ylim]}\n",
    "                                    },\n",
    "                            topomap_args={'sensors':False, 'contours':False, \n",
    "                                        'vmin':-uv_range, 'vmax':uv_range},\n",
    "                            \n",
    "                        ) #.savefig(jointplot_stem + cond + '.' + fig_format)    \n",
    "plt.show() "
   ]
  },
  {
   "cell_type": "markdown",
   "id": "a4f8854f",
   "metadata": {},
   "source": [
    "### Set peak times for ea condition based on above"
   ]
  },
  {
   "cell_type": "code",
   "execution_count": null,
   "id": "faafcf9f",
   "metadata": {},
   "outputs": [],
   "source": [
    "peak_times = [.106, .190, .306, .428]"
   ]
  },
  {
   "cell_type": "code",
   "execution_count": null,
   "id": "structured-culture",
   "metadata": {
    "scrolled": true,
    "tags": []
   },
   "outputs": [],
   "source": [
    "uv_range = 13\n",
    "ylim = 13\n",
    "\n",
    "for cond in conditions:\n",
    "    gavg[cond].plot_joint(times=peak_times,\n",
    "                             title=(cond), \n",
    "                             ts_args={'hline':[0], \n",
    "                                      'ylim':{'eeg':[-ylim, ylim]}\n",
    "                                      },\n",
    "                             topomap_args={'sensors':False, 'contours':False, \n",
    "                                           'vmin':-uv_range, 'vmax':uv_range}\n",
    "                            ).savefig(jointplot_stem + cond + '.' + fig_format)     "
   ]
  },
  {
   "cell_type": "markdown",
   "id": "952cea2e-4637-41f6-a8ea-b0c83d660978",
   "metadata": {},
   "source": [
    "## Waveforms"
   ]
  },
  {
   "cell_type": "code",
   "execution_count": null,
   "id": "779acb09-2df0-43ec-994c-a175a9665e53",
   "metadata": {},
   "outputs": [],
   "source": [
    "ylim = {'eeg':[-10.5, 10]}\n",
    "\n",
    "fig, axs = plt.subplots(1, 2, figsize=waveplot_figsize)    \n",
    "ax = 0\n",
    "for roi, chans in rois.items():\n",
    "    if ax == 0:\n",
    "        show=False\n",
    "    else:\n",
    "        show=True\n",
    "\n",
    "    mne.viz.plot_compare_evokeds({c:evoked[c] for c in conditions},\n",
    "                                 picks=chans, combine='mean',\n",
    "                                 title=(roi),\n",
    "                                 colors=colors, linestyles=linestyles,\n",
    "                                 ylim=ylim,\n",
    "                                 show_sensors='upper right', legend='lower right', \n",
    "                                 ci=False,\n",
    "                                 axes=axs[ax], show=show\n",
    "                                );\n",
    "    ax += 1\n",
    "\n",
    "# Save images to files\n",
    "fig.savefig(waveplot_stem + 'allcond_legend.' + fig_format)\n",
    "\n",
    "plt.show()"
   ]
  },
  {
   "cell_type": "markdown",
   "id": "646d2ee0-f928-4df2-8868-39c4ff5b85af",
   "metadata": {},
   "source": [
    "---\n",
    "# Visualization"
   ]
  },
  {
   "cell_type": "markdown",
   "id": "570f7914-7415-4170-9fc7-b620bd3c34b2",
   "metadata": {},
   "source": [
    "## Topo map time series for each condition"
   ]
  },
  {
   "cell_type": "code",
   "execution_count": null,
   "id": "e677acf1-cb6c-44f0-ac74-75a6a253a149",
   "metadata": {
    "inputHidden": false,
    "outputExpanded": true,
    "outputHidden": false,
    "tags": []
   },
   "outputs": [],
   "source": [
    "times = np.arange(t_min, t_max, .100)\n",
    "\n",
    "uv_range = 10\n",
    "\n",
    "\n",
    "for cond in conditions:\n",
    "    gavg[cond].plot_topomap(times, average=tw_width,\n",
    "                            ch_type='eeg', \n",
    "                            show_names=False, sensors=False, contours=False, \n",
    "                            colorbar=True, \n",
    "                            vmin=-uv_range, vmax=uv_range,\n",
    "                            title=(cond),\n",
    "                            mask=mask,\n",
    "                            mask_params=dict(marker='o', \n",
    "                                             markerfacecolor='w', \n",
    "                                             markeredgecolor='k',\n",
    "                                             linewidth=0, \n",
    "                                             markersize=6)\n",
    "                           )\n"
   ]
  },
  {
   "cell_type": "markdown",
   "id": "531c6762-be68-4612-88c2-154d4229142f",
   "metadata": {},
   "source": [
    "## topoplots of contrasts"
   ]
  },
  {
   "cell_type": "code",
   "execution_count": null,
   "id": "0f20ae71-f835-4461-8487-187185f46679",
   "metadata": {
    "inputHidden": false,
    "outputExpanded": true,
    "outputHidden": false
   },
   "outputs": [],
   "source": [
    "times = np.arange(.090, t_max, .100)\n",
    "\n",
    "uv_range = 5\n",
    "\n",
    "for contr in contrasts:\n",
    "     mne.grand_average(evoked_diff[contr]).plot_topomap(times, average=tw_width,\n",
    "                                                       ch_type='eeg', \n",
    "                                                       show_names=False, sensors=False, contours=False, \n",
    "                                                       colorbar=True, \n",
    "                                                       vmin=-uv_range, vmax=uv_range,\n",
    "                                                        mask=mask,\n",
    "                                                       title=(contr)\n",
    "                                                      ).savefig(topoplot_stem + 'ts_' + contr + '.' + fig_format); "
   ]
  },
  {
   "cell_type": "markdown",
   "id": "81a2276f",
   "metadata": {},
   "source": [
    "## Plot at smaller microVolt range, to easier see effects smaller than contrasts with FF"
   ]
  },
  {
   "cell_type": "code",
   "execution_count": null,
   "id": "0f20ae71-f835-4461-8487-187185f46679",
   "metadata": {
    "inputHidden": false,
    "outputExpanded": true,
    "outputHidden": false
   },
   "outputs": [],
   "source": [
    "times = np.arange(.090, t_max, .100)\n",
    "\n",
    "uv_range = 2\n",
    "\n",
    "contr_no_ff = ['RW-CS', 'PW-CS', 'NW-CS', 'RW-PW', 'RW-NW', 'NW-PW']\n",
    "\n",
    "for contr in contr_no_ff:\n",
    "     mne.grand_average(evoked_diff[contr]).plot_topomap(times, average=tw_width,\n",
    "                                                       ch_type='eeg', \n",
    "                                                       show_names=False, sensors=False, contours=False, \n",
    "                                                       colorbar=True, \n",
    "                                                       vmin=-uv_range, vmax=uv_range,\n",
    "                                                        mask=mask,\n",
    "                                                       title=(contr)\n",
    "                                                      ).savefig(topoplot_stem + 'ts_' + contr + '.' + fig_format); "
   ]
  },
  {
   "cell_type": "code",
   "execution_count": null,
   "id": "ed1586f5-6309-4cc7-b301-780fd70b3dae",
   "metadata": {},
   "outputs": [],
   "source": []
  }
 ],
 "metadata": {
  "kernelspec": {
   "display_name": "eeg",
   "language": "python",
   "name": "python3"
  },
  "language_info": {
   "codemirror_mode": {
    "name": "ipython",
    "version": 3
   },
   "file_extension": ".py",
   "mimetype": "text/x-python",
   "name": "python",
   "nbconvert_exporter": "python",
   "pygments_lexer": "ipython3",
   "version": "3.10.6"
  },
  "vscode": {
   "interpreter": {
    "hash": "a8ee0125304c48a7dae18728506102a5d66693cc245d7232811a78e6cb7f32b3"
   }
  }
 },
 "nbformat": 4,
 "nbformat_minor": 5
}
