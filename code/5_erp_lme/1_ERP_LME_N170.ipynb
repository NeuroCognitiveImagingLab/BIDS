{
 "cells": [
  {
   "attachments": {},
   "cell_type": "markdown",
   "metadata": {},
   "source": [
    "# Linear Mixed Effects analysis\n",
    "## N170 Component (2 ROIs)\n",
    "\n",
    "---\n",
    "Copyright 2022 [Aaron J Newman](https://github.com/aaronjnewman), [NeuroCognitive Imaging Lab](http://ncil.science), [Dalhousie University](https://dal.ca)\n",
    "\n",
    "Released under the [BSD 3-clause license](https://opensource.org/licenses/BSD-3-Clause)\n",
    "\n",
    "---"
   ]
  },
  {
   "cell_type": "markdown",
   "metadata": {},
   "source": [
    "## Load necessary libraries"
   ]
  },
  {
   "cell_type": "code",
   "execution_count": null,
   "metadata": {
    "collapsed": false,
    "jupyter": {
     "outputs_hidden": false
    }
   },
   "outputs": [],
   "source": [
    "date()"
   ]
  },
  {
   "cell_type": "code",
   "execution_count": null,
   "metadata": {
    "collapsed": false,
    "jupyter": {
     "outputs_hidden": false
    }
   },
   "outputs": [],
   "source": [
    "library(tidyverse)\n",
    "library(arrow)\n",
    "library(ggplot2)\n",
    "library(mgcv)\n",
    "library(parallel)\n",
    "library(emmeans)\n",
    "library(sjPlot)\n",
    "library(caret)\n",
    "library(stargazer)\n",
    "library(yaml)"
   ]
  },
  {
   "cell_type": "markdown",
   "metadata": {},
   "source": [
    "## Set parameters for this analysis"
   ]
  },
  {
   "cell_type": "code",
   "execution_count": null,
   "metadata": {},
   "outputs": [],
   "source": [
    "component <- 'n170'\n",
    "subj_prefix <- 'sub-'\n",
    "cond_levels <- c('FalseFont', 'ConsonantString', 'PseudoWord', 'NovelWord', 'RealWord')\n",
    "\n",
    "cfg <- read_yaml('../../config.yml')\n",
    "component_rois <- cfg$components$n170$rois\n",
    "# num parallel processes for bam(). Should be less than the number of threads supported by your CPU\n",
    "num_cores <- cfg$preprocessing_settings$n_jobs\n",
    "\n",
    "# subjects to exclude\n",
    "exclude <- cfg$exclude\n",
    "\n",
    "options(\"scipen\"=100, \"digits\"=5, width=300)  # force decimal instead of scientific notation"
   ]
  },
  {
   "cell_type": "markdown",
   "metadata": {},
   "source": [
    "## File paths"
   ]
  },
  {
   "cell_type": "code",
   "execution_count": null,
   "metadata": {},
   "outputs": [],
   "source": [
    "bids_root = '../..'\n",
    "erp_path <- file.path(bids_root, 'derivatives', 'erp_measurement', component, 'data')\n",
    "behav_path <- file.path(bids_root, 'derivatives', 'behavioral_demographic', 'data')\n",
    "raw_path <- file.path(bids_root, 'rawdata')\n",
    "out_path <- file.path(bids_root, 'derivatives', 'erp_lme')\n",
    "\n",
    "# create output directories and any higher-level directories they are nested in, if they don't exist\n",
    "tab_path <- file.path(out_path, component, 'tables')\n",
    "dir.create(file.path(tab_path), recursive = TRUE, showWarnings = FALSE)\n",
    "\n",
    "fig_path <- file.path(out_path, component, 'figures')\n",
    "dir.create(file.path(fig_path), recursive = TRUE, showWarnings = FALSE)"
   ]
  },
  {
   "cell_type": "markdown",
   "metadata": {},
   "source": [
    "## Set options for plots"
   ]
  },
  {
   "cell_type": "code",
   "execution_count": null,
   "metadata": {},
   "outputs": [],
   "source": [
    "set_theme(base = theme_sjplot(),\n",
    "          title.size = 1.5,\n",
    "          title.align = 'center',\n",
    "          axis.title.size = 1.5,\n",
    "          axis.textsize.x=1.1,\n",
    "          axis.textsize.y=1.1,\n",
    "          legend.title.size = 1.5,\n",
    "          legend.item.size = 1.25,\n",
    "          legend.item.backcol = 'white',\n",
    "          legend.size = 1.5,\n",
    "          panel.gridcol.x='white',\n",
    "          panel.minor.gridcol='white'\n",
    "         )\n",
    "\n",
    "# Match colours with seaborn's colorblind palette\n",
    "# in python: [matplotlib.colors.to_hex(val) for val in colors.values()]\n",
    "sns_colors = c('#0173b2', '#de8f05', '#029e73', '#d55e00', '#cc78bc')             "
   ]
  },
  {
   "cell_type": "markdown",
   "metadata": {},
   "source": [
    "---\n",
    "## Load ERP Data"
   ]
  },
  {
   "cell_type": "code",
   "execution_count": null,
   "metadata": {},
   "outputs": [],
   "source": [
    "files <- Sys.glob(file.path(erp_path,  paste(subj_prefix, '*', sep=''), paste('*_indiv_trials_trimmed_*.feather', sep='')))\n",
    "\n",
    "df <- files %>% map_dfr(read_feather) %>%  \n",
    "        mutate_if(is.character,as.factor) %>%\n",
    "        select(-c('Component', '__index_level_0__')) %>% \n",
    "        filter(ROI %in% component_rois) %>% droplevels()\n",
    "        # keep only ROIs of interest for this component\n",
    "\n",
    "\n",
    "# set order of conditions\n",
    "df$Condition <- with(df, factor(Condition,  levels = cond_levels))\n",
    "\n",
    "# keep only ROIs of interest for this component\n",
    "# summary(df)"
   ]
  },
  {
   "cell_type": "markdown",
   "metadata": {
    "tags": []
   },
   "source": [
    "## Read behavioural data from LDT"
   ]
  },
  {
   "cell_type": "code",
   "execution_count": null,
   "metadata": {},
   "outputs": [],
   "source": [
    "acc <- read.csv(file.path(behav_path, 'ldt_acc_by_subj_wide.tsv'), sep='\\t')\n",
    "acc$participant_id <- as.factor(acc$participant_id)\n",
    "acc %>% rename(acc_CNST = ConsonantString,\n",
    "              acc_FFNT = FalseFont,\n",
    "              acc_PSWD= PseudoWord,\n",
    "              acc_NVWD = NovelWord,\n",
    "              acc_RLWD = RealWord\n",
    "              ) -> acc\n",
    "# summary(acc)"
   ]
  },
  {
   "cell_type": "code",
   "execution_count": null,
   "metadata": {},
   "outputs": [],
   "source": [
    "rt <- read.csv(file.path(behav_path, 'ldt_rt_trimmed_by_subj_wide.tsv'), sep='\\t')\n",
    "rt$participant_id <- as.factor(rt$participant_id)\n",
    "rt %>% rename(rt_CNST = ConsonantString,\n",
    "              rt_FFNT = FalseFont,\n",
    "              acc_PSWD= PseudoWord,\n",
    "              rt_NVWD = NovelWord,\n",
    "              rt_RLWD = RealWord\n",
    "              ) -> rt\n",
    "\n",
    "# summary(rt)"
   ]
  },
  {
   "attachments": {},
   "cell_type": "markdown",
   "metadata": {},
   "source": [
    "### merge LDT"
   ]
  },
  {
   "cell_type": "code",
   "execution_count": null,
   "metadata": {},
   "outputs": [],
   "source": [
    "ldt <- merge(acc, rt, by=c('participant_id'))\n",
    "# summary(ldt)\n",
    "df <- merge(df, ldt, by=c('participant_id'))"
   ]
  },
  {
   "attachments": {},
   "cell_type": "markdown",
   "metadata": {},
   "source": [
    "## Read demographic data"
   ]
  },
  {
   "cell_type": "code",
   "execution_count": null,
   "metadata": {},
   "outputs": [],
   "source": [
    "demog <- read.csv(file.path(raw_path, 'participants.tsv'), sep='\\t',\n",
    "                col.names=c('participant_id', 'group', 'sex', 'hand', 'age'),\n",
    "                ) %>% mutate_if(is.character,as.factor)  %>% select(-c('group'))\n",
    "# summary(demog)\n",
    "\n",
    "df <- merge(df, demog, by=c('participant_id'))"
   ]
  },
  {
   "cell_type": "markdown",
   "metadata": {},
   "source": [
    "## Read d prime data and merge\n",
    "calculated in `scripts/behavioral_demographic/5_LDT_stats.ipynb`"
   ]
  },
  {
   "cell_type": "code",
   "execution_count": null,
   "metadata": {},
   "outputs": [],
   "source": [
    "dprime <- read.csv(file.path(behav_path, 'ldt_sdt_data.tsv'), sep='\\t',\n",
    "                   colClasses=c('factor', 'numeric', 'numeric', 'numeric', 'numeric', 'numeric'))\n",
    "\n",
    "df <- merge(df, dprime, by='participant_id')"
   ]
  },
  {
   "attachments": {},
   "cell_type": "markdown",
   "metadata": {},
   "source": [
    "## Read standardized test data"
   ]
  },
  {
   "cell_type": "code",
   "execution_count": null,
   "metadata": {},
   "outputs": [],
   "source": [
    "behav <- read.csv(file.path(raw_path, 'participants_std_tests.tsv'), \n",
    "                sep='\\t') %>% mutate_if(is.character,as.factor)"
   ]
  },
  {
   "cell_type": "markdown",
   "metadata": {},
   "source": [
    "## Merge ERP and behavioural data"
   ]
  },
  {
   "cell_type": "code",
   "execution_count": null,
   "metadata": {},
   "outputs": [],
   "source": [
    "dat <- merge(df, behav, by='participant_id') %>%\n",
    "            filter(!participant_id %in% exclude)  %>% droplevels()\n",
    "summary(dat)"
   ]
  },
  {
   "cell_type": "markdown",
   "metadata": {},
   "source": [
    "### Visualize distributions"
   ]
  },
  {
   "cell_type": "code",
   "execution_count": null,
   "metadata": {},
   "outputs": [],
   "source": [
    "options(repr.plot.width=12, repr.plot.height=7)\n",
    "\n",
    "ggplot(dat, aes(y=Amplitude, x=Condition)) + \n",
    "    geom_boxplot(aes(color=Condition)) "
   ]
  },
  {
   "cell_type": "markdown",
   "metadata": {},
   "source": [
    "## Run initial full model and visualize diagnostics"
   ]
  },
  {
   "cell_type": "code",
   "execution_count": null,
   "metadata": {},
   "outputs": [],
   "source": [
    "dat$Condition <- fct_relevel(dat$Condition, 'FalseFont')\n"
   ]
  },
  {
   "cell_type": "code",
   "execution_count": null,
   "metadata": {
    "tags": []
   },
   "outputs": [],
   "source": [
    "# start timer\n",
    "start_time <- Sys.time()\n",
    "\n",
    "cl <- makeCluster(num_cores)  \n",
    "\n",
    "mod_full <- bam(Amplitude ~ Condition * ROI\n",
    "                  + s(participant_id, bs=\"re\")\n",
    "                  + s(Channel, participant_id, bs=\"re\") \n",
    "                  + s(Condition, participant_id, bs=\"re\"),\n",
    "                  data=dat, \n",
    "                  samfrac=0.1, cluster=cl, gc.level=2)\n",
    "\n",
    "stopCluster(cl)\n",
    "\n",
    "# print elpased time\n",
    "end_time <- Sys.time()\n",
    "print(end_time - start_time)"
   ]
  },
  {
   "cell_type": "code",
   "execution_count": null,
   "metadata": {
    "collapsed": false,
    "jupyter": {
     "outputs_hidden": false
    }
   },
   "outputs": [],
   "source": [
    "gam.check(mod_full)"
   ]
  },
  {
   "cell_type": "markdown",
   "metadata": {},
   "source": [
    "## GAM Modelling\n",
    "### Compute the family of models we will consider, including primary variables"
   ]
  },
  {
   "cell_type": "code",
   "execution_count": null,
   "metadata": {},
   "outputs": [],
   "source": [
    "# start timer\n",
    "start_time <- Sys.time()\n",
    "cl <- makeCluster(num_cores)\n",
    "\n",
    "\n",
    "cr2 <-  bam(Amplitude ~ (Condition + ROI)^2 \n",
    "         + s(participant_id, bs=\"re\"),\n",
    "          data=dat, \n",
    "          method='ML',\n",
    "          samfrac=0.1, cluster=cl, gc.level=2)\n",
    "\n",
    "cr1 <-  bam(Amplitude ~ (Condition + ROI) \n",
    "         + s(participant_id, bs=\"re\"),\n",
    "          data=dat, \n",
    "          method='ML',\n",
    "          samfrac=0.1, cluster=cl, gc.level=2)\n",
    "\n",
    "c1 <-  bam(Amplitude ~ Condition \n",
    "         + s(participant_id, bs=\"re\"),\n",
    "          data=dat, \n",
    "          method='ML',\n",
    "          samfrac=0.1, cluster=cl, gc.level=2)\n",
    "\n",
    "r1 <-  bam(Amplitude ~ ROI \n",
    "         + s(participant_id, bs=\"re\"),\n",
    "          data=dat, \n",
    "          method='ML',\n",
    "          samfrac=0.1, cluster=cl, gc.level=2)\n",
    "\n",
    "stopCluster(cl)\n",
    "# print elpased time\n",
    "end_time <- Sys.time()\n",
    "print(end_time - start_time)"
   ]
  },
  {
   "attachments": {},
   "cell_type": "markdown",
   "metadata": {},
   "source": [
    "### Compare family of models based on AIC\n",
    "Procedure based on Wagenmakers & Farrell, 2004. Models are sorted with teh best at the top of the table.  `AIC_ratio` reflects the relative likelihood of the best model relative to another model. That is, if `AIC_ratio = 2.1` for the next-best model, then the best model is 2.1x more likely than the next-best model."
   ]
  },
  {
   "cell_type": "code",
   "execution_count": null,
   "metadata": {},
   "outputs": [],
   "source": [
    "AICtab <- as.data.frame(AIC(cr2, cr1, c1, r1)) \n",
    "AICtab$deltaAIC <-AICtab$AIC - min(AICtab$AIC)\n",
    "AICtab$AIC_L <- round(exp(-0.5 * AICtab$deltaAIC), 4)\n",
    "AICtab$wAIC <- AICtab$AIC_L / sum(AICtab$AIC_L )\n",
    "AICtab$AIC_ratio <-  max(AICtab$wAIC) / AICtab$wAIC\n",
    "AICtab[order(AICtab$wAIC, decreasing=TRUE),]"
   ]
  },
  {
   "cell_type": "markdown",
   "metadata": {},
   "source": [
    "## Compare Random Effects structures"
   ]
  },
  {
   "cell_type": "code",
   "execution_count": null,
   "metadata": {},
   "outputs": [],
   "source": [
    "# start timer\n",
    "start_time <- Sys.time()\n",
    "cl <- makeCluster(num_cores)\n",
    "\n",
    "f2_r_escs <- bam(Amplitude ~ (Condition + ROI)^2\n",
    "                  + s(Channel, participant_id, bs=\"re\") \n",
    "                  + s(Condition, participant_id, bs=\"re\") \n",
    "                  + s(participant_id, bs=\"re\"),\n",
    "                 data=dat, \n",
    "                  method='ML',\n",
    "                 samfrac=0.1, cluster=cl, gc.level=2)\n",
    "\n",
    "f1_r_escs <- bam(Amplitude ~ (Condition + ROI)\n",
    "                  + s(Channel, participant_id, bs=\"re\") \n",
    "                  + s(Condition, participant_id, bs=\"re\") \n",
    "                  + s(participant_id, bs=\"re\"),\n",
    "                 data=dat, \n",
    "                  method='ML',\n",
    "                 samfrac=0.1, cluster=cl, gc.level=2)\n",
    "\n",
    "\n",
    "f2_r_es <- bam(Amplitude ~ (Condition + ROI)^2\n",
    "                  + s(Channel, participant_id, bs=\"re\") \n",
    "                  + s(participant_id, bs=\"re\"),\n",
    "                 data=dat, \n",
    "                  method='ML',\n",
    "                 samfrac=0.1, cluster=cl, gc.level=2)\n",
    "\n",
    "f1_r_es <- bam(Amplitude ~ (Condition + ROI)\n",
    "                  + s(Channel, participant_id, bs=\"re\") \n",
    "                  + s(participant_id, bs=\"re\"),\n",
    "                 data=dat, \n",
    "                  method='ML',\n",
    "                 samfrac=0.1, cluster=cl, gc.level=2)\n",
    "\n",
    "\n",
    "c1w_es <-  bam(Amplitude ~ Condition \n",
    "                 + s(Channel, participant_id, bs=\"re\") \n",
    "                 + s(participant_id, bs=\"re\"),\n",
    "                  data=dat, \n",
    "                  method='ML',\n",
    "                  samfrac=0.1, cluster=cl, gc.level=2)\n",
    "\n",
    "c1w_cs <-  bam(Amplitude ~ Condition \n",
    "                 + s(Condition, participant_id, bs=\"re\") \n",
    "                 + s(participant_id, bs=\"re\"),\n",
    "                  data=dat, \n",
    "                   method='ML',\n",
    "                 samfrac=0.1, cluster=cl, gc.level=2)\n",
    "\n",
    "c1w_escs <-  bam(Amplitude ~ Condition \n",
    "                 + s(Channel, participant_id, bs=\"re\") \n",
    "                 + s(Condition, participant_id, bs=\"re\") \n",
    "                 + s(participant_id, bs=\"re\"),\n",
    "                  data=dat, \n",
    "                  method='ML',\n",
    "                  samfrac=0.1, cluster=cl, gc.level=2)\n",
    "\n",
    "stopCluster(cl)\n",
    "# print elpased time\n",
    "end_time <- Sys.time()\n",
    "print(end_time - start_time)"
   ]
  },
  {
   "cell_type": "code",
   "execution_count": null,
   "metadata": {},
   "outputs": [],
   "source": [
    "AICtab <- as.data.frame(AIC(cr2, cr1, c1, r1,\n",
    "                            f2_r_escs, f2_r_es, \n",
    "                            f1_r_escs, f1_r_es, \n",
    "                            c1w_es, c1w_cs, c1w_escs\n",
    "                           )) \n",
    "AICtab$deltaAIC <-AICtab$AIC - min(AICtab$AIC)\n",
    "AICtab$AIC_L <- round(exp(-0.5 * AICtab$deltaAIC), 4)\n",
    "AICtab$wAIC <- AICtab$AIC_L / sum(AICtab$AIC_L )\n",
    "AICtab$AIC_ratio <-  max(AICtab$wAIC) / AICtab$wAIC\n",
    "AICtab[order(AICtab$AIC, decreasing=FALSE),]"
   ]
  },
  {
   "cell_type": "code",
   "execution_count": null,
   "metadata": {},
   "outputs": [],
   "source": [
    "max(AICtab$wAIC)"
   ]
  },
  {
   "cell_type": "markdown",
   "metadata": {},
   "source": [
    "---\n",
    "## View results of best model\n",
    "\n",
    "The full model we fit at the start was confired as best via AIC comparisons"
   ]
  },
  {
   "cell_type": "code",
   "execution_count": null,
   "metadata": {},
   "outputs": [],
   "source": [
    "mod <- mod_full"
   ]
  },
  {
   "cell_type": "markdown",
   "metadata": {},
   "source": [
    "### Plot Marginal Means of Condition x ROI\n"
   ]
  },
  {
   "cell_type": "code",
   "execution_count": null,
   "metadata": {},
   "outputs": [],
   "source": [
    "terms <- c('Condition', 'ROI')\n",
    "\n",
    "out_stem <- paste(fig_path, '/', component, '_lme_', paste(terms, collapse='_X_'), '.pdf', sep='')\n",
    "\n",
    "options(repr.plot.width=16, repr.plot.height=9)\n",
    "set_theme(base = theme_sjplot(),\n",
    "          title.size = 1.5,\n",
    "          title.align = 'center',\n",
    "          axis.title.size = 1.5,\n",
    "          axis.textsize.x=1.1,\n",
    "          axis.textsize.y=1.1,\n",
    "          legend.title.size = 1.5,\n",
    "          legend.item.size = 1.25,\n",
    "          legend.item.backcol = 'white',\n",
    "          legend.size = 1.5,\n",
    "          panel.gridcol.x='white',\n",
    "          panel.minor.gridcol='white'\n",
    "         )\n",
    "pm <- function(mod, terms) {\n",
    "                            plot_model(mod, type='emm', terms=terms,\n",
    "                                title=paste(component, '-', paste(terms, collapse=' X '), sep=' '),\n",
    "                                dot.size=4, line.size=1.5, dodge=.33,\n",
    "                                    ) + theme(aspect.ratio=9/16, \n",
    "                                            axis.text.x = element_text(angle = 20, hjust = .5, vjust=.67)\n",
    "                                            )\n",
    "}\n",
    "pdf(out_stem)\n",
    "pm(mod_full, terms)\n",
    "dev.off() \n",
    "pm(mod_full, terms)\n"
   ]
  },
  {
   "cell_type": "markdown",
   "metadata": {},
   "source": [
    "### Laterality Effects for Each Condition"
   ]
  },
  {
   "cell_type": "code",
   "execution_count": null,
   "metadata": {},
   "outputs": [],
   "source": [
    "terms <- c('Condition', 'ROI')\n",
    "out_stem <- paste(tab_path, '/', component, '_lme_', paste(terms, collapse='_X_'), '_LvsR', sep='')\n",
    "\n",
    "Contrasts.emm <- emmeans(mod_full, pairwise ~ ROI | Condition)\n",
    "contr_tab <- as.data.frame(Contrasts.emm$contrasts)\n",
    "# contr_tab\n",
    "\n",
    "eff_tab <- eff_size(Contrasts.emm,\n",
    "                     sigma = sigma(mod_full), \n",
    "                     edf = contr_tab$df[1])\n",
    "eff_tab <- as.data.frame(eff_tab)\n",
    "# eff_tab\n",
    "\n",
    "full_tab <- contr_tab %>% full_join(select(eff_tab, 'Condition', 'effect.size',  'lower.CL', 'upper.CL'),\n",
    "                                    by=c('Condition'), \n",
    "                                    suffix = c(\".ctr\", \".eff\"))  %>% \n",
    "                            mutate(across(c('p.value', 'effect.size'), round, 3)) %>% \n",
    "                            mutate(across(c('estimate', 'SE', 't.ratio'), round, 2)) %>% \n",
    "                            mutate(across(c('lower.CL', 'upper.CL'), round, 3)) %>% \n",
    "                            rename('Estimate (µV)' = 'estimate',\n",
    "                                    't' = 't.ratio',\n",
    "                                    'p' = 'p.value',\n",
    "                                    'Effect Size' = 'effect.size',\n",
    "                                    'CL low' = 'lower.CL',\n",
    "                                    'CL high' = 'upper.CL'\n",
    "                            ) %>% \n",
    "                            select('Condition', 'contrast', 'Estimate (µV)', 'SE', \n",
    "                            'Effect Size', 'CL low', 'CL high', 't', 'p')  %>% \n",
    "                            mutate(Condition = factor(Condition, levels = cond_levels)) %>% \n",
    "                            arrange(Condition)\n",
    "\n",
    "full_tab\n",
    "\n",
    "# Write table to CSV\n",
    "# write.csv(full_tab, \n",
    "#           file=paste(out_stem, '.csv', sep=''),\n",
    "#           row.names=FALSE\n",
    "#          )\n",
    "\n",
    "## Write table to LaTeX\n",
    "tmp <- capture.output(stargazer(full_tab, \n",
    "                                summary=FALSE, rownames=FALSE,\n",
    "                                label=paste('tab:', component, '_lme_', paste(terms, collapse='_X_'), '_LvsR', sep=''),\n",
    "                                title='Between-hemisphere contrasts for each condition, from the linear mixed effects analysis. All p values are corrected for multiple comparisons using Tukey\\'s method'\n",
    "                               ),\n",
    "                      file=paste(out_stem, '.tex', sep='')\n",
    "                     )"
   ]
  },
  {
   "cell_type": "markdown",
   "metadata": {},
   "source": [
    "### Contrasts by ROI"
   ]
  },
  {
   "cell_type": "code",
   "execution_count": null,
   "metadata": {},
   "outputs": [],
   "source": [
    "terms <- c('Condition', 'ROI')\n",
    "out_stem <- paste(tab_path, '/', component, '_lme_', paste(terms, collapse='_X_'), '_contrasts', sep='')\n",
    "\n",
    "Contrasts.emm <- emmeans(mod_full, pairwise ~ Condition | ROI)\n",
    "contr_tab <- as.data.frame(Contrasts.emm$contrasts) \n",
    "\n",
    "eff_tab <- eff_size(Contrasts.emm,\n",
    "                     sigma = sigma(mod_full), \n",
    "                     edf = contr_tab$df[1])\n",
    "eff_tab <- as.data.frame(eff_tab) \n",
    "# replace double-bracket Conditions with single-bracket to match above\n",
    "eff_tab$contrast <- contr_tab$contrast\n",
    "\n",
    "full_tab <- contr_tab %>% full_join(select(eff_tab, 'ROI', 'contrast', 'effect.size',  'lower.CL', 'upper.CL'),\n",
    "                                    by=c('contrast', 'ROI'), \n",
    "                                    suffix = c(\".ctr\", \".eff\"))  \n",
    "\n",
    "full_tab <- full_tab %>% \n",
    "                            mutate(across(c('p.value', 'effect.size'), round, 3)) %>% \n",
    "                            mutate(across(c('estimate', 'SE', 't.ratio'), round, 2)) %>% \n",
    "                            mutate(across(c('lower.CL', 'upper.CL'), round, 3)) %>% \n",
    "                            rename('Contrast' = 'contrast',\n",
    "                                    'Estimate (µV)' = 'estimate',\n",
    "                                    't' = 't.ratio',\n",
    "                                    'p' = 'p.value',\n",
    "                                    'Effect Size' = 'effect.size',\n",
    "                                    'CL low' = 'lower.CL',\n",
    "                                    'CL high' = 'upper.CL'\n",
    "                            ) %>% \n",
    "                            select('Contrast', 'ROI', 'Estimate (µV)', 'SE', \n",
    "                            'Effect Size', 'CL low', 'CL high', 't', 'p')  \n",
    "                            \n",
    "full_tab \n",
    "\n",
    "# Write table to CSV\n",
    "# write.csv(full_tab, \n",
    "#           file=paste(out_stem, '.csv', sep='')\n",
    "#          )\n",
    "\n",
    "## Write table to LaTeX\n",
    "tmp <- capture.output(stargazer(full_tab, \n",
    "                                summary=FALSE, rownames=FALSE, font.size=\"footnotesize\",digits=NA, initial.zero=FALSE,\n",
    "                                label=paste('tab:', component, '_lme_', paste(terms, collapse='_X_'), '_contrasts', sep=''),\n",
    "                                title='Pairwise between-condition contrasts for the N170 component, within each ROI, from the linear mixed effects analysis. All $p$ values are corrected for multiple comparisons using Tukey\\'s method. Effect size is the standardized mean difference.'\n",
    "                               ),\n",
    "                      file=paste(out_stem, '.tex', sep='')\n",
    "                     )"
   ]
  },
  {
   "cell_type": "code",
   "execution_count": null,
   "metadata": {},
   "outputs": [],
   "source": [
    "options(repr.plot.width=6, repr.plot.height=12)\n",
    "plot(n170.emm.cr, comparisons = TRUE, horizontal=FALSE)"
   ]
  },
  {
   "cell_type": "code",
   "execution_count": null,
   "metadata": {},
   "outputs": [],
   "source": [
    "n170.cells <- emmeans(mod, ~ Condition * ROI)\n",
    "options(repr.plot.width=15, repr.plot.height=6)\n",
    "set_theme(panel.gridcol.x='white')\n",
    "pwpp(n170.cells, by = \"ROI\", type = \"response\")"
   ]
  },
  {
   "attachments": {},
   "cell_type": "markdown",
   "metadata": {},
   "source": [
    "### Condition X ROI interactions"
   ]
  },
  {
   "cell_type": "code",
   "execution_count": null,
   "metadata": {},
   "outputs": [],
   "source": [
    "terms <- c('Condition', 'ROI')\n",
    "out_stem <- paste(tab_path, '/', component, '_lme_', paste(terms, collapse='_X_'), '_interaction', sep='')\n",
    "\n",
    "intxn.emm <- contrast(Contrasts.emm[[1]], interaction = c(\"pairwise\"), by = NULL)\n",
    "# intxn.emm <- as.data.frame(intxn.emm)\n",
    "intxn.emm <- intxn.emm %>% as.data.frame() %>% \n",
    "                            mutate(across(c('p.value'), round, 3)) %>% \n",
    "                            mutate(across(c('estimate', 'SE', 't.ratio'), round, 2)) %>% \n",
    "                            rename('Contrast' = 'Condition_pairwise',\n",
    "                                    'ROI' = 'ROI_pairwise',\n",
    "                                    'Estimate (µV)' = 'estimate',\n",
    "                                    't' = 't.ratio',\n",
    "                                    'p' = 'p.value',\n",
    "                            ) %>% \n",
    "                            select('Contrast', 'ROI', 'Estimate (µV)', 'SE', 't', 'p')  \n",
    "                            \n",
    "intxn.emm \n",
    "\n",
    "\n",
    "tmp <- capture.output(stargazer(intxn.emm , \n",
    "                                summary=FALSE, rownames=FALSE, font.size=\"footnotesize\",digits=NA, initial.zero=FALSE,\n",
    "                                label=paste('tab:', component, '_lme_', paste(terms, collapse='_X_'), '_intxn', sep=''),\n",
    "                                title='Condition $\\times$ ROI interaction (i.e., laterality contrast for each pairwise condition contrast) for the N170 component from the linear mixed effects analysis. All $p$ values are corrected for multiple comparisons using Tukey\\'s method. Effect size is the standardized mean difference.'\n",
    "                               ),\n",
    "                      file=paste(out_stem, '.tex', sep='')\n",
    "                     )"
   ]
  },
  {
   "cell_type": "markdown",
   "metadata": {},
   "source": [
    "---\n",
    "## Behavioural Correlations"
   ]
  },
  {
   "attachments": {},
   "cell_type": "markdown",
   "metadata": {},
   "source": [
    "### Compare all behavioral correlation models \n",
    "Here, `AIC_ratio` is relative to the \"base\" model that did not include a behavioral variable "
   ]
  },
  {
   "cell_type": "code",
   "execution_count": null,
   "metadata": {},
   "outputs": [],
   "source": [
    "# Refit all models using max liklihood so they can be compared:\n",
    "start_time <- Sys.time()\n",
    "cl <- makeCluster(num_cores)\n",
    "\n",
    "mod_ortho_choice <- bam(Amplitude ~ (Condition * ROI * Ortho_Choice)\n",
    "            + s(Channel, participant_id, bs=\"re\") \n",
    "            + s(Condition, participant_id, bs=\"re\") \n",
    "            + s(participant_id, bs=\"re\"),\n",
    "            data=dat, \n",
    "            method='ML',\n",
    "            samfrac=0.1, cluster=cl, gc.level=2)            \n",
    "\n",
    "mod_ortho_know <- bam(Amplitude ~ (Condition * ROI * Ortho_Know)\n",
    "            + s(Channel, participant_id, bs=\"re\") \n",
    "            + s(Condition, participant_id, bs=\"re\") \n",
    "            + s(participant_id, bs=\"re\"),\n",
    "            data=dat, \n",
    "            method='ML',\n",
    "            samfrac=0.1, cluster=cl, gc.level=2)            \n",
    "\n",
    "mod_OrthoSem_Know <- bam(Amplitude ~ (Condition * ROI * OrthoSem_Know)\n",
    "            + s(Channel, participant_id, bs=\"re\") \n",
    "            + s(Condition, participant_id, bs=\"re\") \n",
    "            + s(participant_id, bs=\"re\"),\n",
    "            data=dat, \n",
    "            method='ML',\n",
    "            samfrac=0.1, cluster=cl, gc.level=2)       \n",
    "            \n",
    "mod_Sem_Choice <- bam(Amplitude ~ (Condition * ROI * Sem_Choice)\n",
    "            + s(Channel, participant_id, bs=\"re\") \n",
    "            + s(Condition, participant_id, bs=\"re\") \n",
    "            + s(participant_id, bs=\"re\"),\n",
    "            data=dat, \n",
    "            method='ML',\n",
    "            samfrac=0.1, cluster=cl, gc.level=2)  \n",
    "\n",
    "mod_acc_NVWD <- bam(Amplitude ~ (Condition * ROI * acc_NVWD)\n",
    "            + s(Channel, participant_id, bs=\"re\") \n",
    "            + s(Condition, participant_id, bs=\"re\") \n",
    "            + s(participant_id, bs=\"re\"),\n",
    "            data=dat, \n",
    "            method='ML',\n",
    "            samfrac=0.1, cluster=cl, gc.level=2)  \n",
    "\n",
    "mod_rt_NVWD <- bam(Amplitude ~ (Condition * ROI * rt_NVWD)\n",
    "            + s(Channel, participant_id, bs=\"re\") \n",
    "            + s(Condition, participant_id, bs=\"re\") \n",
    "            + s(participant_id, bs=\"re\"),\n",
    "            data=dat, \n",
    "            method='ML',\n",
    "            samfrac=0.1, cluster=cl, gc.level=2)             \n",
    "\n",
    "mod_TOWRE <- bam(Amplitude ~ (Condition * ROI * TOWRE_idx)\n",
    "            + s(Channel, participant_id, bs=\"re\") \n",
    "            + s(Condition, participant_id, bs=\"re\") \n",
    "            + s(participant_id, bs=\"re\"),\n",
    "            data=dat, \n",
    "            method='ML',\n",
    "            samfrac=0.1, cluster=cl, gc.level=2)  \n",
    "\n",
    "mod_PsgComp <- bam(Amplitude ~ (Condition * ROI * PsgComp_percentile)\n",
    "            + s(Channel, participant_id, bs=\"re\") \n",
    "            + s(Condition, participant_id, bs=\"re\") \n",
    "            + s(participant_id, bs=\"re\"),\n",
    "            data=dat, \n",
    "            method='ML',\n",
    "            samfrac=0.1, cluster=cl, gc.level=2)     \n",
    "\n",
    "stopCluster(cl)\n",
    "end_time <- Sys.time()\n",
    "print(end_time - start_time)            "
   ]
  },
  {
   "cell_type": "code",
   "execution_count": null,
   "metadata": {},
   "outputs": [],
   "source": [
    "ref_mod <- 'f2_r_escs'\n",
    "AICtab <- as.data.frame(AIC( f2_r_escs,\n",
    "                        mod_ortho_choice, mod_ortho_know, \n",
    "                        mod_OrthoSem_Know, mod_Sem_Choice, \n",
    "                        mod_acc_NVWD, mod_rt_NVWD, \n",
    "                        mod_TOWRE, mod_PsgComp\n",
    "                           ))\n",
    "# AICtab$model = row.names(AICtab)\n",
    "AICtab$deltaAIC <-AICtab$AIC - AICtab[ref_mod, ]$AIC\n",
    "AICtab$AIC_L <- round(exp(-0.5 * AICtab$deltaAIC), 4)\n",
    "AICtab$wAIC <- AICtab$AIC_L / sum(AICtab$AIC_L )\n",
    "AICtab$AIC_ratio <-  1 / (AICtab[ref_mod, ]$wAIC / AICtab$wAIC)\n",
    "AICtab[order(AICtab$AIC, decreasing=FALSE),] "
   ]
  },
  {
   "attachments": {},
   "cell_type": "markdown",
   "metadata": {},
   "source": [
    "---\n",
    "### Orthographic choice"
   ]
  },
  {
   "cell_type": "code",
   "execution_count": null,
   "metadata": {},
   "outputs": [],
   "source": [
    "start_time <- Sys.time()\n",
    "cl <- makeCluster(num_cores)\n",
    "\n",
    "mod_ortho_choice <- bam(Amplitude ~ (Condition * ROI * Ortho_Choice)\n",
    "            + s(Channel, participant_id, bs=\"re\") \n",
    "            + s(Condition, participant_id, bs=\"re\") \n",
    "            + s(participant_id, bs=\"re\"),\n",
    "            data=dat, \n",
    "            # method='ML',\n",
    "            samfrac=0.1, cluster=cl, gc.level=2)            \n",
    "\n",
    "stopCluster(cl)\n",
    "end_time <- Sys.time()\n",
    "print(end_time - start_time)            "
   ]
  },
  {
   "cell_type": "code",
   "execution_count": null,
   "metadata": {},
   "outputs": [],
   "source": [
    "mod = mod_ortho_choice"
   ]
  },
  {
   "cell_type": "code",
   "execution_count": null,
   "metadata": {},
   "outputs": [],
   "source": [
    "terms <- c('Ortho_Choice', 'Condition', 'ROI')\n",
    "\n",
    "out_stem <- paste(fig_path, '/', component, '_lme_', paste(terms, collapse='_X_'), '.pdf', sep='')\n",
    "\n",
    "\n",
    "pdf(out_stem, 17, 8.5)\n",
    "plot_model(mod, type='emm', terms=terms,\n",
    "           title=paste(component, '-', paste(terms, collapse=' X '), sep=' '),\n",
    "           dot.size=4, line.size=1.5, dodge=.33,   colors=sns_colors\n",
    "            ) \n",
    "dev.off() \n",
    "\n",
    "options(repr.plot.width=20) #, repr.plot.height=6)\n",
    "plot_model(mod, type='emm', terms=terms,\n",
    "           title=paste(component, '-', paste(terms, collapse=' X '), sep=' '),\n",
    "           dot.size=4, line.size=1.5, dodge=.33,   colors=sns_colors\n",
    "            ) "
   ]
  },
  {
   "cell_type": "code",
   "execution_count": null,
   "metadata": {},
   "outputs": [],
   "source": [
    "contr_tab <- test(emtrends(mod, ~ Condition * ROI, var='Ortho_Choice'))\n",
    "ncomp = nrow(contr_tab)\n",
    "contr_tab$'p (corr)' = round(p.adjust(contr_tab$'p.value', method = 'BH', n = ncomp), 4)\n",
    "contr_tab <- subset(contr_tab, select=-c(p.value))\n",
    "\n",
    "contr_tab <- contr_tab %>%\n",
    "            select(-c('df')) %>%\n",
    "            rename('Orthographic Choice' = 'Ortho_Choice.trend',\n",
    "                   't' = 't.ratio',\n",
    "                  ) %>% \n",
    "            arrange(Condition, ROI)\n",
    "contr_tab \n",
    "## Write table to LaTeX\n",
    "out_stem <- paste(tab_path, '/', component, '_lme_', paste(terms, collapse='_X_'), sep='')\n",
    "tmp <- capture.output(stargazer(contr_tab, \n",
    "                                summary=FALSE, rownames=FALSE, font.size=\"footnotesize\",digits=4,\n",
    "                                label=paste('tab:', component, '_lme_', paste(terms, collapse='_X_'), sep=''),\n",
    "                                title='Results of linear mixed effects model including accuracy on the orthographic choice task (indicating learning of novel word spellings in the OSLT). Statistical values are for the test of significance of the slope of the relationship between N170 amplitude and novel word accuracy'\n",
    "                               ),\n",
    "                      file=paste(out_stem, '.tex', sep='')\n",
    "                     )"
   ]
  },
  {
   "attachments": {},
   "cell_type": "markdown",
   "metadata": {},
   "source": [
    "---\n",
    "### Semantic choice"
   ]
  },
  {
   "cell_type": "code",
   "execution_count": null,
   "metadata": {},
   "outputs": [],
   "source": [
    "start_time <- Sys.time()\n",
    "cl <- makeCluster(num_cores)\n",
    "\n",
    "mod_Sem_Choice <- bam(Amplitude ~ (Condition * ROI * Sem_Choice)\n",
    "            + s(Channel, participant_id, bs=\"re\") \n",
    "            + s(Condition, participant_id, bs=\"re\") \n",
    "            + s(participant_id, bs=\"re\"),\n",
    "            data=dat, \n",
    "            # method='ML',\n",
    "            samfrac=0.1, cluster=cl, gc.level=2)            \n",
    "\n",
    "stopCluster(cl)\n",
    "end_time <- Sys.time()\n",
    "print(end_time - start_time)            "
   ]
  },
  {
   "cell_type": "code",
   "execution_count": null,
   "metadata": {},
   "outputs": [],
   "source": [
    "mod = mod_Sem_Choice"
   ]
  },
  {
   "cell_type": "code",
   "execution_count": null,
   "metadata": {},
   "outputs": [],
   "source": [
    "terms <- c('Sem_Choice', 'Condition', 'ROI')\n",
    "\n",
    "out_stem <- paste(fig_path, '/', component, '_lme_', paste(terms, collapse='_X_'), '.pdf', sep='')\n",
    "\n",
    "options(repr.plot.width=20) #, repr.plot.height=6)\n",
    "\n",
    "# pdf(out_stem)\n",
    "# plot_model(mod, type='emm', terms=terms,\n",
    "#            title=paste(component, '-', paste(terms, collapse=' X '), sep=' '),\n",
    "#            dot.size=4, line.size=1.5, dodge=.33,\n",
    "#             ) + theme(aspect.ratio=9/16, \n",
    "#                      axis.text.x = element_text(angle = 20, hjust = .5, vjust=.67)\n",
    "#                      )\n",
    "# dev.off() \n",
    "\n",
    "plot_model(mod, type='emm', terms=terms,\n",
    "           title=paste(component, '-', paste(terms, collapse=' X '), sep=' '),\n",
    "           dot.size=4, line.size=1.5, dodge=.33,   colors=sns_colors\n",
    "            ) #+ theme(aspect.ratio=9/16)"
   ]
  },
  {
   "cell_type": "code",
   "execution_count": null,
   "metadata": {},
   "outputs": [],
   "source": [
    "contr_tab <- test(emtrends(mod, ~ Condition * ROI, var='Sem_Choice'))\n",
    "ncomp = nrow(contr_tab)\n",
    "contr_tab$'p (corr)' = round(p.adjust(contr_tab$'p.value', method = 'BH', n = ncomp), 4)\n",
    "contr_tab <- subset(contr_tab, select=-c(p.value))\n",
    "contr_tab\n",
    "\n",
    "# eff_tab <- as.data.frame(emtrends(mod, ~ Contrast * ROI, var='TOWRE_idx'))\n",
    "# eff_tab\n",
    "\n",
    "#### Merge\n",
    "# full_tab <- contr_tab %>% full_join(select(eff_tab, 'Contrast', 'ROI', 'lower.CL', 'upper.CL'), \n",
    "#                                     by=c('Contrast', 'ROI'), \n",
    "#                                     suffix = c(\".ctr\", \".eff\"))\n",
    "# full_tab\n"
   ]
  },
  {
   "cell_type": "markdown",
   "metadata": {},
   "source": [
    "---\n",
    "### OrthoSem_Know"
   ]
  },
  {
   "cell_type": "code",
   "execution_count": null,
   "metadata": {},
   "outputs": [],
   "source": [
    "start_time <- Sys.time()\n",
    "cl <- makeCluster(num_cores)\n",
    "\n",
    "mod_OrthoSem_Know <- bam(Amplitude ~ (Condition * ROI * OrthoSem_Know)\n",
    "            + s(Channel, participant_id, bs=\"re\") \n",
    "            + s(Condition, participant_id, bs=\"re\") \n",
    "            + s(participant_id, bs=\"re\"),\n",
    "            data=dat, \n",
    "            # method='ML',\n",
    "            samfrac=0.1, cluster=cl, gc.level=2)            \n",
    "\n",
    "stopCluster(cl)\n",
    "end_time <- Sys.time()\n",
    "print(end_time - start_time)            "
   ]
  },
  {
   "cell_type": "code",
   "execution_count": null,
   "metadata": {},
   "outputs": [],
   "source": [
    "mod = mod_OrthoSem_Know"
   ]
  },
  {
   "cell_type": "code",
   "execution_count": null,
   "metadata": {},
   "outputs": [],
   "source": [
    "terms <- c('OrthoSem_Know', 'Condition', 'ROI')\n",
    "\n",
    "out_stem <- paste(fig_path, '/', component, '_lme_', paste(terms, collapse='_X_'), '.pdf', sep='')\n",
    "\n",
    "options(repr.plot.width=20) #, repr.plot.height=6)\n",
    "\n",
    "# pdf(out_stem)\n",
    "# plot_model(mod, type='emm', terms=terms,\n",
    "#            title=paste(component, '-', paste(terms, collapse=' X '), sep=' '),\n",
    "#            dot.size=4, line.size=1.5, dodge=.33,\n",
    "#             ) + theme(aspect.ratio=9/16, \n",
    "#                      axis.text.x = element_text(angle = 20, hjust = .5, vjust=.67)\n",
    "#                      )\n",
    "# dev.off() \n",
    "\n",
    "plot_model(mod, type='emm', terms=terms,\n",
    "           title=paste(component, '-', paste(terms, collapse=' X '), sep=' '),\n",
    "           dot.size=4, line.size=1.5, dodge=.33,   colors=sns_colors\n",
    "            ) #+ theme(aspect.ratio=9/16)"
   ]
  },
  {
   "cell_type": "code",
   "execution_count": null,
   "metadata": {},
   "outputs": [],
   "source": [
    "contr_tab <- test(emtrends(mod, ~ Condition * ROI, var='OrthoSem_Know'))\n",
    "ncomp = nrow(contr_tab)\n",
    "contr_tab$'p (corr)' = round(p.adjust(contr_tab$'p.value', method = 'BH', n = ncomp), 4)\n",
    "contr_tab <- subset(contr_tab, select=-c(p.value))\n",
    "contr_tab\n"
   ]
  },
  {
   "cell_type": "markdown",
   "metadata": {},
   "source": [
    "---\n",
    "### Novel Word Accuracy"
   ]
  },
  {
   "cell_type": "code",
   "execution_count": null,
   "metadata": {},
   "outputs": [],
   "source": [
    "start_time <- Sys.time()\n",
    "cl <- makeCluster(num_cores)\n",
    "mod_acc_NVWD <- bam(Amplitude ~ (Condition * ROI * acc_NVWD)\n",
    "            + s(Channel, participant_id, bs=\"re\") \n",
    "            + s(Condition, participant_id, bs=\"re\") \n",
    "            + s(participant_id, bs=\"re\"),\n",
    "            data=dat, \n",
    "            # method='ML',\n",
    "            samfrac=0.1, cluster=cl, gc.level=2)            \n",
    "\n",
    "stopCluster(cl)\n",
    "end_time <- Sys.time()\n",
    "print(end_time - start_time)            "
   ]
  },
  {
   "cell_type": "code",
   "execution_count": null,
   "metadata": {},
   "outputs": [],
   "source": [
    "terms <- c('acc_NVWD', 'Condition', 'ROI')\n",
    "\n",
    "out_stem <- paste(fig_path, '/', component, '_lme_', paste(terms, collapse='_X_'), '.pdf', sep='')\n",
    "\n",
    "options(repr.plot.width=20) #, repr.plot.height=6)\n",
    "# set_theme(panel.gridcol.x='white'))\n",
    "pm <- function(mod, terms){\n",
    "    plot_model(mod, type='emm', terms=terms,\n",
    "           title=paste(component, '-', paste(terms, collapse=' X '), sep=' '),\n",
    "           dot.size=4, line.size=1.5, dodge=.33,   colors=sns_colors\n",
    "            ) \n",
    "}\n",
    "\n",
    "# save to PDF\n",
    "pdf(out_stem, 20, 8.5)\n",
    "pm(mod_acc_NVWD, terms)\n",
    "dev.off() \n",
    "# show in notebook\n",
    "pm(mod_acc_NVWD, terms)"
   ]
  },
  {
   "cell_type": "code",
   "execution_count": null,
   "metadata": {},
   "outputs": [],
   "source": [
    "terms <- c('acc_NVWD', 'Condition', 'ROI')\n",
    "\n",
    "contr_tab <- test(emtrends(mod_acc_NVWD, ~ Condition * ROI, var='acc_NVWD'))\n",
    "ncomp = nrow(contr_tab)\n",
    "contr_tab$'p (corr)' = round(p.adjust(contr_tab$'p.value', method = 'BH', n = ncomp), 4)\n",
    "contr_tab <- subset(contr_tab, select=-c(p.value, df))\n",
    "\n",
    "contr_tab <- contr_tab %>%\n",
    "            rename('Novel Word Accuracy' = 'acc_NVWD.trend',\n",
    "                #    'SE' = 'SE.ctr',\n",
    "                   't' = 't.ratio',\n",
    "                #    'Effect Size' = 'effect.size'\n",
    "                  ) %>% \n",
    "            arrange(Condition, ROI)\n",
    "contr_tab \n",
    "# Write table to LaTeX\n",
    "out_stem <- paste(tab_path, '/', component, '_lme_', paste(terms, collapse='_X_'), sep='')\n",
    "tmp <- capture.output(stargazer(contr_tab, \n",
    "                                summary=FALSE, rownames=FALSE,\n",
    "                                label=paste('tab:', component, '_lme_', paste(terms, collapse='_X_'), sep=''),\n",
    "                                title='Results of linear mixed effects model including accuracy on novel words in the lexical decision task. Statistical values are for the test of significance of the slope of the relationship between N170 amplitude and novel word accuracy'\n",
    "                               ),\n",
    "                      file=paste(out_stem, '.tex', sep='')\n",
    "                     )"
   ]
  },
  {
   "attachments": {},
   "cell_type": "markdown",
   "metadata": {},
   "source": [
    "#### interaction"
   ]
  },
  {
   "cell_type": "code",
   "execution_count": null,
   "metadata": {},
   "outputs": [],
   "source": [
    "trend_tab <- emtrends(mod_acc_NVWD, pairwise ~ Condition , var='acc_NVWD')\n",
    "trend_tab$contrasts"
   ]
  },
  {
   "cell_type": "code",
   "execution_count": null,
   "metadata": {},
   "outputs": [],
   "source": [
    "trend_tab <- emtrends(mod_acc_NVWD, pairwise ~ ROI | Condition, var='acc_NVWD')\n",
    "trend_tab$contrasts"
   ]
  },
  {
   "cell_type": "code",
   "execution_count": null,
   "metadata": {},
   "outputs": [],
   "source": [
    "trend_tab <- emtrends(mod_acc_NVWD, pairwise ~ Condition | ROI, var='acc_NVWD')\n",
    "trend_tab$contrasts"
   ]
  },
  {
   "attachments": {},
   "cell_type": "markdown",
   "metadata": {},
   "source": [
    "---\n",
    "### Novel word RT"
   ]
  },
  {
   "cell_type": "code",
   "execution_count": null,
   "metadata": {},
   "outputs": [],
   "source": [
    "start_time <- Sys.time()\n",
    "cl <- makeCluster(num_cores)\n",
    "\n",
    "mod_rt_NVWD <- bam(Amplitude ~ (Condition * ROI * rt_NVWD)\n",
    "            + s(Channel, participant_id, bs=\"re\") \n",
    "            + s(Condition, participant_id, bs=\"re\") \n",
    "            + s(participant_id, bs=\"re\"),\n",
    "            data=dat, \n",
    "            # method='ML',\n",
    "            samfrac=0.1, cluster=cl, gc.level=2)            \n",
    "\n",
    "stopCluster(cl)\n",
    "end_time <- Sys.time()\n",
    "print(end_time - start_time)            "
   ]
  },
  {
   "cell_type": "code",
   "execution_count": null,
   "metadata": {},
   "outputs": [],
   "source": [
    "mod = mod_rt_NVWD"
   ]
  },
  {
   "cell_type": "code",
   "execution_count": null,
   "metadata": {},
   "outputs": [],
   "source": [
    "terms <- c('rt_NVWD', 'Condition', 'ROI')\n",
    "\n",
    "out_stem <- paste(fig_path, '/', component, '_lme_', paste(terms, collapse='_X_'), '.pdf', sep='')\n",
    "\n",
    "options(repr.plot.width=20) #, repr.plot.height=6)\n",
    "\n",
    "# pdf(out_stem)\n",
    "# plot_model(mod, type='emm', terms=terms,\n",
    "#            title=paste(component, '-', paste(terms, collapse=' X '), sep=' '),\n",
    "#            dot.size=4, line.size=1.5, dodge=.33,\n",
    "#             ) + theme(aspect.ratio=9/16, \n",
    "#                      axis.text.x = element_text(angle = 20, hjust = .5, vjust=.67)\n",
    "#                      )\n",
    "# dev.off() \n",
    "\n",
    "plot_model(mod, type='emm', terms=terms,\n",
    "           title=paste(component, '-', paste(terms, collapse=' X '), sep=' '),\n",
    "           dot.size=4, line.size=1.5, dodge=.33,   colors=sns_colors\n",
    "            ) #+ theme(aspect.ratio=9/16)"
   ]
  },
  {
   "cell_type": "code",
   "execution_count": null,
   "metadata": {},
   "outputs": [],
   "source": [
    "contr_tab <- test(emtrends(mod, ~ Condition * ROI, var='rt_NVWD'))\n",
    "ncomp = nrow(contr_tab)\n",
    "contr_tab$'p (corr)' = round(p.adjust(contr_tab$'p.value', method = 'BH', n = ncomp), 4)\n",
    "contr_tab <- subset(contr_tab, select=-c(p.value))\n",
    "contr_tab\n",
    "\n",
    "# eff_tab <- as.data.frame(emtrends(mod, ~ Contrast * ROI, var='TOWRE_idx'))\n",
    "# eff_tab\n",
    "\n",
    "#### Merge\n",
    "# full_tab <- contr_tab %>% full_join(select(eff_tab, 'Contrast', 'ROI', 'lower.CL', 'upper.CL'), \n",
    "#                                     by=c('Contrast', 'ROI'), \n",
    "#                                     suffix = c(\".ctr\", \".eff\"))\n",
    "# full_tab\n"
   ]
  },
  {
   "attachments": {},
   "cell_type": "markdown",
   "metadata": {},
   "source": [
    "---\n",
    "### TOWRE"
   ]
  },
  {
   "cell_type": "code",
   "execution_count": null,
   "metadata": {},
   "outputs": [],
   "source": [
    "start_time <- Sys.time()\n",
    "cl <- makeCluster(num_cores)\n",
    "\n",
    "mod_TOWRE <- bam(Amplitude ~ (Condition * ROI * TOWRE_idx)\n",
    "            + s(Channel, participant_id, bs=\"re\") \n",
    "            + s(Condition, participant_id, bs=\"re\") \n",
    "            + s(participant_id, bs=\"re\"),\n",
    "            data=dat, \n",
    "            # method='ML',\n",
    "            samfrac=0.1, cluster=cl, gc.level=2)            \n",
    "\n",
    "stopCluster(cl)\n",
    "end_time <- Sys.time()\n",
    "print(end_time - start_time)            "
   ]
  },
  {
   "cell_type": "code",
   "execution_count": null,
   "metadata": {},
   "outputs": [],
   "source": [
    "mod = mod_TOWRE"
   ]
  },
  {
   "cell_type": "code",
   "execution_count": null,
   "metadata": {},
   "outputs": [],
   "source": [
    "terms <- c('TOWRE_idx', 'Condition', 'ROI')\n",
    "\n",
    "out_stem <- paste(fig_path, '/', component, '_lme_', paste(terms, collapse='_X_'), '.pdf', sep='')\n",
    "\n",
    "options(repr.plot.width=20) #, repr.plot.height=6)\n",
    "\n",
    "# pdf(out_stem)\n",
    "# plot_model(mod, type='emm', terms=terms,\n",
    "#            title=paste(component, '-', paste(terms, collapse=' X '), sep=' '),\n",
    "#            dot.size=4, line.size=1.5, dodge=.33,\n",
    "#             ) + theme(aspect.ratio=9/16, \n",
    "#                      axis.text.x = element_text(angle = 20, hjust = .5, vjust=.67)\n",
    "#                      )\n",
    "# dev.off() \n",
    "\n",
    "plot_model(mod, type='emm', terms=terms,\n",
    "           title=paste(component, '-', paste(terms, collapse=' X '), sep=' '),\n",
    "           dot.size=4, line.size=1.5, dodge=.33,   colors=sns_colors\n",
    "            ) #+ theme(aspect.ratio=9/16)"
   ]
  },
  {
   "cell_type": "code",
   "execution_count": null,
   "metadata": {},
   "outputs": [],
   "source": [
    "contr_tab <- test(emtrends(mod, ~ Condition * ROI, var='TOWRE_idx'))\n",
    "ncomp = nrow(contr_tab)\n",
    "contr_tab$'p (corr)' = round(p.adjust(contr_tab$'p.value', method = 'BH', n = ncomp), 4)\n",
    "contr_tab <- subset(contr_tab, select=-c(p.value))\n",
    "contr_tab\n",
    "\n",
    "# eff_tab <- as.data.frame(emtrends(mod, ~ Contrast * ROI, var='TOWRE_idx'))\n",
    "# eff_tab\n",
    "\n",
    "#### Merge\n",
    "# full_tab <- contr_tab %>% full_join(select(eff_tab, 'Contrast', 'ROI', 'lower.CL', 'upper.CL'), \n",
    "#                                     by=c('Contrast', 'ROI'), \n",
    "#                                     suffix = c(\".ctr\", \".eff\"))\n",
    "# full_tab\n"
   ]
  },
  {
   "attachments": {},
   "cell_type": "markdown",
   "metadata": {},
   "source": [
    "---\n",
    "## Reading comprehension"
   ]
  },
  {
   "cell_type": "code",
   "execution_count": null,
   "metadata": {},
   "outputs": [],
   "source": [
    "start_time <- Sys.time()\n",
    "cl <- makeCluster(num_cores)\n",
    "\n",
    "mod_PsgComp <- bam(Amplitude ~ (Condition * ROI * PsgComp_percentile)\n",
    "            + s(Channel, participant_id, bs=\"re\") \n",
    "            + s(Condition, participant_id, bs=\"re\") \n",
    "            + s(participant_id, bs=\"re\"),\n",
    "            data=dat, \n",
    "            # method='ML',\n",
    "            samfrac=0.1, cluster=cl, gc.level=2)            \n",
    "\n",
    "stopCluster(cl)\n",
    "end_time <- Sys.time()\n",
    "print(end_time - start_time)            "
   ]
  },
  {
   "cell_type": "code",
   "execution_count": null,
   "metadata": {},
   "outputs": [],
   "source": [
    "terms <- c('PsgComp_percentile', 'Condition', 'ROI')\n",
    "\n",
    "out_stem <- paste(fig_path, '/', component, '_lme_', paste(terms, collapse='_X_'), '.pdf', sep='')\n",
    "\n",
    "options(repr.plot.width=20) #, repr.plot.height=6)\n",
    "\n",
    "# pdf(out_stem)\n",
    "# plot_model(mod, type='emm', terms=terms,\n",
    "#            title=paste(component, '-', paste(terms, collapse=' X '), sep=' '),\n",
    "#            dot.size=4, line.size=1.5, dodge=.33,\n",
    "#             ) + theme(aspect.ratio=9/16, \n",
    "#                      axis.text.x = element_text(angle = 20, hjust = .5, vjust=.67)\n",
    "#                      )\n",
    "# dev.off() \n",
    "\n",
    "plot_model(mod, type='emm', terms=terms,\n",
    "           title=paste(component, '-', paste(terms, collapse=' X '), sep=' '),\n",
    "           dot.size=4, line.size=1.5, dodge=.33,   colors=sns_colors\n",
    "            ) #+ theme(aspect.ratio=9/16)"
   ]
  },
  {
   "cell_type": "code",
   "execution_count": null,
   "metadata": {},
   "outputs": [],
   "source": [
    "contr_tab <- test(emtrends(mod, ~ Condition * ROI, var='PsgComp_percentile'))\n",
    "ncomp = nrow(contr_tab)\n",
    "contr_tab$'p (corr)' = round(p.adjust(contr_tab$'p.value', method = 'BH', n = ncomp), 4)\n",
    "contr_tab <- subset(contr_tab, select=-c(p.value))\n",
    "contr_tab\n",
    "\n",
    "# eff_tab <- as.data.frame(emtrends(mod, ~ Contrast * ROI, var='TOWRE_idx'))\n",
    "# eff_tab\n",
    "\n",
    "#### Merge\n",
    "# full_tab <- contr_tab %>% full_join(select(eff_tab, 'Contrast', 'ROI', 'lower.CL', 'upper.CL'), \n",
    "#                                     by=c('Contrast', 'ROI'), \n",
    "#                                     suffix = c(\".ctr\", \".eff\"))\n",
    "# full_tab\n"
   ]
  },
  {
   "cell_type": "code",
   "execution_count": null,
   "metadata": {},
   "outputs": [],
   "source": []
  }
 ],
 "metadata": {
  "anaconda-cloud": {},
  "kernel_info": {
   "name": "ir"
  },
  "kernelspec": {
   "display_name": "ncil",
   "language": "python",
   "name": "python3"
  },
  "language_info": {
   "codemirror_mode": "r",
   "file_extension": ".r",
   "mimetype": "text/x-r-source",
   "name": "python",
   "pygments_lexer": "r",
   "version": "3.10.8 | packaged by conda-forge | (main, Nov 22 2022, 08:25:29) [Clang 14.0.6 ]"
  },
  "nteract": {
   "version": "0.12.3"
  },
  "vscode": {
   "interpreter": {
    "hash": "760055932674735d287fd612619c18ffc3840c7c49c197eeb438d57975a1e213"
   }
  }
 },
 "nbformat": 4,
 "nbformat_minor": 4
}
