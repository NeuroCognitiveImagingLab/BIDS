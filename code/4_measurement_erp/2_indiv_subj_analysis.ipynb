{
 "cells": [
  {
   "cell_type": "markdown",
   "id": "7a7bbe7b",
   "metadata": {},
   "source": [
    "# Individual subject averages\n",
    "\n"
   ]
  },
  {
   "cell_type": "code",
   "execution_count": null,
   "id": "bbae4407",
   "metadata": {},
   "outputs": [],
   "source": [
    "%matplotlib inline\n",
    "import matplotlib\n",
    "import matplotlib.pyplot as plt\n",
    "import numpy as np\n",
    "import pandas as pd\n",
    "import seaborn as sns\n",
    "import joblib\n",
    "from glob import glob\n",
    "from pathlib import Path\n",
    "import json\n",
    "import os.path as op\n",
    "import pyarrow.feather as feather\n",
    "\n",
    "import mne\n",
    "import mne.stats\n",
    "from mne.stats import linear_regression, fdr_correction\n",
    "from mne.viz import plot_compare_evokeds\n",
    "from mne.channels import find_ch_adjacency, make_1020_channel_selections\n",
    "\n",
    "from mne.stats import spatio_temporal_cluster_test\n",
    "from scipy.stats import ttest_ind, zscore\n",
    "from statsmodels.stats.multitest import multipletests\n",
    "\n",
    "mne.set_log_level(verbose='error')\n",
    "\n",
    "pd.set_option('display.max_rows', None)"
   ]
  },
  {
   "cell_type": "markdown",
   "id": "bb805000-c342-4358-8e20-86bfb91877a8",
   "metadata": {},
   "source": [
    "## Read config file"
   ]
  },
  {
   "cell_type": "code",
   "execution_count": null,
   "id": "fb8e025a-033a-4b1a-8406-9b6f4cc1a100",
   "metadata": {},
   "outputs": [],
   "source": [
    "bids_root = '../..'\n",
    "\n",
    "config_file = op.join(bids_root, 'config.json')\n",
    "config = json.load(open(config_file))\n",
    "\n",
    "study_name = config['Study']['Name']\n",
    "study_name = config['Study']['TaskName']\n",
    "data_type = config['EEG']['data_type']\n",
    "eog = config['EEG']['eog']\n",
    "montage_fname = config['EEG']['montage']\n",
    "\n",
    "epoch_p =  config['Preprocessing']['Epoch']\n",
    "outlier_thresh = config['Analysis']['outlier_thresh']\n",
    "\n",
    "baseline = eval(epoch_p['baseline'])\n",
    "\n",
    "# comp =  {k: v for d in config['components'] for k, v in d.items()}\n",
    "components = config['Analysis']['components']\n"
   ]
  },
  {
   "cell_type": "markdown",
   "id": "9cddd4a4-3270-468f-ac0e-811975cb4383",
   "metadata": {
    "tags": []
   },
   "source": [
    "## Paths"
   ]
  },
  {
   "cell_type": "code",
   "execution_count": null,
   "id": "5e126596-8a31-482e-8513-580f7acd8b16",
   "metadata": {},
   "outputs": [],
   "source": [
    "source_path = op.join(bids_root, 'derivatives', 'erp_preprocessing')\n",
    "\n",
    "derivatives_path = op.join(bids_root, 'derivatives', 'erp_indiv_subject_analysis')\n",
    "if Path(derivatives_path).exists() == False:\n",
    "    Path(derivatives_path).mkdir(parents=True)\n",
    "    \n",
    "out_path = op.join(derivatives_path, 'data')\n",
    "if Path(out_path).exists() == False:\n",
    "    Path(out_path).mkdir(parents=True)\n",
    "\n",
    "report_path = op.join(derivatives_path, 'reports')\n",
    "if Path(report_path).exists() == False:\n",
    "    Path(report_path).mkdir(parents=True)\n",
    "\n",
    "fig_path = op.join(derivatives_path, 'figures')\n",
    "if Path(fig_path).exists() == False:\n",
    "    Path(fig_path).mkdir(parents=True) \n",
    "   \n",
    "waveplot_figsize = (18, 6)\n",
    "fig_format = 'pdf'\n",
    "waveplot_stem = fig_path + '/waveforms_'\n",
    "   \n",
    "    \n",
    "epochs_suffix = '-epo.fif'"
   ]
  },
  {
   "cell_type": "markdown",
   "id": "c9cfc70a",
   "metadata": {},
   "source": [
    "## List of subjects"
   ]
  },
  {
   "cell_type": "code",
   "execution_count": null,
   "id": "da2aaf1d",
   "metadata": {},
   "outputs": [],
   "source": [
    "prefix = 'sub-'\n",
    "subjects = sorted([s[-7:] for s in glob(source_path + '/' + prefix + '*')])\n",
    "print(\"n subjects = \", len(subjects))\n",
    "print(subjects)"
   ]
  },
  {
   "cell_type": "markdown",
   "id": "d5859b1b",
   "metadata": {},
   "source": [
    "## Define conditions and labels"
   ]
  },
  {
   "cell_type": "code",
   "execution_count": null,
   "id": "583ba461",
   "metadata": {},
   "outputs": [],
   "source": [
    "conditions = ['Angry/Grey/target', 'Angry/Grey/nontarget',\n",
    "              'Angry/Red/target', 'Angry/Red/nontarget',\n",
    "              'Neutral/Grey/target', 'Neutral/Grey/nontarget',\n",
    "              'Neutral/Red/target', 'Neutral/Red/nontarget',\n",
    "              'target', 'nontarget'\n",
    "             ]\n",
    "\n",
    "coi = ['target', 'nontarget']\n",
    "\n",
    "contrasts = {'Angry/Grey':['Angry/Grey/target', 'Angry/Grey/nontarget'],\n",
    "             'Angry/Red':['Angry/Red/target', 'Angry/Red/nontarget'],\n",
    "             'Neutral/Grey':['Neutral/Grey/target', 'Neutral/Grey/nontarget'],\n",
    "             'Neutral/Red':['Neutral/Red/target', 'Neutral/Red/nontarget'],\n",
    "             'Target-Nontarget':['target', 'nontarget']\n",
    "            }"
   ]
  },
  {
   "cell_type": "markdown",
   "id": "aad5ac20",
   "metadata": {},
   "source": [
    "## Load in data"
   ]
  },
  {
   "cell_type": "code",
   "execution_count": null,
   "id": "64228f5e",
   "metadata": {},
   "outputs": [],
   "source": [
    "epochs = {}\n",
    "for subject in subjects:\n",
    "    subj_path = op.join(source_path, subject, 'eeg')\n",
    "    epochs[subject] = mne.read_epochs(str(subj_path + '/' + subject + '_task-' + task + '-epo.fif'),\n",
    "                                         verbose=None, \n",
    "                                         preload=True)\n"
   ]
  },
  {
   "cell_type": "markdown",
   "id": "55784200",
   "metadata": {},
   "source": [
    "## Create evokeds\n",
    "Averages over trials for each subject"
   ]
  },
  {
   "cell_type": "code",
   "execution_count": null,
   "id": "8df43936",
   "metadata": {},
   "outputs": [],
   "source": [
    "evoked = {}\n",
    "for subject in subjects:\n",
    "    evoked[subject] = {cond:epochs[subject][cond].average().apply_baseline(baseline)\n",
    "                       for cond in conditions\n",
    "                      }"
   ]
  },
  {
   "cell_type": "markdown",
   "id": "cae77257",
   "metadata": {},
   "source": [
    "## Create Difference waves\n"
   ]
  },
  {
   "cell_type": "code",
   "execution_count": null,
   "id": "45ba17eb",
   "metadata": {},
   "outputs": [],
   "source": [
    "diff = {}\n",
    "for subject in subjects:\n",
    "    diff[subject] = {contr:mne.combine_evoked([evoked[subject][contrasts[contr][0]], \n",
    "                                               -evoked[subject][contrasts[contr][1]]],\n",
    "                                              weights='equal')\n",
    "                     for contr in contrasts}"
   ]
  },
  {
   "cell_type": "markdown",
   "id": "0442229d-1735-44ba-a0ba-c7f1952525e4",
   "metadata": {
    "tags": []
   },
   "source": [
    "## Grand Averages"
   ]
  },
  {
   "cell_type": "code",
   "execution_count": null,
   "id": "534acf7d-69bd-4614-b246-be034f2c45f7",
   "metadata": {},
   "outputs": [],
   "source": [
    "gavg = {}\n",
    "for cond in conditions:\n",
    "    gavg[cond] = mne.grand_average([epochs[subject][cond].average() for subject in subjects])"
   ]
  },
  {
   "cell_type": "markdown",
   "id": "92289b98-7200-43d6-8e33-76e8f4176577",
   "metadata": {},
   "source": [
    "## Plot montage\n"
   ]
  },
  {
   "cell_type": "code",
   "execution_count": null,
   "id": "792d3323-e7a8-46b0-a7f0-25ce01dd758b",
   "metadata": {},
   "outputs": [],
   "source": [
    "gavg[conditions[0]].plot_sensors(show_names=True) #.savefig(fig_path + '/montage.' + fig_format)\n",
    "plt.show()"
   ]
  },
  {
   "cell_type": "markdown",
   "id": "d022540f-9d5e-4c56-b6a8-a3b55dab3c14",
   "metadata": {},
   "source": [
    "## Define region of interest (ROI)\n",
    "\n",
    "Cluster of electrodes around the vertex, where we expect N400 to be largest"
   ]
  },
  {
   "cell_type": "code",
   "execution_count": null,
   "id": "e24bf01e-4afc-4543-a9c4-85ff2443abda",
   "metadata": {},
   "outputs": [],
   "source": [
    "# convoluted unpacking from yaml\n",
    "rois = {k: v for d in config['rois'] for k, v in d.items()}\n",
    "for roi, chs in rois.items():\n",
    "    rois[roi]= [c.split(', ') for c in chs][0]"
   ]
  },
  {
   "cell_type": "markdown",
   "id": "3559c4b0-b584-45ff-abd7-2e9b1d38c173",
   "metadata": {},
   "source": [
    "#### Create mask identifying ROI electrodes"
   ]
  },
  {
   "cell_type": "code",
   "execution_count": null,
   "id": "155123ad-9395-424e-8c68-329f0aa2e587",
   "metadata": {},
   "outputs": [],
   "source": [
    "chs = pd.Series(gavg[conditions[0]].ch_names)\n",
    "\n",
    "roi_elec = [i for c in rois.values() for i in c ]\n",
    "mask = chs.isin(roi_elec).to_numpy()\n",
    "num_tp = gavg[conditions[0]].data.shape[1]\n",
    "mask = np.repeat(mask[:, np.newaxis], num_tp, axis=1)"
   ]
  },
  {
   "cell_type": "markdown",
   "id": "919286cd-ac24-41b8-bbc1-56fddd10ce7d",
   "metadata": {},
   "source": [
    "---\n",
    "## Visualization"
   ]
  },
  {
   "cell_type": "markdown",
   "id": "46c9c417-31f8-4275-a51b-88a89a0e32a7",
   "metadata": {},
   "source": [
    "## Joint plot of grand averages"
   ]
  },
  {
   "cell_type": "code",
   "execution_count": null,
   "id": "56510f4c-9edc-43bd-9d0c-cf683347c515",
   "metadata": {
    "scrolled": true,
    "tags": []
   },
   "outputs": [],
   "source": [
    "uv_range = 5\n",
    "ylim = 6\n",
    "\n",
    "for cond in sorted(conditions):\n",
    "    gavg[cond].plot_joint(title=(cond), \n",
    "                             ts_args={'hline':[0], \n",
    "                                      'ylim':{'eeg':[-ylim, ylim]}\n",
    "                                      },\n",
    "                             topomap_args={'sensors':False, 'contours':False, \n",
    "                                           'vmin':-uv_range, 'vmax':uv_range}\n",
    "                            ) #.savefig(jointplot_stem + cond + '.' + fig_format)     "
   ]
  },
  {
   "cell_type": "markdown",
   "id": "80433c14-d249-472d-b3e6-849817824832",
   "metadata": {},
   "source": [
    "## Plot grand averaged waveforms\n",
    "Across all participants"
   ]
  },
  {
   "cell_type": "code",
   "execution_count": null,
   "id": "ec63ad07-7927-44de-a7b6-91514fb8e552",
   "metadata": {},
   "outputs": [],
   "source": [
    "evk = {}\n",
    "for cond in conditions:\n",
    "    evk[cond] = [epochs[subject][cond].average() for subject in subjects]\n",
    "    \n",
    "ylim = {'eeg':[-3.25, 3.5]}\n",
    "panels = 3 \n",
    "\n",
    "for contr, conds in contrasts.items():\n",
    "    fig, axs = plt.subplots(1, panels, figsize=waveplot_figsize)    \n",
    "    ax = 0\n",
    "    if ax < panels - 1:\n",
    "        show=False\n",
    "    else:\n",
    "        show=True\n",
    "    for roi, chans in rois.items():\n",
    "        mne.viz.plot_compare_evokeds({c:evk[c] for c in conds},\n",
    "                                    picks=chans,\n",
    "                                    combine='mean',\n",
    "                                    title='Grand Average',\n",
    "                                    ylim=ylim,\n",
    "                                    legend='upper right',\n",
    "                                    show_sensors='lower right',\n",
    "                                    axes=axs[ax], show=show\n",
    "                                );     \n",
    "        ax += 1\n",
    "    fig.savefig(waveplot_stem + 'grandavg_' + '_'.join(contr.split('/')) + '.' + fig_format)"
   ]
  },
  {
   "cell_type": "markdown",
   "id": "6e8a5412-cb67-4c9a-94d3-a1b779ad4df1",
   "metadata": {},
   "source": [
    "## Difference waves"
   ]
  },
  {
   "cell_type": "code",
   "execution_count": null,
   "id": "26383d17-9c96-4a07-b36c-131dd47140ce",
   "metadata": {},
   "outputs": [],
   "source": [
    "evoked_diff = {}\n",
    "\n",
    "for contr, conds in contrasts.items():\n",
    "    evoked_diff[contr] = [mne.combine_evoked([ c1, c2],\n",
    "                                             weights=[1, -1])\n",
    "                          for (c1, c2) in zip(evk[conds[0]], evk[conds[1]])\n",
    "                         ]\n",
    "    "
   ]
  },
  {
   "cell_type": "code",
   "execution_count": null,
   "id": "add37bfa-be60-4180-8589-6a05df7d19d5",
   "metadata": {},
   "outputs": [],
   "source": [
    "ylim = {'eeg':[-3.25, 3.5]}\n",
    "panels = 3 \n",
    "\n",
    "for contr in contrasts:\n",
    "    fig, axs = plt.subplots(1, panels, figsize=waveplot_figsize)    \n",
    "    ax = 0\n",
    "    if ax < panels - 1:\n",
    "        show=False\n",
    "    else:\n",
    "        show=True\n",
    "    for roi, chans in rois.items():\n",
    "        mne.viz.plot_compare_evokeds({contr:evoked_diff[contr]},\n",
    "                                    picks=chans,\n",
    "                                    combine='mean',\n",
    "                                    title='Grand Average:' + contr,\n",
    "                                    ylim=ylim,\n",
    "                                    legend='upper right',\n",
    "                                    show_sensors='lower right',\n",
    "                                    axes=axs[ax], show=show\n",
    "                                );     \n",
    "        ax += 1\n",
    "    fig.savefig(waveplot_stem + 'grandavg_diff_' + '_'.join(contr.split('/')) + '.' + fig_format)"
   ]
  },
  {
   "cell_type": "markdown",
   "id": "8966d86c-815a-4f28-870d-3f53d73e1d01",
   "metadata": {},
   "source": [
    "## Show all difference waveforms overlaid"
   ]
  },
  {
   "cell_type": "code",
   "execution_count": null,
   "id": "b59d3c34-25cd-4535-9601-db20514ba47f",
   "metadata": {},
   "outputs": [],
   "source": [
    "cond_contr = ['Angry/Grey', 'Angry/Red', 'Neutral/Grey', 'Neutral/Red']\n",
    "   \n",
    "ylim = {'eeg':[-3.25, 3.5]}\n",
    "panels = 3 \n",
    "\n",
    "\n",
    "fig, axs = plt.subplots(1, panels, figsize=waveplot_figsize)    \n",
    "ax = 0\n",
    "if ax < panels - 1:\n",
    "    show=False\n",
    "else:\n",
    "    show=True\n",
    "for roi, chans in rois.items():\n",
    "    mne.viz.plot_compare_evokeds({contr:evoked_diff[contr] for contr in cond_contr},\n",
    "                                 picks=chans,\n",
    "                                 combine='mean',\n",
    "                                 title='Grand Average:' + contr,\n",
    "                                 ylim=ylim,\n",
    "                                 legend='upper right',\n",
    "                                 show_sensors='lower right',\n",
    "                                 ci=False, \n",
    "                                 axes=axs[ax], show=show\n",
    "                            );     \n",
    "    ax += 1\n",
    "fig.savefig(waveplot_stem + 'grandavg_diff_' + '_all.' + fig_format)"
   ]
  },
  {
   "cell_type": "markdown",
   "id": "22244132-9ee5-4dd4-b799-1b953aac5eaa",
   "metadata": {},
   "source": [
    "## Topo maps"
   ]
  },
  {
   "cell_type": "code",
   "execution_count": null,
   "id": "c3853d74-76c8-4572-9cbb-7c0a7a0b565e",
   "metadata": {},
   "outputs": [],
   "source": [
    "mne.grand_average(evoked_diff[contr])"
   ]
  },
  {
   "cell_type": "code",
   "execution_count": null,
   "id": "bb61e0aa-2302-4402-9cf2-fa00acb2a2b6",
   "metadata": {},
   "outputs": [],
   "source": [
    "vlim = [-5, 5]\n",
    "  \n",
    "\n",
    "for contr in contrasts:\n",
    "    fig = mne.grand_average(evoked_diff[contr]).plot_topomap(np.arange(diff[subject][contr].tmin + .025, diff[subject][contr].tmax , .050), average=0.050,\n",
    "                                          show_names=False, sensors=False, contours=False,\n",
    "                                          colorbar=False, \n",
    "                                          vlim=vlim,\n",
    "                                          title=str(contr),\n",
    "                                          ); \n",
    "    \n",
    "    fig.savefig(waveplot_stem + 'grandavg_diff_topoplot' + '_'.join(contr.split('/')) + '.' + fig_format)"
   ]
  },
  {
   "cell_type": "markdown",
   "id": "41ee337b-d7f9-4e81-90d4-ba2c94a7ee7c",
   "metadata": {},
   "source": [
    "## Generate results each subject\n",
    "\n",
    "Saved in an HTML report file for each participant:\n",
    "- joint plots\n",
    "- topo plots\n",
    "- waveform plots\n",
    "- difference wave plots\n",
    "- t-tests between target & nontarget\n",
    "\n",
    "\n"
   ]
  },
  {
   "cell_type": "code",
   "execution_count": null,
   "id": "c1566809-904e-4c04-b008-c031c08d0036",
   "metadata": {},
   "outputs": [],
   "source": [
    "df_all_list = []\n",
    "df_ttest_all_list = []\n",
    "\n",
    "for subject in subjects:\n",
    "    report = mne.Report(subject=subject, \n",
    "                            title=study_name + ' participant_id-level analysis: ' + subject,\n",
    "                            verbose='WARNING')\n",
    "    \n",
    "    # joint plot\n",
    "    uv_range = 5\n",
    "    ylim = 6\n",
    "    for cond in sorted(conditions):\n",
    "        fig = gavg[cond].plot_joint(title=(cond), \n",
    "                                    ts_args={'hline':[0], \n",
    "                                          'ylim':{'eeg':[-ylim, ylim]}\n",
    "                                          },\n",
    "                                    topomap_args={'sensors':False, 'contours':False, \n",
    "                                               'vmin':-uv_range, 'vmax':uv_range},\n",
    "                                    show=False\n",
    "                                )         \n",
    "        report.add_figure(fig=fig, title=cond)\n",
    "        plt.close(fig)\n",
    "        \n",
    "    # topo plot\n",
    "    vlim = [-3, 3]\n",
    "    for contr in contrasts:\n",
    "        fig = diff[subject][contr].plot_topomap(np.arange(diff[subject][contr].tmin + .025, diff[subject][contr].tmax , .050), average=0.050,\n",
    "                                      show_names=False, sensors=False, contours=False,\n",
    "                                      colorbar=False, \n",
    "                                      vlim=vlim,\n",
    "                                      title=str(subject + ' ' + contr ),\n",
    "                                               show=False);    \n",
    "        report.add_figure(fig=fig, title=contr)\n",
    "        plt.close(fig)\n",
    "\n",
    "    # waveform plot\n",
    "    ylim = {'eeg':[-3.25, 3.5]}\n",
    "    panels = 3    \n",
    "    fig, axs = plt.subplots(1, panels, figsize=(18, 6))    \n",
    "    ax = 0\n",
    "    for roi, chans in rois.items():\n",
    "        mne.viz.plot_compare_evokeds({c:evoked[subject][c] for c in coi},\n",
    "                                    picks=chans,\n",
    "                                    combine='mean',\n",
    "                                    title=subject + ' target - nontarget',\n",
    "                                    ylim=ylim,\n",
    "                                    legend='upper right',\n",
    "                                    show_sensors='lower right',\n",
    "                                    axes=axs[ax], show=False\n",
    "                                );     \n",
    "        ax += 1\n",
    "    report.add_figure(fig=fig, title='Waveform plots')\n",
    "    plt.close(fig)\n",
    "\n",
    "    # difference wave plot\n",
    "    ylim = {'eeg':[-3.25, 3.5]}\n",
    "    panels = 3\n",
    "    fig, axs = plt.subplots(1, panels, figsize=(18, 6))    \n",
    "    ax = 0\n",
    "    for roi, chans in rois.items():\n",
    "\n",
    "        mne.viz.plot_compare_evokeds(diff[subject],\n",
    "                                    picks=chans,\n",
    "                                    combine='mean',\n",
    "                                    title=subject + ' target - nontarget',\n",
    "                                    ylim=ylim,\n",
    "                                    legend='upper right',\n",
    "                                    show_sensors='lower right',\n",
    "                                    axes=axs[ax], show=False\n",
    "                                );     \n",
    "        ax += 1\n",
    "    report.add_figure(fig=fig, title='Waveform plots')\n",
    "    plt.close(fig)\n",
    "    \n",
    "    # Measure components\n",
    "    df_list = []\n",
    "\n",
    "    for c, cp in components.items():\n",
    "        tw_start = cp['t_min']\n",
    "        tw_end   = cp['t_max']\n",
    "        tw_width = cp['tw_width']\n",
    "        component_meas = cp['component_meas']\n",
    "\n",
    "        for cond in conditions:\n",
    "            for roi, chans in rois.items():                \n",
    "                if component_meas == 'meana':\n",
    "                    peak = np.array([np.nan, \n",
    "                                     np.median([tw_start, tw_end]), \n",
    "                                     np.nan])\n",
    "                else:\n",
    "                    # find peak amplitude in specified timewindow, among channels in ROI(s) of interest\n",
    "                    tmp_dat = evoked[subject][cond].copy().pick_channels(chans)\n",
    "                    try:\n",
    "                        peak = tmp_dat.get_peak(tmin=tw_start,\n",
    "                                                tmax=tw_end, \n",
    "                                                mode=component_meas,\n",
    "                                               )  \n",
    "                    except:\n",
    "                         peak = np.array([np.nan, \n",
    "                                         np.median([tw_start, tw_end]), \n",
    "                                         np.nan])\n",
    "\n",
    "                peak_window = ((peak[1] - (tw_width / 2)), \n",
    "                               (peak[1] + (tw_width / 2))\n",
    "                              )\n",
    "                idx_start, idx_stop = np.searchsorted(tmp_dat.times, peak_window)\n",
    "\n",
    "                df_list.append(pd.concat([pd.DataFrame({'participant_id':subject, \n",
    "                                                        'Condition':cond,\n",
    "                                                        'Component':c,\n",
    "                                                        'ROI':roi,\n",
    "                                                        'PeakLat':peak[1],\n",
    "                                                        'PeakChan':peak[0],\n",
    "                                                         'Channel':np.tile(chans, epochs[subject][cond].selection.shape)\n",
    "                                                       }),\n",
    "                                         pd.DataFrame(epochs[subject][cond].copy().get_data(picks=chans)[:, :, idx_start:idx_stop].mean(axis=-1).flatten() * 10e5,\n",
    "                                                      columns=['Amplitude'])\n",
    "                                         ],                                          \n",
    "                                         axis=1\n",
    "                                        )\n",
    "                              )\n",
    "    \n",
    "    df = pd.concat(df_list, ignore_index=True)\n",
    "    \n",
    "    # remove outliers\n",
    "    z_thresh = epoch_p['outlier_thresh'] # cutoff for defining outliers, in SD\n",
    "\n",
    "    # Compute standard (z) scores \n",
    "    df['Peak.Ampl.z'] = df.loc[:, ['participant_id', \n",
    "                                   'Component', \n",
    "                                   'Amplitude']].groupby(['participant_id', \n",
    "                                                          'Component']).transform(zscore)\n",
    "\n",
    "    # Drop outliers based on z_thresh\n",
    "    df = df[(df['Peak.Ampl.z'] >= -z_thresh) & (df['Peak.Ampl.z'] <= z_thresh)]\n",
    "\n",
    "    \n",
    "    df_all_list.append(df)\n",
    "    \n",
    "    # Ttests\n",
    "    df_list = []\n",
    "    dfi = df.set_index(['participant_id', 'Component', 'ROI', 'Condition'])\n",
    "    for component in components:\n",
    "        for contr_name, contr in contrasts.items():\n",
    "            for roi in rois:\n",
    "                a = dfi.loc[(subject, component, roi, contr[0]), 'Amplitude']\n",
    "                b = dfi.loc[(subject, component, roi, contr[1]), 'Amplitude']\n",
    "               # conduct t test\n",
    "                t, p = ttest_ind(a, b)\n",
    "                df_list.append(pd.DataFrame({'participant_id':subject,\n",
    "                                             'Component':component,\n",
    "                                             'ROI':roi,\n",
    "                                             'Contrast':contr_name,\n",
    "                                             't':t.round(2),\n",
    "                                             'p':p.round(4)\n",
    "                                            },\n",
    "                                            index=[0]\n",
    "                                           )\n",
    "                              )\n",
    "\n",
    "    df_ttest = pd.concat(df_list, ignore_index=True)                       \n",
    "    df_ttest['p (corr.)'] = multipletests(df_ttest['p'], alpha=.05, method='fdr_bh')[1].round(4)\n",
    "    df_ttest_all_list.append(df_ttest)\n",
    "    t_table = df_ttest.set_index([ 'Component', 'participant_id', 'Contrast', 'ROI']).to_html()\n",
    "    report.add_html(t_table, title='t tests of contrasts (corrected using FDR)')\n",
    "\n",
    "    \n",
    "    # Write report\n",
    "    report_name = report_path + '/' + subject + '.html'\n",
    "    report.save(report_name, overwrite=True)\n",
    "    \n",
    "df_all = pd.concat(df_all_list, ignore_index=True)  \n",
    "df_ttest_all = pd.concat(df_ttest_all_list, ignore_index=True)  "
   ]
  },
  {
   "cell_type": "markdown",
   "id": "adafa6a0-2646-4d50-90a7-5283d69b0584",
   "metadata": {},
   "source": [
    "### Export Trimmed Data For Analysis in R"
   ]
  },
  {
   "cell_type": "code",
   "execution_count": null,
   "id": "0e2eb82e-9a5d-4ba3-8b7a-9c872ed83bd4",
   "metadata": {},
   "outputs": [],
   "source": [
    "# generate 1 file/subject because the aggregated file is big and creates issues eg pushing to GitHub\n",
    "for subj in subjects:\n",
    "    out_dir = op.join(out_path, subj)\n",
    "    if Path(out_dir).exists() == False:\n",
    "        Path(out_dir).mkdir(parents=True) \n",
    "    feather.write_feather(df_all[df_all['participant_id'] == subj], \n",
    "                          out_dir + '/' + subj + '_indiv_trials' + '.feather')"
   ]
  },
  {
   "attachments": {},
   "cell_type": "markdown",
   "id": "6f262ec6",
   "metadata": {},
   "source": [
    "---\n",
    "## Measure differences for each subject and component\n",
    "\n",
    "The code first finds the peak negative value in the target-nontarget difference, for each component and ROI, for each individual. \n",
    "\n",
    "Then, it computes the average over a time window centered around the time of the component peak for that individual"
   ]
  },
  {
   "cell_type": "code",
   "execution_count": null,
   "id": "c3c8e35e",
   "metadata": {},
   "outputs": [],
   "source": [
    "# %%time\n",
    "\n",
    "df_list = []\n",
    "# df = pd.DataFrame(columns = ['participant_id', 'Trial', 'Condition', 'Component', 'Amplitude', 'Peak Time', 'Peak Chan'])\n",
    "\n",
    "for c, cp in components.items():\n",
    "    tw_start = cp['t_min']\n",
    "    tw_end   = cp['t_max']\n",
    "    tw_width = cp['tw_width']\n",
    "    component_meas = cp['component_meas']\n",
    "    \n",
    "    for subj in subjects:\n",
    "        for contr in contrasts:\n",
    "            for roi, chans in rois.items():                \n",
    "                if component_meas == 'meana':\n",
    "                    peak = np.array([np.nan, \n",
    "                                     np.median([tw_start, tw_end]), \n",
    "                                     np.min(tmp_dat.copy().get_data(picks=chans)[:, np.searchsorted(tmp_dat.times, np.median([tw_start, tw_end]))])\n",
    "                                    ])\n",
    "                else:\n",
    "                    # find peak amplitude in specified timewindow, among channels in ROI(s) of interest\n",
    "                    tmp_dat = diff[subj][contr].copy().pick_channels(chans)\n",
    "                    try:\n",
    "                        peak = tmp_dat.get_peak(tmin=tw_start,\n",
    "                                                tmax=tw_end, \n",
    "                                                mode=component_meas,\n",
    "                                               )  \n",
    "                    except:\n",
    "                         peak = np.array([np.nan, \n",
    "                                         np.median([tw_start, tw_end]), \n",
    "                                         np.nan])\n",
    "                       \n",
    "                    \n",
    "                peak_window = ((peak[1] - (tw_width / 2)), \n",
    "                               (peak[1] + (tw_width / 2))\n",
    "                              )\n",
    "                idx_start, idx_stop = np.searchsorted(tmp_dat.times, peak_window)\n",
    "\n",
    "                df_list.append(pd.DataFrame({'participant_id': subj, \n",
    "                                            'Contrast':contr,\n",
    "                                            'Component':c,\n",
    "                                             'ROI':roi,\n",
    "                                            'Amplitude':tmp_dat.copy().get_data(picks=chans)[:, idx_start:idx_stop].mean(axis=-1).flatten() * 10e5,\n",
    "                                            'PeakLat':peak[1],\n",
    "                                            'PeakChan':peak[0],\n",
    "                                             'Channel':chans}),\n",
    "#                                            pd.DataFrame(tmp_dat.copy().get_data(picks=chans)[:, idx_start:idx_stop].mean(axis=-1).flatten() * 10e5,\n",
    "#                                                       columns=['Amplitude'])\n",
    "#                                          ])\n",
    "                              )\n",
    "                                                       \n",
    "                                                        \n",
    "                                                       \n",
    "            \n",
    "df_diff = pd.concat(df_list, ignore_index=True)"
   ]
  },
  {
   "cell_type": "code",
   "execution_count": null,
   "id": "53faab88-fded-4edb-9b1c-16abecfa14c8",
   "metadata": {},
   "outputs": [],
   "source": [
    "df_diff.sample(12)"
   ]
  },
  {
   "cell_type": "markdown",
   "id": "e96940f7-744a-49bd-92a9-1a52962149ff",
   "metadata": {},
   "source": [
    "### Export Trimmed T-NT difference Data For Analysis in R"
   ]
  },
  {
   "cell_type": "code",
   "execution_count": null,
   "id": "7a0ca7cc-fefd-4ff8-aba8-2158eb02b246",
   "metadata": {},
   "outputs": [],
   "source": [
    "# generate 1 file/subject because the aggregated file is big and creates issues eg pushing to GitHub\n",
    "for subj in subjects:\n",
    "    out_dir = op.join(out_path, subj)\n",
    "    if Path(out_dir).exists() == False:\n",
    "        Path(out_dir).mkdir(parents=True) \n",
    "    feather.write_feather(df_diff[df_diff['participant_id'] == subj], \n",
    "                          out_dir + '/' + subj + '_diff_T-NT' + '.feather')"
   ]
  },
  {
   "cell_type": "markdown",
   "id": "b06b0b49",
   "metadata": {},
   "source": [
    "## Examine distribution of (adaptive) mean amplitudes"
   ]
  },
  {
   "cell_type": "code",
   "execution_count": null,
   "id": "517bf3db",
   "metadata": {},
   "outputs": [],
   "source": [
    "df_diff.groupby(['Component'])['Amplitude'].hist(grid=False)\n",
    "plt.show()"
   ]
  },
  {
   "cell_type": "markdown",
   "id": "a7d7e2a6",
   "metadata": {},
   "source": [
    "## Examine distribution of peak latencies"
   ]
  },
  {
   "cell_type": "code",
   "execution_count": null,
   "id": "f3180317",
   "metadata": {},
   "outputs": [],
   "source": [
    "df_diff.groupby(['Component'])['PeakLat'].hist(grid=False)\n",
    "plt.show()"
   ]
  },
  {
   "cell_type": "markdown",
   "id": "52852402",
   "metadata": {},
   "source": [
    "## Examine distribution of peak channels"
   ]
  },
  {
   "cell_type": "code",
   "execution_count": null,
   "id": "5d23c84b",
   "metadata": {},
   "outputs": [],
   "source": [
    "df_diff.groupby(['Component'])['PeakChan'].hist(grid=False, alpha=.8)\n",
    "plt.show()"
   ]
  },
  {
   "cell_type": "markdown",
   "id": "83ca370e",
   "metadata": {},
   "source": [
    "## Statistics\n",
    "\n",
    "We perform a *t*-test for each individual, between violation and control, based on the N400 measurements from above — i.e., 200 ms averages centred around the peak time, at the peak electrode."
   ]
  },
  {
   "cell_type": "markdown",
   "id": "bc0e94be-2c0b-4378-9657-db4bfd2e4195",
   "metadata": {},
   "source": [
    "### Aggregate (average) over channels within each ROI/Component/participant_id\n",
    "\n",
    "This is the input to the *t* tests"
   ]
  },
  {
   "cell_type": "code",
   "execution_count": null,
   "id": "10d10b3c-6964-4f26-b8c9-38175385c986",
   "metadata": {
    "scrolled": true,
    "tags": []
   },
   "outputs": [],
   "source": [
    "df_agg = df_all.groupby(['participant_id', 'Component', 'ROI', 'Condition']).mean()\n",
    "\n",
    "df_agg"
   ]
  },
  {
   "cell_type": "code",
   "execution_count": null,
   "id": "02afdc71-c789-40dd-892a-2b639611f796",
   "metadata": {},
   "outputs": [],
   "source": [
    "contrasts"
   ]
  },
  {
   "cell_type": "code",
   "execution_count": null,
   "id": "30970c9b-402e-4b6f-96e0-9e4b6a105257",
   "metadata": {},
   "outputs": [],
   "source": [
    "dfi.sample(12)"
   ]
  },
  {
   "cell_type": "code",
   "execution_count": null,
   "id": "080bf4fd",
   "metadata": {
    "scrolled": true,
    "tags": []
   },
   "outputs": [],
   "source": [
    "%%time\n",
    "df_list = []\n",
    "dfi = df_all.set_index(['participant_id', 'Component', 'ROI', 'Condition'])\n",
    "for component in components:\n",
    "     for subj in subjects:\n",
    "            for contr_name, contr in contrasts.items():\n",
    "                for roi in rois:\n",
    "                     a = dfi.loc[(subj, component, roi, contr[0]), 'Amplitude']\n",
    "                     b = dfi.loc[(subj, component, roi, contr[1]), 'Amplitude']\n",
    "# conduct t test\n",
    "                     t, p = ttest_ind(a, b)\n",
    "                     df_list.append(pd.DataFrame({'participant_id':subj,\n",
    "                                                  'Component':component,\n",
    "                                                  'ROI':roi,\n",
    "                                                  'Contrast':contr_name,\n",
    "                                                  't':t.round(2),\n",
    "                                                  'p':p.round(4)\n",
    "                                                 },\n",
    "                                                 index=[0]\n",
    "                                                )\n",
    "                                   )\n",
    "df_ttest = pd.concat(df_list, ignore_index=True)                       \n",
    "df_ttest['p (corr.)'] = multipletests(df_ttest['p'], alpha=.05, method='fdr_bh')[1].round(4)\n",
    "df_ttest.to_csv('indiv_subj_ttests.csv', index=False)\n",
    "# df_ttest.sort_values(by='t', axis=0)"
   ]
  },
  {
   "cell_type": "markdown",
   "id": "fcd92877-9c3d-4698-b6d7-92da4a60cb66",
   "metadata": {},
   "source": [
    "### See all t values"
   ]
  },
  {
   "cell_type": "code",
   "execution_count": null,
   "id": "ed66cf65-b2f1-42c2-957d-d0361f0fc81e",
   "metadata": {
    "tags": []
   },
   "outputs": [],
   "source": [
    "df_ttest_all.set_index([ 'Component', 'participant_id', 'Contrast', 'ROI'])"
   ]
  },
  {
   "cell_type": "markdown",
   "id": "da839cec",
   "metadata": {},
   "source": [
    "## Show only the significant t values (after FDR correction)\n",
    "\n",
    "Using a corrected *p* threshold of .05"
   ]
  },
  {
   "cell_type": "code",
   "execution_count": null,
   "id": "914206bd",
   "metadata": {
    "tags": []
   },
   "outputs": [],
   "source": [
    "df_ttest_all.set_index([ 'Component', 'participant_id', 'Contrast', 'ROI']).loc[multipletests(df_ttest['p'], alpha=.05, method='fdr_bh')[0], :]"
   ]
  },
  {
   "cell_type": "code",
   "execution_count": null,
   "id": "70d8faf7",
   "metadata": {},
   "outputs": [],
   "source": [
    "sig_subjs = multipletests(df_ttest['p'], alpha=.05, method='fdr_bh')[0].sum()\n",
    "pct_sig_subj = round(((sig_subjs / len(df_ttest)) * 100), 1)\n",
    "print('Percentage of t tests showing significant effects:', str(pct_sig_subj), '%')\n",
    "print('(corrected for multiple comparisions using false discovery rate)')"
   ]
  },
  {
   "cell_type": "code",
   "execution_count": null,
   "id": "6182c696",
   "metadata": {},
   "outputs": [],
   "source": []
  }
 ],
 "metadata": {
  "kernelspec": {
   "display_name": "Python 3",
   "language": "python",
   "name": "python3"
  },
  "language_info": {
   "codemirror_mode": {
    "name": "ipython",
    "version": 3
   },
   "file_extension": ".py",
   "mimetype": "text/x-python",
   "name": "python",
   "nbconvert_exporter": "python",
   "pygments_lexer": "ipython3",
   "version": "3.11.6"
  },
  "vscode": {
   "interpreter": {
    "hash": "760055932674735d287fd612619c18ffc3840c7c49c197eeb438d57975a1e213"
   }
  }
 },
 "nbformat": 4,
 "nbformat_minor": 5
}
