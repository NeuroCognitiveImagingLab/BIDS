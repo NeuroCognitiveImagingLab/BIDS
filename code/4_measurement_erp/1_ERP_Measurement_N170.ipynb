{
 "cells": [
  {
   "attachments": {},
   "cell_type": "markdown",
   "metadata": {},
   "source": [
    "# ERP Component measurement \n",
    "## Mean/Peak Amplitudes & Latencies for individual trials and averages over conditions\n",
    "### Exports data for LME analysis, as well as generating various plots for EDA\n",
    "\n",
    "---\n",
    "Copyright 2024 [Aaron J Newman](https://github.com/aaronjnewman), [NeuroCognitive Imaging Lab](http://ncil.science), [Dalhousie University](https://dal.ca)\n",
    "\n",
    "\n",
    "Released under the [The 3-Clause BSD License](https://opensource.org/licenses/BSD-3-Clause)\n",
    "\n",
    "---"
   ]
  },
  {
   "cell_type": "markdown",
   "metadata": {},
   "source": [
    "## Which component to analyze"
   ]
  },
  {
   "cell_type": "code",
   "execution_count": 4,
   "metadata": {},
   "outputs": [],
   "source": [
    "component = 'n170'"
   ]
  },
  {
   "cell_type": "markdown",
   "metadata": {},
   "source": [
    "## Initialization"
   ]
  },
  {
   "cell_type": "code",
   "execution_count": 6,
   "metadata": {},
   "outputs": [],
   "source": [
    "import matplotlib\n",
    "import matplotlib.pyplot as plt\n",
    "import numpy as np\n",
    "import pandas as pd\n",
    "import seaborn as sns\n",
    "import pyarrow.feather as feather\n",
    "from scipy.stats import zscore\n",
    "import os.path as op\n",
    "from glob import glob\n",
    "from pathlib import Path\n",
    "import json\n",
    "import mne\n",
    "mne.set_log_level(verbose='error')"
   ]
  },
  {
   "cell_type": "markdown",
   "metadata": {},
   "source": [
    "## Read Parameters from config.json\n",
    "\n",
    "Will import study-level parameters from `config.json` in `bids_root`"
   ]
  },
  {
   "cell_type": "code",
   "execution_count": 13,
   "metadata": {},
   "outputs": [],
   "source": [
    "# this shouldn't change if you run this script from its default location in code/import\n",
    "bids_root = '../..'\n",
    "\n",
    "config_file = op.join(bids_root, 'config.json')\n",
    "config = json.load(open(config_file))\n",
    "\n",
    "study_name = config['Study']['Name']\n",
    "study_name = config['Study']['TaskName']\n",
    "data_type = config['EEG']['data_type']\n",
    "eog = config['EEG']['eog']\n",
    "montage_fname = config['EEG']['montage']\n",
    "\n",
    "n_jobs = config['Preprocessing']['n_jobs']\n",
    "\n",
    "component_p = config['Analysis']['components'][component]\n",
    "component_meas = component_p['component_meas']"
   ]
  },
  {
   "cell_type": "markdown",
   "metadata": {},
   "source": [
    "## Time windows of interest"
   ]
  },
  {
   "cell_type": "code",
   "execution_count": null,
   "metadata": {},
   "outputs": [],
   "source": [
    "# Define the total length of the epoch \n",
    "# this can be less than what is in the input files; will use the crop function\n",
    "t_min = float(component_p['t_min'])\n",
    "t_max =  float(component_p['t_max'])\n",
    "baseline = eval(component_p['baseline'])\n",
    "\n",
    "# value obtained from butterfly plots visual inspection and added to config.json\n",
    "# peak_lat = {k: v for d in cfg['peak_lat'] for k, v in d.items()}\n",
    "peak_lat = component_p['peak_lat']\n",
    "\n",
    "# tw_width = {k: v for d in cfg['tw_width'] for k, v in d.items()}\n",
    "tw_width = component_p['tw_width']\n",
    "\n",
    "# Amount of time to shift event codes by, based on empirical testing with photocell\n",
    "#  to determine lag between event code and actual stimulus appearance on screen.\n",
    "#  For reasons that are unclear, we need to double this value (in sec) to get the correct shift\n",
    "tshift = config['t_shift']"
   ]
  },
  {
   "cell_type": "markdown",
   "metadata": {},
   "source": [
    "## Define ROIs\n",
    "clusters of electrodes to average over for waveform plots"
   ]
  },
  {
   "cell_type": "code",
   "execution_count": null,
   "metadata": {},
   "outputs": [],
   "source": [
    "montage = pd.read_csv('./9_18AverageNet128_v1.sfp', \n",
    "                      names=['Channel', 'ch_x', 'ch_y', 'ch_z'],\n",
    "                      sep='\\t')\n",
    "\n",
    "# convoluted unpacking from yaml\n",
    "rois_all = {k: v for d in config['rois'] for k, v in d.items()}\n",
    "for roi, chs in rois_all.items():\n",
    "    rois_all[roi]= [c.split(', ') for c in chs][0]\n",
    "\n",
    "rois = {roi:rois_all[roi]  for roi in component_p['rois']}"
   ]
  },
  {
   "cell_type": "markdown",
   "metadata": {},
   "source": [
    "## Conditions and Contrasts of Interest"
   ]
  },
  {
   "cell_type": "code",
   "execution_count": null,
   "metadata": {},
   "outputs": [],
   "source": [
    "conditions = list(event_id.values())\n",
    "\n",
    "contrasts = {'CS-FF':['ConsonantString', 'FalseFont'],\n",
    "             'RW-FF':['RealWord', 'FalseFont'],\n",
    "             'PW-FF':['PseudoWord', 'FalseFont'],\n",
    "             'NW-FF':['NovelWord', 'FalseFont'],\n",
    "             'RW-CS':['RealWord', 'ConsonantString'],\n",
    "             'PW-CS':['PseudoWord', 'ConsonantString'],\n",
    "             'NW-CS':['NovelWord', 'ConsonantString'],\n",
    "             'RW-PW':['RealWord', 'PseudoWord'],\n",
    "             'RW-NW':['RealWord', 'NovelWord'],\n",
    "             'NW-PW':['NovelWord', 'PseudoWord']\n",
    "             }\n",
    "contr_order = list(contrasts.keys())"
   ]
  },
  {
   "cell_type": "markdown",
   "metadata": {
    "tags": []
   },
   "source": [
    "## Paths"
   ]
  },
  {
   "cell_type": "code",
   "execution_count": null,
   "metadata": {},
   "outputs": [],
   "source": [
    "source_path = op.join(bids_root, 'derivatives', 'erp_preprocessing')\n",
    "\n",
    "derivatives_path = op.join(bids_root, 'derivatives', 'erp_measurement', component)\n",
    "if Path(derivatives_path).exists() == False:\n",
    "    Path(derivatives_path).mkdir(parents=True)\n",
    "\n",
    "out_path = op.join(derivatives_path, 'data')\n",
    "if Path(out_path).exists() == False:\n",
    "    Path(out_path).mkdir(parents=True)\n",
    "\n",
    "fig_path = op.join(derivatives_path, 'figures')\n",
    "if Path(fig_path).exists() == False:\n",
    "    Path(fig_path).mkdir(parents=True) \n",
    "    \n",
    "epochs_suffix = '-epo.fif'\n",
    "group_stem = op.join(out_path, 'participants_')\n",
    "pointplot_stem = op.join(fig_path, 'pointplot_')\n",
    "swarmplot_stem = op.join(fig_path, 'swarmplot_')"
   ]
  },
  {
   "cell_type": "markdown",
   "metadata": {},
   "source": [
    "## Figure settings"
   ]
  },
  {
   "cell_type": "code",
   "execution_count": null,
   "metadata": {},
   "outputs": [],
   "source": [
    "sns.set_palette('colorblind')\n",
    "sns.set_style('white')\n",
    "sns.set_context('talk')\n",
    "\n",
    "colors = {'FalseFont':sns.color_palette('colorblind')[0], \n",
    "          'ConsonantString':sns.color_palette('colorblind')[1], \n",
    "          'PseudoWord':sns.color_palette('colorblind')[2], \n",
    "          'NovelWord':sns.color_palette('colorblind')[3], \n",
    "          'RealWord':sns.color_palette('colorblind')[4]}\n",
    "\n",
    "contr_colors = {'CS-FF':colors['ConsonantString'],\n",
    "                'RW-FF':colors['RealWord'],\n",
    "                'PW-FF':colors['PseudoWord'],\n",
    "                'NW-FF':colors['NovelWord'],\n",
    "                'RW-CS':colors['RealWord'],\n",
    "                'PW-CS':colors['PseudoWord'],\n",
    "                'NW-CS':colors['NovelWord'],\n",
    "                'RW-PW':sns.color_palette('colorblind')[8],\n",
    "                'RW-NW':sns.color_palette('colorblind')[9],\n",
    "                'NW-PW':sns.color_palette('colorblind')[6]\n",
    "                }\n",
    "\n",
    "fig_format = 'pdf'"
   ]
  },
  {
   "cell_type": "markdown",
   "metadata": {},
   "source": [
    "## Subject list"
   ]
  },
  {
   "cell_type": "code",
   "execution_count": null,
   "metadata": {},
   "outputs": [],
   "source": [
    "prefix = 'sub-'\n",
    "subjects = sorted([s[-7:] for s in glob(source_path + '/' + prefix + '*')])"
   ]
  },
  {
   "cell_type": "markdown",
   "metadata": {},
   "source": [
    "---\n",
    "# Read in the data"
   ]
  },
  {
   "cell_type": "markdown",
   "metadata": {},
   "source": [
    "When we read the data, we also crop the epochs as specified above, and time-shift the event onsets to match true stimulus timing"
   ]
  },
  {
   "cell_type": "code",
   "execution_count": null,
   "metadata": {},
   "outputs": [],
   "source": [
    "epochs = {}\n",
    "for subject in subjects:\n",
    "    subj_path = op.join(derivatives_path, subject, data_type)\n",
    "    f = op.join(out_path,  subject + '_task-' + task_name + '_desc-preproc' + epochs_suffix)\n",
    "    print(f)\n",
    "    epochs[subject] = mne.read_epochs(f,\n",
    "                                      verbose=None, \n",
    "                                      preload=True)\n",
    "    # correct for stimulus presentation delay\n",
    "    epochs[subject]._raw_times = epochs[subject]._raw_times - tshift\n",
    "    epochs[subject]._times_readonly = epochs[subject]._times_readonly - tshift\n",
    "    \n",
    "    epochs[subject].crop(tmin=t_min, tmax=t_max).apply_baseline(baseline)\n",
    "    \n",
    "    epochs[subject].set_montage(montage_fname)"
   ]
  },
  {
   "cell_type": "markdown",
   "metadata": {},
   "source": [
    "---\n",
    "# Compute single-trial measurements\n",
    "\n"
   ]
  },
  {
   "cell_type": "code",
   "execution_count": null,
   "metadata": {},
   "outputs": [],
   "source": [
    "%%time\n",
    "\n",
    "df_list = []\n",
    "\n",
    "for subj in subjects:\n",
    "    for cond in conditions:\n",
    "        for roi, chans in rois_all.items():                \n",
    "            if component_meas == 'meana':\n",
    "                peak = np.array([np.nan, \n",
    "                                 np.median([component_p['tw_range'][0], \n",
    "                                            component_p['tw_range'][1]]\n",
    "                                          ), \n",
    "                                 np.nan])\n",
    "            else:\n",
    "                # find peak amplitude in specified timewindow, among channels in ROI(s) of interest\n",
    "                tmp_dat = epochs[subj][cond].average().pick_channels(chans)\n",
    "                try:\n",
    "                    # try to find most negative/positive peak\n",
    "                    peak = tmp_dat.get_peak(tmin=component_p['tw_range'][0],\n",
    "                                            tmax=component_p['tw_range'][1], \n",
    "                                            mode=component_p['component_meas'],\n",
    "                                        )  \n",
    "                except:\n",
    "                    # peak finding will fail if, eg, looking for peak negativity but all values in tw are positive\n",
    "                    # in this case, take mean amplitude around group peak\n",
    "                    tw_start = component_p['peak_lat'] - component_p['tw_width']\n",
    "                    tw_end   = component_p['peak_lat'] + component_p['tw_width']\n",
    "                    peak = np.array([np.nan, \n",
    "                                     np.median([tw_start, tw_end]), \n",
    "                                     np.nan])                   \n",
    "\n",
    " \n",
    "            # define time window for averaging, centred on peak\n",
    "            peak_window = ((peak[1] - (component_p['tw_width'] / 2)), \n",
    "                           (peak[1] + (component_p['tw_width'] / 2)))\n",
    "            idx_start, idx_stop = np.searchsorted(epochs[subj][cond].times, peak_window)\n",
    "\n",
    "            # Get individual trial measurements centred on print tuning peak\n",
    "            df_list.append(pd.concat([pd.DataFrame({'participant_id': subj, \n",
    "                                                   'Component':component,\n",
    "                                                   'Trial_Time':np.repeat(epochs[subj][cond].events[:,0], len(chans)),\n",
    "                                                   'Condition':cond,\n",
    "                                                    'ROI':roi,\n",
    "                                                    'Peak.Chan':peak[0],\n",
    "                                                    'Peak.Lat':peak[1],\n",
    "                                                   'Channel':np.tile(chans, epochs[subj][cond].selection.shape),\n",
    "                                                   }),\n",
    "                                    pd.DataFrame(epochs[subj][cond].copy().get_data(picks=chans)[:, :, idx_start:idx_stop].mean(axis=-1).flatten() * 10e5,\n",
    "                                                 columns=['Amplitude']), \n",
    "                                    ], axis=1))\n",
    "\n",
    "# concatenate list of dataframes, and add x,y,z coordinates of channels                \n",
    "df = pd.merge((pd.concat(df_list, ignore_index=True)), montage, how='left', on='Channel')"
   ]
  },
  {
   "cell_type": "code",
   "execution_count": null,
   "metadata": {},
   "outputs": [],
   "source": [
    "df.sample(24)"
   ]
  },
  {
   "cell_type": "markdown",
   "metadata": {},
   "source": [
    "## EDA"
   ]
  },
  {
   "cell_type": "markdown",
   "metadata": {},
   "source": [
    "### Boxplot of raw data values"
   ]
  },
  {
   "cell_type": "code",
   "execution_count": null,
   "metadata": {},
   "outputs": [],
   "source": [
    "ax = sns.catplot(y='Amplitude', x='Condition', hue='Condition',\n",
    "                 kind='box', \n",
    "                 data=df[df['Component'] == component]\n",
    "                )\n",
    "ax.set_xticklabels(rotation = 20)\n",
    "\n",
    "plt.show()"
   ]
  },
  {
   "attachments": {},
   "cell_type": "markdown",
   "metadata": {},
   "source": [
    "## Remove Outliers\n",
    "\n",
    "Remove individual data points based on z threshold. Compute separately for each subject and component."
   ]
  },
  {
   "cell_type": "code",
   "execution_count": null,
   "metadata": {},
   "outputs": [],
   "source": [
    "z_thresh = config['outlier_thresh'] # cutoff for defining outliers, in SD\n",
    "\n",
    "# Compute standard (z) scores \n",
    "df['Peak.Ampl.z'] = df.loc[:, ['participant_id', \n",
    "                               'Component', \n",
    "                               'Amplitude']].groupby(['participant_id', \n",
    "                                                      'Component']).transform(zscore)\n",
    "\n",
    "len_orig = len(df)\n",
    "\n",
    "# Drop outliers based on z_thresh\n",
    "df = df[(df['Peak.Ampl.z'] >= -z_thresh) & (df['Peak.Ampl.z'] <= z_thresh)]\n",
    "\n",
    "n_dropped = len_orig - len(df)\n",
    "print(str(round(((n_dropped / len_orig) * 100), 3)) + '% of data dropped as outliers based Peak.Amplitude z +/-' + str(z_thresh))"
   ]
  },
  {
   "cell_type": "markdown",
   "metadata": {},
   "source": [
    "### Boxplots post-outlier removal"
   ]
  },
  {
   "cell_type": "code",
   "execution_count": null,
   "metadata": {},
   "outputs": [],
   "source": [
    "ax = sns.catplot(y='Amplitude', x='Condition', hue='Condition',\n",
    "                 kind='box',  order=conditions,\n",
    "                 data=df[df['Component'] == component]\n",
    "                )\n",
    "ax.set_xticklabels(rotation = 20)\n",
    "\n",
    "plt.show()"
   ]
  },
  {
   "cell_type": "markdown",
   "metadata": {},
   "source": [
    "### Export Trimmed Data For Analysis in R"
   ]
  },
  {
   "cell_type": "code",
   "execution_count": null,
   "metadata": {},
   "outputs": [],
   "source": [
    "# generate 1 file/subject because the aggregated file is big and creates issues eg pushing to GitHub\n",
    "for subj in subjects:\n",
    "    out_dir = op.join(out_path, subj)\n",
    "    if Path(out_dir).exists() == False:\n",
    "        Path(out_dir).mkdir(parents=True) \n",
    "    feather.write_feather(df[df['participant_id'] == subj], \n",
    "                          out_dir + '/' + subj + '_' + component + '_indiv_trials_trimmed_' + component_meas + '_' + str(round(component_p['tw_range'][0] * 1000)) + '-' + str(round(component_p['tw_range'][1] * 1000)) + '_' + subj + '.feather')"
   ]
  },
  {
   "cell_type": "markdown",
   "metadata": {},
   "source": [
    "---\n",
    "## Aggregate over trials and channels, within subjects and conditions\n",
    "- To ensure proper CIs (between-subject variance) in plots below.\n",
    "- Also select only ROIOIs"
   ]
  },
  {
   "cell_type": "code",
   "execution_count": null,
   "metadata": {},
   "outputs": [],
   "source": [
    "df_agg = df[df['ROI'].isin(rois)].groupby(['participant_id', 'Component', 'Condition', 'ROI']).mean().reset_index()\n",
    "df_agg = df_agg.drop(columns=['Trial_Time', 'ch_x', 'ch_y', 'ch_z', 'Peak.Ampl.z'])\n",
    "# write to file\n",
    "feather.write_feather(df_agg, group_stem + 'trialavg.feather')\n",
    "df_agg.sample(12)"
   ]
  },
  {
   "cell_type": "markdown",
   "metadata": {},
   "source": [
    "## EDA - Aggregated Data"
   ]
  },
  {
   "cell_type": "markdown",
   "metadata": {},
   "source": [
    "### Amplitude"
   ]
  },
  {
   "cell_type": "code",
   "execution_count": null,
   "metadata": {},
   "outputs": [],
   "source": [
    "ax = sns.catplot(y='Amplitude', x='ROI', hue='Condition',\n",
    "                 kind='box',  #order=conditions,\n",
    "                 data=df_agg[df_agg['Component'] == component],\n",
    "                 aspect=1.5\n",
    "                )\n",
    "ax.set_xticklabels(rotation = 20)\n",
    "plt.show()"
   ]
  },
  {
   "cell_type": "code",
   "execution_count": null,
   "metadata": {},
   "outputs": [],
   "source": [
    "ax = sns.catplot(y='Amplitude', x='Condition', #col='ROI',\n",
    "                 kind='swarm',  hue='ROI', order=conditions, #hue_order=conditions,\n",
    "                 dodge=True,\n",
    "                 data=df_agg[df_agg['Component'] == component],\n",
    "                 aspect=1.25\n",
    "                )\n",
    "ax.set_xticklabels(rotation = 30)\n",
    "ax.savefig(swarmplot_stem + 'Amplitude' + '.' + fig_format)\n",
    "plt.show()"
   ]
  },
  {
   "cell_type": "code",
   "execution_count": null,
   "metadata": {},
   "outputs": [],
   "source": [
    "sns.displot(kind='kde',\n",
    "            x='Amplitude', col='Condition', row='ROI',\n",
    "            fill=True, \n",
    "            data=df_agg\n",
    "           )\n",
    "plt.show()"
   ]
  },
  {
   "cell_type": "code",
   "execution_count": null,
   "metadata": {},
   "outputs": [],
   "source": [
    "sns.displot(kind='kde',\n",
    "            x='Amplitude', col='Condition', row='ROI',\n",
    "            fill=True, \n",
    "            data=df_agg\n",
    "           )\n",
    "plt.show()"
   ]
  },
  {
   "cell_type": "markdown",
   "metadata": {},
   "source": [
    "#### Latency\n",
    "\n"
   ]
  },
  {
   "cell_type": "code",
   "execution_count": null,
   "metadata": {},
   "outputs": [],
   "source": [
    "ax = sns.catplot(y='Peak.Lat', x='Condition', col='ROI',\n",
    "                 kind='swarm',  order=conditions, \n",
    "                 hue='participant_id', legend=False,\n",
    "                 data=df_agg\n",
    "                )\n",
    "ax.set_xticklabels(rotation = 20)\n",
    "plt.show()"
   ]
  },
  {
   "cell_type": "code",
   "execution_count": null,
   "metadata": {},
   "outputs": [],
   "source": [
    "sns.displot(kind='kde',\n",
    "            x='Peak.Lat', col='Condition', row='ROI',\n",
    "            fill=True, facet_kws={'sharey':False},\n",
    "            rug=True, #rug_kws={'hue':'participant_id'},\n",
    "            data=df_agg\n",
    "           )\n",
    "# sns.rugplot(data=df_agg[df_agg['Component'] == component], x='Peak_Lat', col='Condition', row='ROI',)\n",
    "plt.show()"
   ]
  },
  {
   "cell_type": "markdown",
   "metadata": {},
   "source": [
    "---\n",
    "## Descriptives"
   ]
  },
  {
   "cell_type": "markdown",
   "metadata": {},
   "source": [
    "### Amplitude"
   ]
  },
  {
   "cell_type": "code",
   "execution_count": null,
   "metadata": {},
   "outputs": [],
   "source": [
    "descriptives = df_agg.loc[:, ['Component', 'Condition',  'ROI', 'Amplitude']\n",
    "                     ].groupby(['Component','Condition', 'ROI']\n",
    "                              ).describe()\n",
    "pd.set_option(\"display.max_rows\", None)\n",
    "pd.set_option(\"display.max_columns\", None)\n",
    "descriptives['Amplitude'][['mean', 'std']]"
   ]
  },
  {
   "cell_type": "markdown",
   "metadata": {
    "tags": []
   },
   "source": [
    "## Point Plots of Amplitude\n"
   ]
  },
  {
   "cell_type": "code",
   "execution_count": null,
   "metadata": {},
   "outputs": [],
   "source": [
    "\n",
    "ax = sns.catplot(kind='point',\n",
    "                 data=df_agg.groupby(['participant_id', 'Condition']).mean().reset_index(),\n",
    "               x='Condition', y='Amplitude', \n",
    "               join=False, dodge=True, order=conditions, hue='Condition', hue_order=conditions,\n",
    "               height=4, aspect=1.5,\n",
    "              )\n",
    "\n",
    "ax.set_xticklabels(rotation = 20)\n",
    "\n",
    "# Save images to files\n",
    "ax.savefig(pointplot_stem + 'Amplitude' + '.' + fig_format)\n",
    "\n",
    "plt.show()"
   ]
  },
  {
   "cell_type": "code",
   "execution_count": null,
   "metadata": {},
   "outputs": [],
   "source": [
    "\n",
    "ax = sns.catplot(kind='point',\n",
    "                 data=df_agg.groupby(['participant_id', 'Condition', 'ROI']).mean().reset_index(),\n",
    "               x='Condition', y='Amplitude', hue='ROI',\n",
    "               join=False, dodge=.2, order=conditions, legend=False, #hue='Condition', hue_order=conditions,\n",
    "               height=4, aspect=1.5,\n",
    "              )\n",
    "\n",
    "ax.set_xticklabels(rotation = 20)\n",
    "\n",
    "# Save images to files\n",
    "ax.savefig(pointplot_stem + 'Amplitude' + '.' + fig_format)\n",
    "\n",
    "plt.show()"
   ]
  },
  {
   "cell_type": "markdown",
   "metadata": {},
   "source": [
    "### Compare L-R "
   ]
  },
  {
   "cell_type": "code",
   "execution_count": null,
   "metadata": {},
   "outputs": [],
   "source": [
    "\n",
    "sns.catplot(kind='point',\n",
    "            data=df_agg.groupby(['participant_id', 'Condition', 'ROI']).mean().reset_index(),\n",
    "            x='ROI', y='Amplitude',\n",
    "            join=True, dodge=.333,  hue='Condition', hue_order=conditions,\n",
    "            height=6, aspect=1.1\n",
    "           )\n",
    "\n",
    "plt.show()"
   ]
  },
  {
   "cell_type": "markdown",
   "metadata": {},
   "source": [
    "### Laterality (Left-Right differences)"
   ]
  },
  {
   "cell_type": "code",
   "execution_count": null,
   "metadata": {},
   "outputs": [],
   "source": [
    "hemi_dat = df_agg.loc[:, ['Component',  'participant_id', 'Condition', 'ROI', 'Amplitude']].set_index(['Component',  'participant_id', 'Condition', 'ROI'])\n",
    "\n",
    "lr_diff = pd.pivot_table(hemi_dat,\n",
    "                       index=['Component', 'Condition',  'participant_id'],\n",
    "                       columns=['ROI'], \n",
    "                       values='Amplitude').diff(axis=1).drop(columns='left').rename(mapper={'right':'L-R Diff'}, axis=1).reset_index()\n"
   ]
  },
  {
   "cell_type": "code",
   "execution_count": null,
   "metadata": {},
   "outputs": [],
   "source": [
    "ax = sns.catplot(kind='point',\n",
    "            data=lr_diff,\n",
    "            x='L-R Diff', y='Condition',  \n",
    "             hue='Condition', hue_order=conditions, legend=False,\n",
    "            join=False, dodge=True, order=conditions,\n",
    "            height=4, aspect=2, \n",
    "      )\n",
    "plt.axvline(0, color='k', linestyle='--')\n",
    "plt.show()"
   ]
  },
  {
   "cell_type": "markdown",
   "metadata": {},
   "source": [
    "## Latencies"
   ]
  },
  {
   "attachments": {},
   "cell_type": "markdown",
   "metadata": {},
   "source": [
    "### Descriptives"
   ]
  },
  {
   "cell_type": "code",
   "execution_count": null,
   "metadata": {},
   "outputs": [],
   "source": [
    "descriptives = df_agg.loc[:, ['Component', 'Condition',  'ROI', 'Peak.Lat']\n",
    "                     ].groupby(['Component','Condition', 'ROI']\n",
    "                              ).describe()\n",
    "pd.set_option(\"display.max_rows\", None)\n",
    "pd.set_option(\"display.max_columns\", None)\n",
    "descriptives['Peak.Lat'] #[['mean', 'std']]"
   ]
  },
  {
   "attachments": {},
   "cell_type": "markdown",
   "metadata": {},
   "source": [
    "### Plot"
   ]
  },
  {
   "cell_type": "code",
   "execution_count": null,
   "metadata": {},
   "outputs": [],
   "source": [
    "\n",
    "\n",
    "ax = sns.catplot(kind='point',\n",
    "                 data=df_agg.groupby(['participant_id', 'Condition', 'ROI']).mean().reset_index(), \n",
    "                x='Peak.Lat', y='Condition',  \n",
    "             hue='Condition', hue_order=conditions, legend=False,\n",
    "                 join=False,   order=conditions,\n",
    "                  height=4, aspect=2,\n",
    "             )\n",
    "\n",
    "# Save images to files\n",
    "ax.savefig(pointplot_stem + 'PeakLat_' + '.' + fig_format)\n",
    "\n",
    "plt.show()"
   ]
  },
  {
   "cell_type": "markdown",
   "metadata": {},
   "source": [
    "---\n",
    "# Contrasts\n",
    "\n",
    "For contrasts, we find the peak of the *difference* between conditions within our time window.\n",
    "\n",
    "This is achived by pivoting the DataFrame to wide format (columns for each condition containing amplitude values), computing between-column differences, then stacking back to a long-format DataFrame."
   ]
  },
  {
   "cell_type": "code",
   "execution_count": null,
   "metadata": {},
   "outputs": [],
   "source": [
    "df_contr = df[df['ROI'].isin(rois)].groupby(['participant_id', 'Component', 'Condition', 'Channel', 'ROI'])['Amplitude'].mean().reset_index()\n",
    "df_contr = df_contr.pivot(index=['participant_id', 'ROI', 'Channel'], columns=['Condition'], values=['Amplitude'])\n",
    "df_contr.columns = df_contr.columns.droplevel() # removes gratuitious extra level of column index\n",
    "# compute contrasts\n",
    "for contr, conds in contrasts.items():\n",
    "    df_contr[contr] = df_contr[conds[0]] - df_contr[conds[1]]\n",
    "# remove conditions, leave only contrasts\n",
    "df_contr = df_contr.drop(columns=conditions)\n",
    "# stack (melt) back to long format, name columns properly\n",
    "df_contr = df_contr.stack().rename('Amplitude').reset_index().rename(columns={'Condition':'Contrast'})\n",
    "# df_contr.sample(16)"
   ]
  },
  {
   "cell_type": "code",
   "execution_count": null,
   "metadata": {},
   "outputs": [],
   "source": [
    "df_contr.sample(16)"
   ]
  },
  {
   "cell_type": "markdown",
   "metadata": {},
   "source": [
    "### Export Data For Analysis in R"
   ]
  },
  {
   "cell_type": "code",
   "execution_count": null,
   "metadata": {},
   "outputs": [],
   "source": [
    "feather.write_feather(df_contr, group_stem + 'trialavg_contr.feather')"
   ]
  },
  {
   "cell_type": "markdown",
   "metadata": {},
   "source": [
    "### Descriptives"
   ]
  },
  {
   "cell_type": "code",
   "execution_count": null,
   "metadata": {},
   "outputs": [],
   "source": [
    "descriptives = df_contr.loc[:, ['Contrast', 'ROI', 'Amplitude']\n",
    "                     ].groupby(['Contrast', 'ROI']\n",
    "                              )['Amplitude'].describe()\n",
    "descriptives"
   ]
  },
  {
   "cell_type": "markdown",
   "metadata": {},
   "source": [
    "## Aggregate over channels within subject/contrast/ROI"
   ]
  },
  {
   "cell_type": "code",
   "execution_count": null,
   "metadata": {},
   "outputs": [],
   "source": [
    "df_contr_avg = df_contr.groupby(['participant_id', 'Contrast', 'ROI']).mean().reset_index()\n",
    "df_contr_avg.head(12)"
   ]
  },
  {
   "cell_type": "code",
   "execution_count": null,
   "metadata": {},
   "outputs": [],
   "source": [
    "ax = sns.catplot(kind='box',\n",
    "                 data=df_contr_avg.groupby(['participant_id', 'Contrast']).mean().reset_index(),\n",
    "                 x='Contrast',  y='Amplitude',\n",
    "                 order=contr_order, hue_order=contr_order,\n",
    "                 palette=contr_colors,\n",
    "                 height=6, aspect=2, \n",
    "                )\n",
    "ax.set_xticklabels(rotation = 30)\n",
    "\n",
    "plt.show()"
   ]
  },
  {
   "cell_type": "code",
   "execution_count": null,
   "metadata": {
    "tags": []
   },
   "outputs": [],
   "source": [
    "ax = sns.catplot(kind='point',\n",
    "            x='Contrast',  y='Amplitude', hue='Contrast', join=False,\n",
    "            order=contr_order, hue_order=contr_order,\n",
    "            data=df_contr_avg.groupby(['participant_id', 'Contrast']).mean().reset_index(),\n",
    "            height=4, aspect=1.75, \n",
    "      )\n",
    "\n",
    "plt.axhline(0, color='k', linestyle='--')\n",
    "\n",
    "ax.set_xticklabels(rotation = 30)\n",
    "# Save images to files\n",
    "ax.savefig(pointplot_stem + 'Amplitude' + '_contr-all.' + fig_format)\n",
    "\n",
    "plt.show()"
   ]
  },
  {
   "cell_type": "markdown",
   "metadata": {},
   "source": [
    "### Laterality (Left-Right differences)"
   ]
  },
  {
   "cell_type": "code",
   "execution_count": null,
   "metadata": {},
   "outputs": [],
   "source": [
    "hemi_dat = df_contr_avg.loc[:, ['participant_id', 'Contrast', 'ROI', 'Amplitude']].set_index(['participant_id', 'Contrast', 'ROI'])\n",
    "\n",
    "df_lr_pt = pd.pivot_table(hemi_dat,\n",
    "                       index=['Contrast',  'participant_id'],\n",
    "                       columns=['ROI'], \n",
    "                       values='Amplitude')\n",
    "df_lr_pt['L-R'] = df_lr_pt['left'] - df_lr_pt['right']\n",
    "\n",
    "\n",
    "ax = sns.catplot(kind='point',\n",
    "            data=df_lr_pt.reset_index(),\n",
    "            x='L-R', y='Contrast',  \n",
    "             hue='Contrast', legend=False,\n",
    "             order=contr_order, hue_order=contr_order,\n",
    "\n",
    "            join=False, dodge=True, \n",
    "            height=5, aspect=2, \n",
    "      )\n",
    "plt.axvline(0, color='k', linestyle='--')\n",
    "plt.show()\n",
    "\n",
    "ax.savefig(pointplot_stem + 'Amplitude' + '_contr-all_L-R.' + fig_format)\n",
    "plt.show()"
   ]
  },
  {
   "cell_type": "code",
   "execution_count": null,
   "metadata": {},
   "outputs": [],
   "source": []
  }
 ],
 "metadata": {
  "kernel_info": {
   "name": "python3"
  },
  "kernelspec": {
   "display_name": "Python 3.10.8 ('ncil')",
   "language": "python",
   "name": "python3"
  },
  "language_info": {
   "codemirror_mode": {
    "name": "ipython",
    "version": 3
   },
   "file_extension": ".py",
   "mimetype": "text/x-python",
   "name": "python",
   "nbconvert_exporter": "python",
   "pygments_lexer": "ipython3",
   "version": "3.11.7"
  },
  "nteract": {
   "version": "0.12.2"
  },
  "vscode": {
   "interpreter": {
    "hash": "760055932674735d287fd612619c18ffc3840c7c49c197eeb438d57975a1e213"
   }
  }
 },
 "nbformat": 4,
 "nbformat_minor": 4
}
