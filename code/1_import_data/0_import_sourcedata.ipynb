{
 "cells": [
  {
   "cell_type": "markdown",
   "id": "f6add3a2-367f-47eb-a0ad-678f30e3e0d7",
   "metadata": {},
   "source": [
    "# Move raw EEG data to BIDS sourcedata folder\n",
    "\n",
    "This script copies braw EEG data from wherever it lives on the server to this BIDS folder's `sourcedata` subfolder. \n",
    "\n",
    "It will require customization for each data set being imported, due to the varying ways in which old studies were organized. The main thing that would need to be changed relates to the folder structure of the old data. This template assumes that data are organized by subject, with each subject having a folder named by their subject ID, and within that subfolders for diferent sessions. If your data are organized differently, you will need to modify the code accordingly (e.g., remove `ses` from `in_files`).\n",
    "\n",
    "Study-specific configuration details (e.g., study name, data type) are defined in the `config.yml` file and not in this script. \n",
    "\n",
    "\n",
    "---\n",
    "(c) 2023 Aaron J. Newman, NeuroCogntive Imaging Lab, Dalhousie University\n",
    "\n",
    "Released under a [CC BY 4.0](https://creativecommons.org/licenses/by/4.0/) license.\n",
    "\n",
    "---"
   ]
  },
  {
   "cell_type": "code",
   "execution_count": null,
   "id": "2d352b90-c76c-450c-8880-9003e77a6d93",
   "metadata": {},
   "outputs": [],
   "source": [
    "from os import path as op\n",
    "import os\n",
    "import json\n",
    "# import configparser\n",
    "import yaml\n",
    "try:\n",
    "    from yaml import CLoader as Loader, CDumper as Dumper\n",
    "except ImportError:\n",
    "    from yaml import Loader, Dumper\n",
    "import random\n",
    "\n",
    "import shutil\n",
    "from glob import glob\n",
    "from pathlib import Path\n",
    "\n",
    "import numpy as np \n",
    "# from matplotlib import pyplot as plt\n",
    "import mne\n",
    "# from mne.datasets import eegbci\n",
    "mne.set_log_level('error')\n",
    "\n",
    "from mne_bids import write_raw_bids, BIDSPath, update_sidecar_json\n",
    "from mne_bids.stats import count_events"
   ]
  },
  {
   "cell_type": "markdown",
   "id": "6c782028-7e84-425d-8261-0aaaf1f5a186",
   "metadata": {},
   "source": [
    "## Study Parameters\n",
    "\n",
    "Will import study-level parameters from `config.yml` in `bids_root`"
   ]
  },
  {
   "cell_type": "code",
   "execution_count": null,
   "id": "10a2e1ca-519f-492b-a794-23932e20a3d4",
   "metadata": {},
   "outputs": [],
   "source": [
    "# this shouldn't change if you run this script from its default location in code/import\n",
    "bids_root = '../..'\n",
    "\n",
    "cfg_file = op.join(bids_root, 'config.yml')\n",
    "with open(cfg_file, 'r') as f:\n",
    "    config = yaml.load(f, Loader=Loader)\n",
    "\n",
    "study_name = config['study_name']\n",
    "task = config['TaskName']\n",
    "data_type = 'eeg'\n",
    "raw_extn = config['raw_extn']\n",
    "sessions = config['sessions']\n",
    "prefix = config['study_name']"
   ]
  },
  {
   "cell_type": "markdown",
   "id": "4a4c851e-2a07-4749-9f4e-2478f0f202a9",
   "metadata": {},
   "source": [
    "## Paths"
   ]
  },
  {
   "cell_type": "code",
   "execution_count": null,
   "id": "44a5b4ba-a973-4f01-959b-83b9dde48155",
   "metadata": {},
   "outputs": [],
   "source": [
    "# orig_path is where the input source (raw) files live\n",
    "# This needs to be edited according to the study data naming convention\n",
    "orig_path = op.join(bids_root, '..', '..', prefix) \n",
    "\n",
    "# source_path is where the results of running this script will be saved\n",
    "source_path = op.join(bids_root, 'sourcedata')         "
   ]
  },
  {
   "cell_type": "code",
   "execution_count": null,
   "id": "b25d4261-0ac6-4792-aed2-ec4b4b862805",
   "metadata": {},
   "outputs": [],
   "source": [
    "# convert all participants in sourcedata\n",
    "# This needs to be edited according to the study data naming convention\n",
    "in_subjs = [s.split('/')[-1] for s in glob(op.join(orig_path) + '/' + prefix + '_*')]\n",
    "in_subjs"
   ]
  },
  {
   "cell_type": "markdown",
   "id": "1843b5bd-d552-4dd1-9a0d-9408fffefd0f",
   "metadata": {
    "tags": []
   },
   "source": [
    "## Copy EEG data from original location to sourcedata\n",
    "\n",
    "Don't change names in case that messes with teh linking between set and fdt files"
   ]
  },
  {
   "cell_type": "code",
   "execution_count": null,
   "id": "c14c063a-1239-4f7a-8c9c-45f731f90a00",
   "metadata": {},
   "outputs": [],
   "source": [
    "for subject in in_subjs:\n",
    "    for ses in sessions:\n",
    "        print(subject, ses)\n",
    "        \n",
    "        # check if we have data for this subject/session (maybe missing sessions)\n",
    "        in_files = glob(op.join(orig_path) + '/' + subject + '*' + ses + '*')\n",
    "        if len(in_files) > 0:\n",
    "            if raw_extn == 'set':\n",
    "                fdt_files = glob(op.join(orig_path, subject) + '/*.fdt')\n",
    "                set_files = glob(op.join(orig_path, subject) + '/*.set')\n",
    "                eeg_files = fdt_files + set_files\n",
    "\n",
    "            elif raw_extn == 'vhdr':\n",
    "                eeg_files = glob(op.join(orig_path) + '/' + subject + '*' + ses + '*')\n",
    "        \n",
    "            # participant_id is for naming output files\n",
    "            participant_id = 'sub-0' + subject[-2:]\n",
    "\n",
    "            dest_path = op.join(source_path, participant_id, 'ses-' + str(ses),  data_type)\n",
    "            if Path(dest_path).exists() == False:\n",
    "                Path(dest_path).mkdir(parents=True)\n",
    "\n",
    "            print('Source files:', eeg_files)\n",
    "            print('Destination path:', dest_path)\n",
    "\n",
    "            for f in eeg_files:\n",
    "                shutil.copy(f, dest_path)"
   ]
  }
 ],
 "metadata": {
  "kernelspec": {
   "display_name": "Python 3 (ipykernel)",
   "language": "python",
   "name": "python3"
  },
  "language_info": {
   "codemirror_mode": {
    "name": "ipython",
    "version": 3
   },
   "file_extension": ".py",
   "mimetype": "text/x-python",
   "name": "python",
   "nbconvert_exporter": "python",
   "pygments_lexer": "ipython3",
   "version": "3.10.9"
  },
  "vscode": {
   "interpreter": {
    "hash": "760055932674735d287fd612619c18ffc3840c7c49c197eeb438d57975a1e213"
   }
  }
 },
 "nbformat": 4,
 "nbformat_minor": 5
}
