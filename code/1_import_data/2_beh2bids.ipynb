{
 "cells": [
  {
   "attachments": {},
   "cell_type": "markdown",
   "id": "f6add3a2-367f-47eb-a0ad-678f30e3e0d7",
   "metadata": {},
   "source": [
    "# Convert (or simply copy) behavioural data to `sub/ses/beh` folder\n",
    "\n",
    "This script copies behavioural log files from `sourcedata` to `rawdata`. \n",
    "\n",
    "When the files are copied to `rawdata`, they are named in a BIDS-compliant way (e.g., `sub-xxx_ses-xxx_task-xxx_beh.csv`). This may require tweaking of the code below, depending on the naming of the source log files.\n",
    "\n",
    "You must save the raw behavioural files in the `sourcedata/sub-00x/beh` subfolder of your study's BIDS root folder.\n",
    "\n",
    "All study-specific configuration details should be defined in the `config.json` file and not in this script. \n",
    "\n",
    "\n",
    "---\n",
    "Copyright 2024 [Aaron J Newman](https://github.com/aaronjnewman), [NeuroCognitive Imaging Lab](http://ncil.science), [Dalhousie University](https://dal.ca)\n",
    "\n",
    "Released under the [The 3-Clause BSD License](https://opensource.org/licenses/BSD-3-Clause)\n",
    "\n",
    "---"
   ]
  },
  {
   "cell_type": "code",
   "execution_count": 3,
   "id": "2d352b90-c76c-450c-8880-9003e77a6d93",
   "metadata": {},
   "outputs": [],
   "source": [
    "from os import path as op\n",
    "import os\n",
    "import json\n",
    "import random\n",
    "import shutil\n",
    "from glob import glob\n",
    "from pathlib import Path\n",
    "import numpy as np \n",
    "import pandas as pd\n",
    "import mne\n",
    "mne.set_log_level('error')"
   ]
  },
  {
   "attachments": {},
   "cell_type": "markdown",
   "id": "6c782028-7e84-425d-8261-0aaaf1f5a186",
   "metadata": {},
   "source": [
    "## Study Parameters\n",
    "\n",
    "Will import study-level parameters from `config.yml` in `bids_root`"
   ]
  },
  {
   "cell_type": "code",
   "execution_count": 4,
   "id": "10a2e1ca-519f-492b-a794-23932e20a3d4",
   "metadata": {},
   "outputs": [],
   "source": [
    "# this shouldn't change if you run this script from its default location in code/import\n",
    "bids_root = '../..'\n",
    "\n",
    "config_file = op.join(bids_root, 'config.json')\n",
    "config = json.load(open(config_file))\n",
    "\n",
    "study_name = config['Study']['Name']\n",
    "study_name = config['Study']['TaskName']\n",
    "data_type = 'beh'\n",
    "prefix = study_name\n",
    "beh_extn = config['EEG']['beh_extn']\n",
    "logfile_string = 'log' # likely need to update this for your study"
   ]
  },
  {
   "attachments": {},
   "cell_type": "markdown",
   "id": "4a4c851e-2a07-4749-9f4e-2478f0f202a9",
   "metadata": {},
   "source": [
    "## Paths"
   ]
  },
  {
   "cell_type": "code",
   "execution_count": null,
   "id": "44a5b4ba-a973-4f01-959b-83b9dde48155",
   "metadata": {},
   "outputs": [],
   "source": [
    "# source_path is where the input source (raw) files live\n",
    "source_path = op.join(bids_root, 'sourcedata')\n",
    "\n",
    "# raw_path is where the results of running this script will be saved\n",
    "raw_path = op.join(bids_root)           "
   ]
  },
  {
   "cell_type": "code",
   "execution_count": null,
   "id": "b25d4261-0ac6-4792-aed2-ec4b4b862805",
   "metadata": {},
   "outputs": [],
   "source": [
    "# convert all participants in sourcedata\n",
    "in_subjs = [s.split('/')[-1] for s in glob(op.join(source_path, prefix) + '*')]"
   ]
  },
  {
   "attachments": {},
   "cell_type": "markdown",
   "id": "1843b5bd-d552-4dd1-9a0d-9408fffefd0f",
   "metadata": {
    "tags": []
   },
   "source": [
    "## Copy behavioural log files to rawdata"
   ]
  },
  {
   "cell_type": "code",
   "execution_count": null,
   "id": "c14c063a-1239-4f7a-8c9c-45f731f90a00",
   "metadata": {},
   "outputs": [],
   "source": [
    "for subject in in_subjs:\n",
    "    sessions = [f.split('/')[-1][-3:] for f in glob(op.join(source_path, subject, 'ses-*'))]\n",
    "\n",
    "    for sess in sessions:\n",
    "        print(subject, sess)\n",
    "        # participant_id is for naming output files. We assume the original id number is last 2 digits in the folder name\n",
    "        participant_id = 'sub-0' + subject[-2:]\n",
    "\n",
    "        log_dest = op.join(raw_path, participant_id, 'ses-' + sess,  data_type)\n",
    "        if Path(log_dest).exists() == False:\n",
    "            Path(log_dest).mkdir(parents=True)\n",
    "\n",
    "        log_files = glob(op.join(source_path, subject, sess, data_type) + '/*' + logfile_string + '*.' + beh_extn)\n",
    "        df_list = []\n",
    "        for f in log_files:\n",
    "            df_list.append(pd.read_csv(f))\n",
    "        pd.concat(df_list).to_csv(log_dest + '/' + participant_id + '_ses-' + sess + '_task-' + task + '_' + data_type + '.tsv',\n",
    "                                  sep='\\t', index=False)\n",
    "\n",
    " "
   ]
  },
  {
   "cell_type": "code",
   "execution_count": null,
   "id": "4bcd4e74",
   "metadata": {},
   "outputs": [],
   "source": []
  }
 ],
 "metadata": {
  "kernelspec": {
   "display_name": "ncil",
   "language": "python",
   "name": "python3"
  },
  "language_info": {
   "codemirror_mode": {
    "name": "ipython",
    "version": 3
   },
   "file_extension": ".py",
   "mimetype": "text/x-python",
   "name": "python",
   "nbconvert_exporter": "python",
   "pygments_lexer": "ipython3",
   "version": "3.11.7"
  },
  "vscode": {
   "interpreter": {
    "hash": "760055932674735d287fd612619c18ffc3840c7c49c197eeb438d57975a1e213"
   }
  }
 },
 "nbformat": 4,
 "nbformat_minor": 5
}
