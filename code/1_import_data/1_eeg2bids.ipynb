{
 "cells": [
  {
   "cell_type": "markdown",
   "id": "f6add3a2-367f-47eb-a0ad-678f30e3e0d7",
   "metadata": {},
   "source": [
    "# Convert raw EEG data to BIDS\n",
    "\n",
    "This script will take raw EEG data files stored in the `sourcedata` folder (as saved by OpenVibe, PyCorder, NeStation, or ASAlab (after conversion to EEGLAB format)) and convert them to BIDS-compatible files and folder structure (saved to `rawdata`), with all metadata.\n",
    "\n",
    "It should require little to no modification for individual studies.\n",
    "\n",
    "You must save the raw EEG files in the `sourcedata/sub-00x/eeg` subfolder of your study's BIDS root folder.\n",
    "\n",
    "All study-specific configuration details should be defined in the `config.yml` file and not in this script. \n",
    "\n",
    "The only thing to change in this script is to list the subject IDs of the subjects whose data you wish to convert, in the cell below. Then just run all additional cells.\n",
    "\n",
    "\n",
    "---\n",
    "(c) 2023 Aaron J. Newman, NeuroCogntive Imaging Lab, Dalhousie University\n",
    "\n",
    "Released under a [CC BY 4.0](https://creativecommons.org/licenses/by/4.0/) license.\n",
    "\n",
    "---"
   ]
  },
  {
   "cell_type": "code",
   "execution_count": null,
   "id": "2d352b90-c76c-450c-8880-9003e77a6d93",
   "metadata": {},
   "outputs": [],
   "source": [
    "from os import path as op\n",
    "import os\n",
    "import json\n",
    "# import configparser\n",
    "import yaml\n",
    "try:\n",
    "    from yaml import CLoader as Loader, CDumper as Dumper\n",
    "except ImportError:\n",
    "    from yaml import Loader, Dumper\n",
    "\n",
    "from pyxdf import resolve_streams\n",
    "from mnelab.io.xdf import read_raw_xdf\n",
    "\n",
    "import shutil\n",
    "from glob import glob\n",
    "from pathlib import Path\n",
    "import random\n",
    "\n",
    "import numpy as np \n",
    "# from matplotlib import pyplot as plt\n",
    "import mne\n",
    "# from mne.datasets import eegbci\n",
    "mne.set_log_level('error')\n",
    "\n",
    "from mne_bids import write_raw_bids, BIDSPath, update_sidecar_json\n",
    "from mne_bids.stats import count_events"
   ]
  },
  {
   "cell_type": "markdown",
   "id": "6c782028-7e84-425d-8261-0aaaf1f5a186",
   "metadata": {},
   "source": [
    "## Study Parameters\n",
    "\n",
    "Will import study-level parameters from `config.yml` in `bids_root`"
   ]
  },
  {
   "cell_type": "code",
   "execution_count": null,
   "id": "10a2e1ca-519f-492b-a794-23932e20a3d4",
   "metadata": {},
   "outputs": [],
   "source": [
    "# this shouldn't change if you run this script from its default location in code/import\n",
    "bids_root = '../..'\n",
    "\n",
    "cfg_file = op.join(bids_root, 'config.yml')\n",
    "with open(cfg_file, 'r') as f:\n",
    "    config = yaml.load(f, Loader=Loader)\n",
    "\n",
    "eog = {k: v for d in eog for k, v in d.items()}\n",
    "montage_fname = config['montage_fname']\n",
    "raw_extn = config['raw_extn']"
   ]
  },
  {
   "cell_type": "markdown",
   "id": "4a4c851e-2a07-4749-9f4e-2478f0f202a9",
   "metadata": {},
   "source": [
    "## Paths"
   ]
  },
  {
   "cell_type": "code",
   "execution_count": null,
   "id": "44a5b4ba-a973-4f01-959b-83b9dde48155",
   "metadata": {},
   "outputs": [],
   "source": [
    "# source_path is where the input source (raw) files live\n",
    "source_path = op.join(bids_root, 'sourcedata')\n",
    "\n",
    "# raw_path is where the results of running this script will be saved\n",
    "raw_path = op.join(bids_root)                  "
   ]
  },
  {
   "cell_type": "code",
   "execution_count": null,
   "id": "b25d4261-0ac6-4792-aed2-ec4b4b862805",
   "metadata": {},
   "outputs": [],
   "source": [
    "# convert all participants in sourcedata\n",
    "prefix = 'sub-'\n",
    "in_subjs = sorted([s[-7:] for s in glob(source_path + '/' + prefix + '*')])\n",
    "\n",
    "in_subjs"
   ]
  },
  {
   "cell_type": "markdown",
   "id": "1843b5bd-d552-4dd1-9a0d-9408fffefd0f",
   "metadata": {
    "tags": []
   },
   "source": [
    "## Import data, and covert to BIDS"
   ]
  },
  {
   "cell_type": "code",
   "execution_count": null,
   "id": "c14c063a-1239-4f7a-8c9c-45f731f90a00",
   "metadata": {},
   "outputs": [],
   "source": [
    "for subject in in_subjs:\n",
    "    print(subject)\n",
    "    sessions = [f.split('/')[-1][-3:] for f in glob(op.join(source_path, subject, 'ses-*'))]\n",
    "\n",
    "    for session in sessions:\n",
    "        print('Session:', session)\n",
    "        in_files = glob(op.join(source_path, subject, 'ses-' + session, data_type, subject + '*' + raw_extn))\n",
    "        \n",
    "        for idx, f in enumerate(in_files):\n",
    "            print(f)\n",
    "            bids_parts = f.split('/')[-1].split('_')\n",
    "            task = [t for t in bids_parts if 'task' in t][0].split('-')[-1]\n",
    "            run = [r for r in bids_parts if 'run' in r][0][-2:]\n",
    "\n",
    "            # EEGLAB format\n",
    "            if eeg_extn == 'set':\n",
    "                    raw = mne.io.read_raw_eeglab(f,  \n",
    "                                                preload=False).set_montage(montage_fname)\n",
    "\n",
    "            # EGI format\n",
    "            elif eeg_extn == 'raw':    \n",
    "                raw = mne.io.read_raw_egi(f, \n",
    "                                          preload=False, \n",
    "                                          misc=['E129'],  \n",
    "                                          exclude=[], \n",
    "                                      ).set_montage(montage_fname)\n",
    "\n",
    "            # BrainVision format    \n",
    "             elif eeg_extn == 'vhdr':\n",
    "                raw = mne.io.read_raw_brainvision(f, \n",
    "                                                  preload=False, \n",
    "                                                  misc=['Digi']).set_montage(montage_fname)\n",
    "\n",
    "            # XDF format\n",
    "            elif eeg_extn == 'xdf':\n",
    "                streams = resolve_streams(f)\n",
    "                eeg_stream_idx = [idx for idx, stream in enumerate(streams) \n",
    "                                if stream['name'] == amp_name][0]\n",
    "                eeg_stream_id = [streams[eeg_stream_idx]['stream_id']]\n",
    "                srate = streams[eeg_stream_idx]['nominal_srate']\n",
    "                raw = read_raw_xdf(f, \n",
    "                                eeg_stream_id, \n",
    "                                fs_new=srate).set_montage('easycap-M1')\n",
    "                \n",
    "            else:\n",
    "                print('Unknown file format:', raw_extn)\n",
    "                \n",
    "            # rename and label EOG channels\n",
    "            raw.rename_channels(eog)\n",
    "            for ch in eog.values():\n",
    "                raw.set_channel_types({ch:'eog'})\n",
    "\n",
    "            # --- Make BIDS ---\n",
    "            bids_path = BIDSPath(subject=subject[-3:], \n",
    "                                task=task, \n",
    "                                session=session,\n",
    "                                run=run,\n",
    "                                datatype=data_type,\n",
    "                                suffix=\"eeg\",\n",
    "                                root=op.join(raw_path)\n",
    "                                )\n",
    "                                \n",
    "            bids_path.rm(safe_remove=False)\n",
    "\n",
    "            write_raw_bids(raw, bids_path, \n",
    "                        anonymize={'daysback':random.randint(35452, 40000)},\n",
    "                        format=out_format,\n",
    "                        overwrite=True,\n",
    "                        allow_preload=True\n",
    "                        )\n",
    "\n",
    "            # Update metadata with additional info\n",
    "            entries = { 'Manufacturer':config['amp_mfr'],\n",
    "                        'ManufacturersModelName':config['amp_model'],\n",
    "                        'PowerLineFrequency':config['line_freq'],\n",
    "                        'SoftwareFilters':config['sw_filt'],\n",
    "                        'HardwareFilters':config['hw_filt'],\n",
    "                        'EEGReference':config['eeg_ref'],\n",
    "                        'EEGGround':config['eeg_ground'],\n",
    "                        'CapManufacturer':config['cap_mfr'],\n",
    "                        'CapManufacturersModelName':config['cap_model'],\n",
    "                        'EthicsApprovals':config['reb_info'],\n",
    "                        'InstitutionName':config['instn'],\n",
    "                        'InstitutionAddress':config['instn_addr'],\n",
    "                        'InstitutionalDepartmentName':config['instn_dept'],\n",
    "                        }\n",
    "\n",
    "            sidecar_path = bids_path.copy().update(extension='.json')\n",
    "            update_sidecar_json(bids_path=sidecar_path, entries=entries)\n",
    "\n",
    "# Merge README file generated by write_raw_bids with the eixting README.md        \n",
    "with open(raw_path + '/README') as fi:\n",
    "    lines = fi.read().splitlines()    \n",
    "\n",
    "with open(raw_path + '/README.md', 'a') as fo:\n",
    "    for li in lines:\n",
    "        fo.write('\\n')\n",
    "        fo.write(li)        \n",
    "\n",
    "os.remove(raw_path + '/README')        "
   ]
  },
  {
   "cell_type": "code",
   "execution_count": null,
   "id": "64ce76b5-dbce-4691-83bc-57271b714fa9",
   "metadata": {},
   "outputs": [],
   "source": []
  }
 ],
 "metadata": {
  "kernelspec": {
   "display_name": "Python 3 (ipykernel)",
   "language": "python",
   "name": "python3"
  },
  "language_info": {
   "codemirror_mode": {
    "name": "ipython",
    "version": 3
   },
   "file_extension": ".py",
   "mimetype": "text/x-python",
   "name": "python",
   "nbconvert_exporter": "python",
   "pygments_lexer": "ipython3",
   "version": "3.10.9"
  },
  "vscode": {
   "interpreter": {
    "hash": "760055932674735d287fd612619c18ffc3840c7c49c197eeb438d57975a1e213"
   }
  }
 },
 "nbformat": 4,
 "nbformat_minor": 5
}
