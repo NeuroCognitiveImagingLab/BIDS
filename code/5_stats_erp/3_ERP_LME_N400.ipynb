{
 "cells": [
  {
   "attachments": {},
   "cell_type": "markdown",
   "metadata": {},
   "source": [
    "# Linear Mixed Effects analysis\n",
    "## Example for N400 Component (1 ROI)\n",
    "\n",
    "---\n",
    "Copyright 2022-23 [Aaron J Newman](https://github.com/aaronjnewman), [NeuroCognitive Imaging Lab](http://ncil.science), [Dalhousie University](https://dal.ca)\n",
    "\n",
    "Released under the [BSD 3-clause license](https://opensource.org/licenses/BSD-3-Clause)\n",
    "\n",
    "---"
   ]
  },
  {
   "cell_type": "markdown",
   "metadata": {},
   "source": [
    "## Load necessary libraries"
   ]
  },
  {
   "cell_type": "code",
   "execution_count": null,
   "metadata": {
    "collapsed": false,
    "jupyter": {
     "outputs_hidden": false
    },
    "vscode": {
     "languageId": "r"
    }
   },
   "outputs": [],
   "source": [
    "date()"
   ]
  },
  {
   "cell_type": "code",
   "execution_count": null,
   "metadata": {
    "collapsed": false,
    "jupyter": {
     "outputs_hidden": false
    },
    "vscode": {
     "languageId": "r"
    }
   },
   "outputs": [],
   "source": [
    "library(tidyverse)\n",
    "library(arrow)\n",
    "library(ggplot2)\n",
    "library(mgcv)\n",
    "library(parallel)\n",
    "library(emmeans)\n",
    "library(sjPlot)\n",
    "library(caret)\n",
    "library(stargazer)\n",
    "library(yaml)"
   ]
  },
  {
   "cell_type": "markdown",
   "metadata": {},
   "source": [
    "## Set parameters for this analysis"
   ]
  },
  {
   "cell_type": "code",
   "execution_count": null,
   "metadata": {
    "vscode": {
     "languageId": "r"
    }
   },
   "outputs": [],
   "source": [
    "component <- 'n400' # chnage component name for s below as well!\n",
    "subj_prefix <- 'sub-'\n",
    "\n",
    "cfg <- read_yaml('../../config.json')\n",
    "component_rois <- cfg$components$n400$rois\n",
    "# num parallel processes for bam(). Should be less than the number of threads supported by your CPU\n",
    "num_cores <- cfg$Preprocessing$n_jobs\n",
    "# subjects to exclude\n",
    "exclude <- cfg$exclude\n",
    "\n",
    "options(\"scipen\"=100, \"digits\"=5)  # force decimal instead of scientific notation"
   ]
  },
  {
   "cell_type": "markdown",
   "metadata": {},
   "source": [
    "## File paths"
   ]
  },
  {
   "cell_type": "code",
   "execution_count": null,
   "metadata": {
    "vscode": {
     "languageId": "r"
    }
   },
   "outputs": [],
   "source": [
    "bids_root = '../..'\n",
    "erp_path <- file.path(bids_root, 'derivatives', 'erp_measurement', component, 'data')\n",
    "behav_path <- file.path(bids_root, 'derivatives', 'behavioral_demographic', 'data')\n",
    "raw_path <- file.path(bids_root)\n",
    "out_path <- file.path(bids_root, 'derivatives', 'erp_lme')\n",
    "\n",
    "# create output directories and any higher-level directories they are nested in, if they don't exist\n",
    "tab_path <- file.path(out_path, paste(component, sep=''), 'tables')\n",
    "dir.create(file.path(tab_path), recursive = TRUE, showWarnings = FALSE)\n",
    "\n",
    "fig_path <- file.path(out_path, paste(component, sep=''), 'figures')\n",
    "dir.create(file.path(fig_path), recursive = TRUE, showWarnings = FALSE)"
   ]
  },
  {
   "cell_type": "markdown",
   "metadata": {},
   "source": [
    "## Set options for plots"
   ]
  },
  {
   "cell_type": "code",
   "execution_count": null,
   "metadata": {
    "vscode": {
     "languageId": "r"
    }
   },
   "outputs": [],
   "source": [
    "set_theme(base = theme_sjplot(),\n",
    "          title.size = 1.5,\n",
    "          title.align = 'center',\n",
    "          axis.title.size = 1.5,\n",
    "          axis.textsize.x=1.1,\n",
    "          axis.textsize.y=1.1,\n",
    "          legend.title.size = 1.5,\n",
    "          legend.item.size = 1.25,\n",
    "          legend.item.backcol = 'white',\n",
    "          legend.size = 1.5,\n",
    "          panel.gridcol.x='white',\n",
    "          panel.minor.gridcol='white'\n",
    "         )\n",
    "\n",
    "# Match colours with seaborn's colorblind palette\n",
    "# in python: [matplotlib.colors.to_hex(val) for val in colors.values()]\n",
    "sns_colors = c('#0173b2', '#de8f05', '#029e73', '#d55e00', '#cc78bc')         "
   ]
  },
  {
   "cell_type": "markdown",
   "metadata": {},
   "source": [
    "---\n",
    "## Load ERP Data"
   ]
  },
  {
   "cell_type": "code",
   "execution_count": null,
   "metadata": {
    "vscode": {
     "languageId": "r"
    }
   },
   "outputs": [],
   "source": [
    "files <- Sys.glob(file.path(erp_path,  paste(subj_prefix, '*', sep=''), paste('*_indiv_trials_trimmed_*.feather', sep='')))\n",
    "\n",
    "df <- files %>% map_dfr(read_feather) %>%  \n",
    "        mutate_if(is.character,as.factor) %>%\n",
    "        select(-c('__index_level_0__')) %>% \n",
    "        filter( ROI %in% component_rois) %>% droplevels()\n",
    "\n",
    "# Drop FF and CS\n",
    "# df <- df %>% filter(Condition %in% c('PseudoWord', 'NovelWord', 'RealWord')) %>% droplevels()\n",
    "# set order of conditions\n",
    "# df$Condition <- with(df, factor(Condition,  levels = c('PseudoWord', 'NovelWord', 'RealWord')))  # 'FalseFont', 'ConsonantString', \n",
    "df$Condition <- with(df, factor(Condition,  levels = c('FalseFont', 'ConsonantString', 'PseudoWord', 'NovelWord', 'RealWord')))\n",
    "\n",
    "# keep only conditions of interest for this component\n",
    "# df <- df %>% filter( ROI %in% component_rois) %>% droplevels()\n",
    "# summary(df)"
   ]
  },
  {
   "cell_type": "markdown",
   "metadata": {
    "tags": []
   },
   "source": [
    "## Read behavioural data from LDT"
   ]
  },
  {
   "cell_type": "code",
   "execution_count": null,
   "metadata": {
    "vscode": {
     "languageId": "r"
    }
   },
   "outputs": [],
   "source": [
    "acc <- read.csv(file.path(behav_path, 'ldt_acc_by_subj_wide.tsv'), sep='\\t')\n",
    "acc$participant_id <- as.factor(acc$participant_id)\n",
    "acc %>% rename(acc_CNST = ConsonantString,\n",
    "              acc_FFNT = FalseFont,\n",
    "              acc_PSWD= PseudoWord,\n",
    "              acc_NVWD = NovelWord,\n",
    "              acc_RLWD = RealWord\n",
    "              ) -> acc\n",
    "# summary(acc)"
   ]
  },
  {
   "cell_type": "code",
   "execution_count": null,
   "metadata": {
    "vscode": {
     "languageId": "r"
    }
   },
   "outputs": [],
   "source": [
    "rt <- read.csv(file.path(behav_path, 'ldt_rt_trimmed_by_subj_wide.tsv'), sep='\\t')\n",
    "rt$participant_id <- as.factor(rt$participant_id)\n",
    "rt %>% rename(rt_CNST = ConsonantString,\n",
    "              rt_FFNT = FalseFont,\n",
    "              rt_PSWD= PseudoWord,\n",
    "              rt_NVWD = NovelWord,\n",
    "              rt_RLWD = RealWord\n",
    "              ) -> rt\n",
    "\n",
    "# summary(rt)"
   ]
  },
  {
   "attachments": {},
   "cell_type": "markdown",
   "metadata": {},
   "source": [
    "### merge LDT"
   ]
  },
  {
   "cell_type": "code",
   "execution_count": null,
   "metadata": {
    "vscode": {
     "languageId": "r"
    }
   },
   "outputs": [],
   "source": [
    "ldt <- merge(acc, rt, by=c('participant_id'))\n",
    "# summary(ldt)\n",
    "df <- merge(df, ldt, by=c('participant_id'))"
   ]
  },
  {
   "attachments": {},
   "cell_type": "markdown",
   "metadata": {},
   "source": [
    "## Read demographic data"
   ]
  },
  {
   "cell_type": "code",
   "execution_count": null,
   "metadata": {
    "vscode": {
     "languageId": "r"
    }
   },
   "outputs": [],
   "source": [
    "demog <- read.csv(file.path(raw_path, 'participants.tsv'), sep='\\t',\n",
    "                col.names=c('participant_id', 'group', 'sex', 'hand', 'age'),\n",
    "                ) %>% mutate_if(is.character,as.factor)  %>% select(-c('group'))\n",
    "# summary(demog)\n",
    "\n",
    "df <- merge(df, demog, by=c('participant_id'))"
   ]
  },
  {
   "cell_type": "markdown",
   "metadata": {},
   "source": [
    "## Read d prime data and merge\n",
    "calculated in `scripts/behavioral_demographic/5_LDT_stats.ipynb`"
   ]
  },
  {
   "cell_type": "code",
   "execution_count": null,
   "metadata": {
    "vscode": {
     "languageId": "r"
    }
   },
   "outputs": [],
   "source": [
    "dprime <- read.csv(file.path(behav_path, 'ldt_sdt_data.tsv'), sep='\\t',\n",
    "                   colClasses=c('factor', 'numeric', 'numeric', 'numeric', 'numeric', 'numeric'))\n",
    "\n",
    "df <- merge(df, dprime, by='participant_id')"
   ]
  },
  {
   "attachments": {},
   "cell_type": "markdown",
   "metadata": {},
   "source": [
    "## Read standardized test data"
   ]
  },
  {
   "cell_type": "code",
   "execution_count": null,
   "metadata": {
    "vscode": {
     "languageId": "r"
    }
   },
   "outputs": [],
   "source": [
    "behav <- read.csv(file.path(raw_path, 'participants_std_tests.tsv'), \n",
    "                sep='\\t') %>% mutate_if(is.character,as.factor)"
   ]
  },
  {
   "cell_type": "markdown",
   "metadata": {},
   "source": [
    "## Merge ERP and behavioural data"
   ]
  },
  {
   "cell_type": "code",
   "execution_count": null,
   "metadata": {
    "vscode": {
     "languageId": "r"
    }
   },
   "outputs": [],
   "source": [
    "dat <- merge(df, behav, by='participant_id') %>%\n",
    "            filter(!participant_id %in% exclude)  %>% droplevels()\n",
    "summary(dat)"
   ]
  },
  {
   "cell_type": "markdown",
   "metadata": {},
   "source": [
    "### Visualize distributions"
   ]
  },
  {
   "cell_type": "code",
   "execution_count": null,
   "metadata": {
    "vscode": {
     "languageId": "r"
    }
   },
   "outputs": [],
   "source": [
    "options(repr.plot.width=12, repr.plot.height=7)\n",
    "\n",
    "ggplot(dat, aes(y=Amplitude, x=Condition)) + \n",
    "    geom_boxplot(aes(color=Condition)) "
   ]
  },
  {
   "cell_type": "markdown",
   "metadata": {},
   "source": [
    "## Run initial full model and visualize diagnostics"
   ]
  },
  {
   "cell_type": "code",
   "execution_count": null,
   "metadata": {
    "tags": [],
    "vscode": {
     "languageId": "r"
    }
   },
   "outputs": [],
   "source": [
    "# start timer\n",
    "start_time <- Sys.time()\n",
    "\n",
    "cl <- makeCluster(num_cores)  \n",
    "\n",
    "mod_full <- bam(Amplitude ~ Condition + baseline \n",
    "                  + s(participant_id, bs=\"re\")\n",
    "                  + s(Channel, participant_id, bs=\"re\") \n",
    "                  + s(Condition, participant_id, bs=\"re\"),\n",
    "                  data=dat, \n",
    "                  samfrac=0.1, cluster=cl, gc.level=2)\n",
    "\n",
    "stopCluster(cl)\n",
    "\n",
    "# print elpased time\n",
    "end_time <- Sys.time()\n",
    "print(end_time - start_time)"
   ]
  },
  {
   "cell_type": "code",
   "execution_count": null,
   "metadata": {
    "collapsed": false,
    "jupyter": {
     "outputs_hidden": false
    },
    "vscode": {
     "languageId": "r"
    }
   },
   "outputs": [],
   "source": [
    "gam.check(mod_full)"
   ]
  },
  {
   "cell_type": "markdown",
   "metadata": {},
   "source": [
    "## GAM Modelling\n",
    "### Compute the family of models we will consider, including primary variables"
   ]
  },
  {
   "cell_type": "markdown",
   "metadata": {},
   "source": [
    "## Compare Random Effects structures"
   ]
  },
  {
   "cell_type": "code",
   "execution_count": null,
   "metadata": {
    "vscode": {
     "languageId": "r"
    }
   },
   "outputs": [],
   "source": [
    "# start timer\n",
    "start_time <- Sys.time()\n",
    "cl <- makeCluster(num_cores)\n",
    "\n",
    "c1w_es <-  bam(Amplitude ~ Condition + baseline \n",
    "                 + s(Channel, participant_id, bs=\"re\") \n",
    "                 + s(participant_id, bs=\"re\"),\n",
    "                  data=dat, \n",
    "                  method='ML',\n",
    "                  samfrac=0.1, cluster=cl, gc.level=2)\n",
    "\n",
    "c1w_cs <-  bam(Amplitude ~ Condition + baseline \n",
    "                 + s(Condition, participant_id, bs=\"re\") \n",
    "                 + s(participant_id, bs=\"re\"),\n",
    "                  data=dat, \n",
    "                   method='ML',\n",
    "                 samfrac=0.1, cluster=cl, gc.level=2)\n",
    "\n",
    "c1w_escs <-  bam(Amplitude ~ Condition + baseline \n",
    "                 + s(Channel, participant_id, bs=\"re\") \n",
    "                 + s(Condition, participant_id, bs=\"re\") \n",
    "                 + s(participant_id, bs=\"re\"),\n",
    "                  data=dat, \n",
    "                  method='ML',\n",
    "                  samfrac=0.1, cluster=cl, gc.level=2)\n",
    "\n",
    "stopCluster(cl)\n",
    "# print elpased time\n",
    "end_time <- Sys.time()\n",
    "print(end_time - start_time)"
   ]
  },
  {
   "cell_type": "code",
   "execution_count": null,
   "metadata": {
    "vscode": {
     "languageId": "r"
    }
   },
   "outputs": [],
   "source": [
    "AICtab <- as.data.frame(AIC(c1w_es, c1w_cs, c1w_escs\n",
    "                           )) \n",
    "AICtab$deltaAIC <-AICtab$AIC - min(AICtab$AIC)\n",
    "AICtab[order(AICtab$AIC),]"
   ]
  },
  {
   "cell_type": "markdown",
   "metadata": {},
   "source": [
    "---\n",
    "## View results of best model\n",
    "\n",
    "The full model we fit at the start was confired as best via AIC comparisons"
   ]
  },
  {
   "cell_type": "code",
   "execution_count": null,
   "metadata": {
    "vscode": {
     "languageId": "r"
    }
   },
   "outputs": [],
   "source": [
    "mod <- mod_full"
   ]
  },
  {
   "cell_type": "markdown",
   "metadata": {},
   "source": [
    "### Plot marginal means for main effect of Condition"
   ]
  },
  {
   "cell_type": "code",
   "execution_count": null,
   "metadata": {
    "vscode": {
     "languageId": "r"
    }
   },
   "outputs": [],
   "source": [
    "terms <- c('Condition')\n",
    "out_stem <- paste(fig_path, '/', component, '_lme_me_', paste(terms, collapse='_X_'), '.pdf', sep='')\n",
    "\n",
    "options(repr.plot.width=6, repr.plot.height=6)\n",
    "\n",
    "pm <- function(mod, terms) {\n",
    "    plot_model(mod, type='emm', terms=terms,\n",
    "            title=paste(component, '- Main Effect of Condition'),\n",
    "            dot.size=4, line.size=1.5,\n",
    "            axis.lim=c(-4.4, -1)\n",
    "            ) +\n",
    "                theme(axis.text.x = element_text(angle = 20, hjust = .67, vjust=.67))\n",
    "}      \n",
    "pdf(out_stem, 6, 6)\n",
    "pm(mod_full, terms)\n",
    "dev.off() \n",
    "pm(mod_full, terms)\n"
   ]
  },
  {
   "cell_type": "markdown",
   "metadata": {},
   "source": [
    "### Between-Condition Contrasts\n"
   ]
  },
  {
   "cell_type": "code",
   "execution_count": null,
   "metadata": {
    "vscode": {
     "languageId": "r"
    }
   },
   "outputs": [],
   "source": [
    "terms <- c('Condition')\n",
    "out_stem <- paste(tab_path, '/', component, '_lme_', paste(terms, collapse='_X_'), '_contrasts', sep='')\n",
    "\n",
    "Conditions.emm <- emmeans(mod_full, pairwise ~ Condition)\n",
    "contr_tab <- as.data.frame(Conditions.emm$contrasts) \n",
    "\n",
    "eff_tab <- eff_size(Conditions.emm,\n",
    "                     sigma = sigma(mod_full), \n",
    "                     edf = contr_tab$df[1])\n",
    "eff_tab <- as.data.frame(eff_tab) \n",
    "# replace double-bracket Conditions with single-bracket to match above\n",
    "eff_tab$contrast <- contr_tab$contrast\n",
    "# eff_tab\n",
    "\n",
    "full_tab <- contr_tab %>% \n",
    "                full_join(select(eff_tab, 'contrast', 'effect.size', 'lower.CL', 'upper.CL'),\n",
    "                by=c('contrast'), \n",
    "                suffix = c(\".ctr\", \".eff\"))\n",
    "\n",
    "full_tab <- full_tab %>%\n",
    "                mutate(across(c('p.value', 'effect.size'), round, 3)) %>% \n",
    "                mutate(across(c('estimate', 'SE', 't.ratio'), round, 2)) %>% \n",
    "                mutate(across(c('lower.CL', 'upper.CL'), round, 3)) %>% \n",
    "                rename('Contrast' = 'contrast',\n",
    "                        'Estimate (µV)' = 'estimate',\n",
    "                        't' = 't.ratio',\n",
    "                        'p' = 'p.value',\n",
    "                        'Effect Size' = 'effect.size',\n",
    "                        'CL low' = 'lower.CL',\n",
    "                        'CL high' = 'upper.CL'\n",
    "                    ) %>% \n",
    "                    select('Contrast', 'Estimate (µV)', 'SE', \n",
    "                    'Effect Size', 'CL low', 'CL high', 't', 'p')  \n",
    "full_tab\n",
    "\n",
    "# Write table to CSV\n",
    "# write.csv(full_tab, \n",
    "#           file=paste(out_stem, '.csv', sep='')\n",
    "#          )\n",
    "\n",
    "# Write table to LaTeX\n",
    "tmp <- capture.output(stargazer(full_tab, \n",
    "                                summary=FALSE, rownames=FALSE, font.size=\"footnotesize\",digits=NA, initial.zero=FALSE,\n",
    "                                label=paste('tab:', component, '_lme_', paste(terms, collapse='_X_'), '_contr', sep=''),\n",
    "                                title='Between-conditions contrasts for each condition, collapsed across hemispheres, from the linear mixed effects analysis of the N400 component from 300-400 ms. All p values are corrected for multiple comparisons using Tukey\\'s method.'\n",
    "                               ),\n",
    "                      file=paste(out_stem, '.tex', sep='')\n",
    "                     )"
   ]
  },
  {
   "cell_type": "code",
   "execution_count": null,
   "metadata": {
    "vscode": {
     "languageId": "r"
    }
   },
   "outputs": [],
   "source": [
    "Conditions.emm$contrasts"
   ]
  },
  {
   "cell_type": "markdown",
   "metadata": {},
   "source": [
    "---\n",
    "## Behavioural Correlations"
   ]
  },
  {
   "attachments": {},
   "cell_type": "markdown",
   "metadata": {},
   "source": [
    "### Fit all behavioral correlation models for AIC comparison\n"
   ]
  },
  {
   "cell_type": "code",
   "execution_count": null,
   "metadata": {
    "vscode": {
     "languageId": "r"
    }
   },
   "outputs": [],
   "source": [
    "# Refit all models using max liklihood so they can be compared:\n",
    "start_time <- Sys.time()\n",
    "cl <- makeCluster(num_cores)\n",
    "\n",
    "mod_ortho_choice <- bam(Amplitude ~ (Condition * Ortho_Choice) + baseline\n",
    "            + s(Channel, participant_id, bs=\"re\") \n",
    "            + s(Condition, participant_id, bs=\"re\") \n",
    "            + s(participant_id, bs=\"re\"),\n",
    "            data=dat, \n",
    "            method='ML',\n",
    "            samfrac=0.1, cluster=cl, gc.level=2)            \n",
    "\n",
    "mod_ortho_know <- bam(Amplitude ~ (Condition * Ortho_Know) + baseline\n",
    "            + s(Channel, participant_id, bs=\"re\") \n",
    "            + s(Condition, participant_id, bs=\"re\") \n",
    "            + s(participant_id, bs=\"re\"),\n",
    "            data=dat, \n",
    "            method='ML',\n",
    "            samfrac=0.1, cluster=cl, gc.level=2)            \n",
    "\n",
    "mod_OrthoSem_Know <- bam(Amplitude ~ (Condition * OrthoSem_Know) + baseline\n",
    "            + s(Channel, participant_id, bs=\"re\") \n",
    "            + s(Condition, participant_id, bs=\"re\") \n",
    "            + s(participant_id, bs=\"re\"),\n",
    "            data=dat, \n",
    "            method='ML',\n",
    "            samfrac=0.1, cluster=cl, gc.level=2)       \n",
    "            \n",
    "mod_Sem_Choice <- bam(Amplitude ~ (Condition * Sem_Choice) + baseline\n",
    "            + s(Channel, participant_id, bs=\"re\") \n",
    "            + s(Condition, participant_id, bs=\"re\") \n",
    "            + s(participant_id, bs=\"re\"),\n",
    "            data=dat, \n",
    "            method='ML',\n",
    "            samfrac=0.1, cluster=cl, gc.level=2)  \n",
    "\n",
    "mod_acc_NVWD <- bam(Amplitude ~ (Condition * acc_NVWD) + baseline\n",
    "            + s(Channel, participant_id, bs=\"re\") \n",
    "            + s(Condition, participant_id, bs=\"re\") \n",
    "            + s(participant_id, bs=\"re\"),\n",
    "            data=dat, \n",
    "            method='ML',\n",
    "            samfrac=0.1, cluster=cl, gc.level=2)  \n",
    "\n",
    "mod_rt_NVWD <- bam(Amplitude ~ (Condition * rt_NVWD) + baseline\n",
    "            + s(Channel, participant_id, bs=\"re\") \n",
    "            + s(Condition, participant_id, bs=\"re\") \n",
    "            + s(participant_id, bs=\"re\"),\n",
    "            data=dat, \n",
    "            method='ML',\n",
    "            samfrac=0.1, cluster=cl, gc.level=2)             \n",
    "\n",
    "mod_TOWRE <- bam(Amplitude ~ (Condition * TOWRE_idx) + baseline\n",
    "            + s(Channel, participant_id, bs=\"re\") \n",
    "            + s(Condition, participant_id, bs=\"re\") \n",
    "            + s(participant_id, bs=\"re\"),\n",
    "            data=dat, \n",
    "            method='ML',\n",
    "            samfrac=0.1, cluster=cl, gc.level=2)  \n",
    "\n",
    "mod_PsgComp <- bam(Amplitude ~ (Condition * PsgComp_percentile) + baseline\n",
    "            + s(Channel, participant_id, bs=\"re\") \n",
    "            + s(Condition, participant_id, bs=\"re\") \n",
    "            + s(participant_id, bs=\"re\"),\n",
    "            data=dat, \n",
    "            method='ML',\n",
    "            samfrac=0.1, cluster=cl, gc.level=2)     \n",
    "\n",
    "mod_WordID <- bam(Amplitude ~ (Condition * WordID_raw) + baseline\n",
    "            + s(Channel, participant_id, bs=\"re\") \n",
    "            + s(Condition, participant_id, bs=\"re\") \n",
    "            + s(participant_id, bs=\"re\"),\n",
    "            data=dat, \n",
    "            method='ML',\n",
    "            samfrac=0.1, cluster=cl, gc.level=2)            \n",
    "\n",
    "mod_PPVT <- bam(Amplitude ~ (Condition * PPVT_raw) + baseline\n",
    "            + s(Channel, participant_id, bs=\"re\") \n",
    "            + s(Condition, participant_id, bs=\"re\") \n",
    "            + s(participant_id, bs=\"re\"),\n",
    "            data=dat, \n",
    "            method='ML',\n",
    "            samfrac=0.1, cluster=cl, gc.level=2)             \n",
    "\n",
    "stopCluster(cl)\n",
    "end_time <- Sys.time()\n",
    "print(end_time - start_time)            "
   ]
  },
  {
   "attachments": {},
   "cell_type": "markdown",
   "metadata": {},
   "source": [
    "`AIC_ratio` is relative to the \"base\" model that did not include a behavioral variable "
   ]
  },
  {
   "cell_type": "code",
   "execution_count": null,
   "metadata": {
    "vscode": {
     "languageId": "r"
    }
   },
   "outputs": [],
   "source": [
    "ref_mod <- 'c1w_escs'\n",
    "AICtab <- as.data.frame(AIC(c1w_escs,\n",
    "                        mod_ortho_choice, mod_ortho_know, \n",
    "                        mod_OrthoSem_Know, mod_Sem_Choice, \n",
    "                        mod_acc_NVWD, mod_rt_NVWD, \n",
    "                        mod_TOWRE, mod_PsgComp\n",
    "                           ))\n",
    "\n",
    "AICtab$deltaAIC <-AICtab$AIC - AICtab[ref_mod, ]$AIC\n",
    "AICtab$AIC_L <- round(exp(-0.5 * AICtab$deltaAIC), 4)\n",
    "AICtab$wAIC <- AICtab$AIC_L / sum(AICtab$AIC_L )\n",
    "AICtab$AIC_ratio <-  1 / (AICtab[ref_mod, ]$wAIC / AICtab$wAIC)\n",
    "AICtab[order(AICtab$AIC, decreasing=FALSE),] "
   ]
  },
  {
   "attachments": {},
   "cell_type": "markdown",
   "metadata": {},
   "source": [
    "---\n",
    "### Orthographic choice"
   ]
  },
  {
   "cell_type": "code",
   "execution_count": null,
   "metadata": {
    "vscode": {
     "languageId": "r"
    }
   },
   "outputs": [],
   "source": [
    "start_time <- Sys.time()\n",
    "cl <- makeCluster(num_cores)\n",
    "\n",
    "mod_ortho_choice <- bam(Amplitude ~ (Condition * Ortho_Choice) + baseline\n",
    "            + s(Channel, participant_id, bs=\"re\") \n",
    "            + s(Condition, participant_id, bs=\"re\") \n",
    "            + s(participant_id, bs=\"re\"),\n",
    "            data=dat, \n",
    "            samfrac=0.1, cluster=cl, gc.level=2)            \n",
    "\n",
    "stopCluster(cl)\n",
    "end_time <- Sys.time()\n",
    "print(end_time - start_time)            "
   ]
  },
  {
   "cell_type": "code",
   "execution_count": null,
   "metadata": {
    "vscode": {
     "languageId": "r"
    }
   },
   "outputs": [],
   "source": [
    "mod = mod_ortho_choice"
   ]
  },
  {
   "cell_type": "code",
   "execution_count": null,
   "metadata": {
    "vscode": {
     "languageId": "r"
    }
   },
   "outputs": [],
   "source": [
    "terms <- c('Ortho_Choice', 'Condition')\n",
    "\n",
    "out_stem <- paste(fig_path, '/', component, '_lme_', paste(terms, collapse='_X_'), '.pdf', sep='')\n",
    "\n",
    "options(repr.plot.width=10) #, repr.plot.height=6)\n",
    "\n",
    "# pdf(out_stem)\n",
    "# plot_model(mod, type='emm', terms=terms,\n",
    "#            title=paste(component, '-', paste(terms, collapse=' X '), sep=' '),\n",
    "#            dot.size=4, line.size=1.5, dodge=.33,  colors=sns_colors,\n",
    "#             ) + theme(aspect.ratio=9/16, \n",
    "#                      axis.text.x = element_text(angle = 20, hjust = .5, vjust=.67)\n",
    "#                      )\n",
    "# dev.off() \n",
    "\n",
    "plot_model(mod, type='emm', terms=terms,\n",
    "           title=paste(component, '-', paste(terms, collapse=' X '), sep=' '),\n",
    "           dot.size=4, line.size=1.5, dodge=.33,  colors=sns_colors, \n",
    "            ) #+ theme(aspect.ratio=9/16)"
   ]
  },
  {
   "cell_type": "code",
   "execution_count": null,
   "metadata": {
    "vscode": {
     "languageId": "r"
    }
   },
   "outputs": [],
   "source": [
    "contr_tab <- test(emtrends(mod, ~ Condition, var='Ortho_Choice'))\n",
    "ncomp = nrow(contr_tab)\n",
    "contr_tab$'p (corr)' = round(p.adjust(contr_tab$'p.value', method = 'BH', n = ncomp), 4)\n",
    "contr_tab <- subset(contr_tab, select=-c(p.value))\n",
    "contr_tab\n"
   ]
  },
  {
   "attachments": {},
   "cell_type": "markdown",
   "metadata": {},
   "source": [
    "---\n",
    "### Orthographic knowledge"
   ]
  },
  {
   "cell_type": "code",
   "execution_count": null,
   "metadata": {
    "vscode": {
     "languageId": "r"
    }
   },
   "outputs": [],
   "source": [
    "cl <- makeCluster(num_cores)\n",
    "mod_ortho_know <- bam(Amplitude ~ (Condition * Ortho_Know) + baseline\n",
    "            + s(Channel, participant_id, bs=\"re\") \n",
    "            + s(Condition, participant_id, bs=\"re\") \n",
    "            + s(participant_id, bs=\"re\"),\n",
    "            data=dat, \n",
    "            samfrac=0.1, cluster=cl, gc.level=2)     \n",
    "stopCluster(cl)            "
   ]
  },
  {
   "cell_type": "code",
   "execution_count": null,
   "metadata": {
    "vscode": {
     "languageId": "r"
    }
   },
   "outputs": [],
   "source": [
    "mod <- mod_ortho_know"
   ]
  },
  {
   "cell_type": "code",
   "execution_count": null,
   "metadata": {
    "vscode": {
     "languageId": "r"
    }
   },
   "outputs": [],
   "source": [
    "terms <- c('Ortho_Know', 'Condition')\n",
    "\n",
    "out_stem <- paste(fig_path, '/', component, '_lme_', paste(terms, collapse='_X_'), '.pdf', sep='')\n",
    "\n",
    "options(repr.plot.width=10) #, repr.plot.height=6)\n",
    "\n",
    "# pdf(out_stem)\n",
    "# plot_model(mod, type='emm', terms=terms,\n",
    "#            title=paste(component, '-', paste(terms, collapse=' X '), sep=' '),\n",
    "#            dot.size=4, line.size=1.5, dodge=.33,  colors=sns_colors,\n",
    "#             ) + theme(aspect.ratio=9/16, \n",
    "#                      axis.text.x = element_text(angle = 20, hjust = .5, vjust=.67)\n",
    "#                      )\n",
    "# dev.off() \n",
    "\n",
    "plot_model(mod, type='emm', terms=terms,\n",
    "           title=paste(component, '-', paste(terms, collapse=' X '), sep=' '),\n",
    "           dot.size=4, line.size=1.5, dodge=.33,  colors=sns_colors, \n",
    "            ) #+ theme(aspect.ratio=9/16)"
   ]
  },
  {
   "cell_type": "code",
   "execution_count": null,
   "metadata": {
    "vscode": {
     "languageId": "r"
    }
   },
   "outputs": [],
   "source": [
    "contr_tab <- test(emtrends(mod, ~ Condition, var='Ortho_Know'))\n",
    "ncomp = nrow(contr_tab)\n",
    "contr_tab$'p (corr)' = round(p.adjust(contr_tab$'p.value', method = 'BH', n = ncomp), 4)\n",
    "contr_tab <- subset(contr_tab, select=-c(p.value))\n",
    "contr_tab"
   ]
  },
  {
   "cell_type": "markdown",
   "metadata": {},
   "source": [
    "---\n",
    "### OrthoSem_Know"
   ]
  },
  {
   "cell_type": "code",
   "execution_count": null,
   "metadata": {
    "vscode": {
     "languageId": "r"
    }
   },
   "outputs": [],
   "source": [
    "start_time <- Sys.time()\n",
    "cl <- makeCluster(num_cores)\n",
    "\n",
    "mod_OrthoSem_Know <- bam(Amplitude ~ (Condition * OrthoSem_Know) + baseline\n",
    "            + s(Channel, participant_id, bs=\"re\") \n",
    "            + s(Condition, participant_id, bs=\"re\") \n",
    "            + s(participant_id, bs=\"re\"),\n",
    "            data=dat, \n",
    "            samfrac=0.1, cluster=cl, gc.level=2)            \n",
    "\n",
    "stopCluster(cl)\n",
    "end_time <- Sys.time()\n",
    "print(end_time - start_time)            "
   ]
  },
  {
   "cell_type": "code",
   "execution_count": null,
   "metadata": {
    "vscode": {
     "languageId": "r"
    }
   },
   "outputs": [],
   "source": [
    "mod = mod_OrthoSem_Know"
   ]
  },
  {
   "cell_type": "code",
   "execution_count": null,
   "metadata": {
    "vscode": {
     "languageId": "r"
    }
   },
   "outputs": [],
   "source": [
    "terms <- c('OrthoSem_Know', 'Condition')\n",
    "\n",
    "out_stem <- paste(fig_path, '/', component, '_lme_', paste(terms, collapse='_X_'), '.pdf', sep='')\n",
    "\n",
    "options(repr.plot.width=10) #, repr.plot.height=6)\n",
    "\n",
    "# pdf(out_stem)\n",
    "# plot_model(mod, type='emm', terms=terms,\n",
    "#            title=paste(component, '-', paste(terms, collapse=' X '), sep=' '),\n",
    "#            dot.size=4, line.size=1.5, dodge=.33,  colors=sns_colors,\n",
    "#             ) + theme(aspect.ratio=9/16, \n",
    "#                      axis.text.x = element_text(angle = 20, hjust = .5, vjust=.67)\n",
    "#                      )\n",
    "# dev.off() \n",
    "\n",
    "plot_model(mod, type='emm', terms=terms,\n",
    "           title=paste(component, '-', paste(terms, collapse=' X '), sep=' '),\n",
    "           dot.size=4, line.size=1.5, dodge=.33,  colors=sns_colors, \n",
    "            ) #+ theme(aspect.ratio=9/16)"
   ]
  },
  {
   "cell_type": "code",
   "execution_count": null,
   "metadata": {
    "vscode": {
     "languageId": "r"
    }
   },
   "outputs": [],
   "source": [
    "contr_tab <- test(emtrends(mod, ~ Condition, var='OrthoSem_Know'))\n",
    "ncomp = nrow(contr_tab)\n",
    "contr_tab$'p (corr)' = round(p.adjust(contr_tab$'p.value', method = 'BH', n = ncomp), 4)\n",
    "contr_tab <- subset(contr_tab, select=-c(p.value))\n",
    "contr_tab"
   ]
  },
  {
   "cell_type": "markdown",
   "metadata": {},
   "source": [
    "---\n",
    "### Semantic Choice"
   ]
  },
  {
   "cell_type": "code",
   "execution_count": null,
   "metadata": {
    "vscode": {
     "languageId": "r"
    }
   },
   "outputs": [],
   "source": [
    "start_time <- Sys.time()\n",
    "cl <- makeCluster(num_cores)\n",
    "\n",
    "mod_Sem_Choice <- bam(Amplitude ~ (Condition * Sem_Choice) + baseline\n",
    "            + s(Channel, participant_id, bs=\"re\") \n",
    "            + s(Condition, participant_id, bs=\"re\") \n",
    "            + s(participant_id, bs=\"re\"),\n",
    "            data=dat, \n",
    "            samfrac=0.1, cluster=cl, gc.level=2)            \n",
    "\n",
    "stopCluster(cl)\n",
    "end_time <- Sys.time()\n",
    "print(end_time - start_time)            "
   ]
  },
  {
   "cell_type": "code",
   "execution_count": null,
   "metadata": {
    "vscode": {
     "languageId": "r"
    }
   },
   "outputs": [],
   "source": [
    "mod = mod_Sem_Choice"
   ]
  },
  {
   "cell_type": "code",
   "execution_count": null,
   "metadata": {
    "vscode": {
     "languageId": "r"
    }
   },
   "outputs": [],
   "source": [
    "terms <- c('Sem_Choice', 'Condition')\n",
    "\n",
    "out_stem <- paste(fig_path, '/', component, '_lme_', paste(terms, collapse='_X_'), '.pdf', sep='')\n",
    "\n",
    "options(repr.plot.width=10) #, repr.plot.height=6)\n",
    "\n",
    "# pdf(out_stem)\n",
    "# plot_model(mod, type='emm', terms=terms,\n",
    "#            title=paste(component, '-', paste(terms, collapse=' X '), sep=' '),\n",
    "#            dot.size=4, line.size=1.5, dodge=.33,  colors=sns_colors,\n",
    "#             ) + theme(aspect.ratio=9/16, \n",
    "#                      axis.text.x = element_text(angle = 20, hjust = .5, vjust=.67)\n",
    "#                      )\n",
    "# dev.off() \n",
    "\n",
    "plot_model(mod, type='emm', terms=terms,\n",
    "           title=paste(component, '-', paste(terms, collapse=' X '), sep=' '),\n",
    "           dot.size=4, line.size=1.5, dodge=.33,  colors=sns_colors, \n",
    "            ) #+ theme(aspect.ratio=9/16)"
   ]
  },
  {
   "cell_type": "code",
   "execution_count": null,
   "metadata": {
    "vscode": {
     "languageId": "r"
    }
   },
   "outputs": [],
   "source": [
    "contr_tab <- test(emtrends(mod, ~ Condition, var='Sem_Choice'))\n",
    "ncomp = nrow(contr_tab)\n",
    "contr_tab$'p (corr)' = round(p.adjust(contr_tab$'p.value', method = 'BH', n = ncomp), 4)\n",
    "contr_tab <- subset(contr_tab, select=-c(p.value))\n",
    "contr_tab\n"
   ]
  },
  {
   "cell_type": "markdown",
   "metadata": {},
   "source": [
    "---\n",
    "### Novel Word Accuracy"
   ]
  },
  {
   "cell_type": "code",
   "execution_count": null,
   "metadata": {
    "vscode": {
     "languageId": "r"
    }
   },
   "outputs": [],
   "source": [
    "start_time <- Sys.time()\n",
    "cl <- makeCluster(num_cores)\n",
    "\n",
    "mod_acc_NVWD <- bam(Amplitude ~ (Condition * acc_NVWD) + baseline\n",
    "            + s(Channel, participant_id, bs=\"re\") \n",
    "            + s(Condition, participant_id, bs=\"re\") \n",
    "            + s(participant_id, bs=\"re\"),\n",
    "            data=dat, \n",
    "            samfrac=0.1, cluster=cl, gc.level=2)            \n",
    "\n",
    "stopCluster(cl)\n",
    "end_time <- Sys.time()\n",
    "print(end_time - start_time)            "
   ]
  },
  {
   "cell_type": "code",
   "execution_count": null,
   "metadata": {
    "vscode": {
     "languageId": "r"
    }
   },
   "outputs": [],
   "source": [
    "mod = mod_acc_NVWD"
   ]
  },
  {
   "cell_type": "code",
   "execution_count": null,
   "metadata": {
    "vscode": {
     "languageId": "r"
    }
   },
   "outputs": [],
   "source": [
    "terms <- c('acc_NVWD', 'Condition')\n",
    "\n",
    "out_stem <- paste(fig_path, '/', component, '_lme_', paste(terms, collapse='_X_'), '.pdf', sep='')\n",
    "\n",
    "options(repr.plot.width=10) #, repr.plot.height=6)\n",
    "\n",
    "# pdf(out_stem)\n",
    "# plot_model(mod, type='emm', terms=terms,\n",
    "#            title=paste(component, '-', paste(terms, collapse=' X '), sep=' '),\n",
    "#            dot.size=4, line.size=1.5, dodge=.33,  colors=sns_colors,\n",
    "#             ) + theme(aspect.ratio=9/16, \n",
    "#                      axis.text.x = element_text(angle = 20, hjust = .5, vjust=.67)\n",
    "#                      )\n",
    "# dev.off() \n",
    "\n",
    "plot_model(mod, type='emm', terms=terms,\n",
    "           title=paste(component, '-', paste(terms, collapse=' X '), sep=' '),\n",
    "           dot.size=4, line.size=1.5, dodge=.33,  colors=sns_colors, \n",
    "            ) #+ theme(aspect.ratio=9/16)"
   ]
  },
  {
   "cell_type": "code",
   "execution_count": null,
   "metadata": {
    "vscode": {
     "languageId": "r"
    }
   },
   "outputs": [],
   "source": [
    "contr_tab <- test(emtrends(mod, ~ Condition, var='acc_NVWD'))\n",
    "ncomp = nrow(contr_tab)\n",
    "contr_tab$'p (corr)' = round(p.adjust(contr_tab$'p.value', method = 'BH', n = ncomp), 4)\n",
    "contr_tab <- subset(contr_tab, select=-c(p.value))\n",
    "contr_tab\n"
   ]
  },
  {
   "cell_type": "markdown",
   "metadata": {},
   "source": [
    "---\n",
    "### Novel Word RT"
   ]
  },
  {
   "cell_type": "code",
   "execution_count": null,
   "metadata": {
    "vscode": {
     "languageId": "r"
    }
   },
   "outputs": [],
   "source": [
    "start_time <- Sys.time()\n",
    "cl <- makeCluster(num_cores)\n",
    "\n",
    "mod_rt_NVWD <- bam(Amplitude ~ (Condition * rt_NVWD) + baseline\n",
    "            + s(Channel, participant_id, bs=\"re\") \n",
    "            + s(Condition, participant_id, bs=\"re\") \n",
    "            + s(participant_id, bs=\"re\"),\n",
    "            data=dat, \n",
    "            samfrac=0.1, cluster=cl, gc.level=2)            \n",
    "\n",
    "stopCluster(cl)\n",
    "end_time <- Sys.time()\n",
    "print(end_time - start_time)            "
   ]
  },
  {
   "cell_type": "code",
   "execution_count": null,
   "metadata": {
    "vscode": {
     "languageId": "r"
    }
   },
   "outputs": [],
   "source": [
    "mod = mod_rt_NVWD"
   ]
  },
  {
   "cell_type": "code",
   "execution_count": null,
   "metadata": {
    "vscode": {
     "languageId": "r"
    }
   },
   "outputs": [],
   "source": [
    "terms <- c('rt_NVWD', 'Condition')\n",
    "\n",
    "out_stem <- paste(fig_path, '/', component, '_lme_', paste(terms, collapse='_X_'), '.pdf', sep='')\n",
    "\n",
    "options(repr.plot.width=10) #, repr.plot.height=6)\n",
    "\n",
    "pm <- function(mod, terms) {\n",
    "        plot_model(mod, type='emm', terms=terms,\n",
    "                title=paste(component, '-', paste(terms, collapse=' X '), sep=' '),\n",
    "                dot.size=4, line.size=1.5, dodge=.33,  colors=sns_colors, \n",
    "                    ) \n",
    "}\n",
    "pdf(out_stem, 12, 8.5)\n",
    "pm(mod_rt_NVWD, terms)\n",
    "dev.off() \n",
    "pm(mod_rt_NVWD, terms)"
   ]
  },
  {
   "cell_type": "code",
   "execution_count": null,
   "metadata": {
    "vscode": {
     "languageId": "r"
    }
   },
   "outputs": [],
   "source": [
    "contr_tab <- test(emtrends(mod_rt_NVWD, ~ Condition, var='rt_NVWD'))\n",
    "# contr_tab\n",
    "\n",
    "contr_tab <- contr_tab %>%\n",
    "            mutate(across(c('p.value'), round, 3)) %>% \n",
    "            mutate(across(c('rt_NVWD.trend', 'SE', 't.ratio'), round, 2)) %>% \n",
    "            rename('Novel Word RT (slope)' = 'rt_NVWD.trend',\n",
    "                   't' = 't.ratio',\n",
    "                   'p' = 'p.value',\n",
    "                  ) %>% \n",
    "            arrange(Condition)\n",
    "contr_tab \n",
    "## Write table to LaTeX\n",
    "out_stem <- paste(tab_path, '/', component, '_lme_', paste(terms, collapse='_X_'), sep='')\n",
    "tmp <- capture.output(stargazer(contr_tab, \n",
    "                                summary=FALSE, rownames=FALSE,\n",
    "                                label=paste('tab:', component, '_lme_', paste(terms, collapse='_X_'), sep=''),\n",
    "                                title='Results of linear mixed effects model including accuracy on novel words in the lexical decision task. Statistical values are for the test of significance of the slope of the relationship between N170 amplitude and novel word accuracy. All p values are corrected for multiple comparisons using Tukey\\'s method'\n",
    "                               ),\n",
    "                      file=paste(out_stem, '.tex', sep='')\n",
    "                     )"
   ]
  },
  {
   "attachments": {},
   "cell_type": "markdown",
   "metadata": {},
   "source": [
    "---\n",
    "### TOWRE"
   ]
  },
  {
   "cell_type": "code",
   "execution_count": null,
   "metadata": {
    "vscode": {
     "languageId": "r"
    }
   },
   "outputs": [],
   "source": [
    "start_time <- Sys.time()\n",
    "cl <- makeCluster(num_cores)\n",
    "\n",
    "mod_TOWRE <- bam(Amplitude ~ (Condition * TOWRE_idx) + baseline\n",
    "            + s(Channel, participant_id, bs=\"re\") \n",
    "            + s(Condition, participant_id, bs=\"re\") \n",
    "            + s(participant_id, bs=\"re\"),\n",
    "            data=dat, \n",
    "            samfrac=0.1, cluster=cl, gc.level=2)            \n",
    "\n",
    "stopCluster(cl)\n",
    "end_time <- Sys.time()\n",
    "print(end_time - start_time)            "
   ]
  },
  {
   "cell_type": "code",
   "execution_count": null,
   "metadata": {
    "vscode": {
     "languageId": "r"
    }
   },
   "outputs": [],
   "source": [
    "mod = mod_TOWRE"
   ]
  },
  {
   "cell_type": "code",
   "execution_count": null,
   "metadata": {
    "vscode": {
     "languageId": "r"
    }
   },
   "outputs": [],
   "source": [
    "terms <- c('TOWRE_idx', 'Condition')\n",
    "\n",
    "out_stem <- paste(fig_path, '/', component, '_lme_', paste(terms, collapse='_X_'), '.pdf', sep='')\n",
    "\n",
    "options(repr.plot.width=10) #, repr.plot.height=6)\n",
    "\n",
    "# pdf(out_stem)\n",
    "# plot_model(mod, type='emm', terms=terms,\n",
    "#            title=paste(component, '-', paste(terms, collapse=' X '), sep=' '),\n",
    "#            dot.size=4, line.size=1.5, dodge=.33,  colors=sns_colors,\n",
    "#             ) + theme(aspect.ratio=9/16, \n",
    "#                      axis.text.x = element_text(angle = 20, hjust = .5, vjust=.67)\n",
    "#                      )\n",
    "# dev.off() \n",
    "\n",
    "plot_model(mod, type='emm', terms=terms,\n",
    "           title=paste(component, '-', paste(terms, collapse=' X '), sep=' '),\n",
    "           dot.size=4, line.size=1.5, dodge=.33,  colors=sns_colors, \n",
    "            ) #+ theme(aspect.ratio=9/16)"
   ]
  },
  {
   "cell_type": "code",
   "execution_count": null,
   "metadata": {
    "vscode": {
     "languageId": "r"
    }
   },
   "outputs": [],
   "source": [
    "contr_tab <- test(emtrends(mod, ~ Condition, var='TOWRE_idx'))\n",
    "ncomp = nrow(contr_tab)\n",
    "contr_tab$'p (corr)' = round(p.adjust(contr_tab$'p.value', method = 'BH', n = ncomp), 4)\n",
    "contr_tab <- subset(contr_tab, select=-c(p.value))\n",
    "contr_tab\n"
   ]
  },
  {
   "attachments": {},
   "cell_type": "markdown",
   "metadata": {},
   "source": [
    "---\n",
    "### Word ID"
   ]
  },
  {
   "cell_type": "code",
   "execution_count": null,
   "metadata": {
    "vscode": {
     "languageId": "r"
    }
   },
   "outputs": [],
   "source": [
    "start_time <- Sys.time()\n",
    "cl <- makeCluster(num_cores)\n",
    "\n",
    "mod_WordID <- bam(Amplitude ~ (Condition * WordID_raw) + baseline\n",
    "            + s(Channel, participant_id, bs=\"re\") \n",
    "            + s(Condition, participant_id, bs=\"re\") \n",
    "            + s(participant_id, bs=\"re\"),\n",
    "            data=dat, \n",
    "            samfrac=0.1, cluster=cl, gc.level=2)            \n",
    "\n",
    "stopCluster(cl)\n",
    "end_time <- Sys.time()\n",
    "print(end_time - start_time)            "
   ]
  },
  {
   "cell_type": "code",
   "execution_count": null,
   "metadata": {
    "vscode": {
     "languageId": "r"
    }
   },
   "outputs": [],
   "source": [
    "mod = mod_WordID"
   ]
  },
  {
   "cell_type": "code",
   "execution_count": null,
   "metadata": {
    "vscode": {
     "languageId": "r"
    }
   },
   "outputs": [],
   "source": [
    "terms <- c('WordID_raw', 'Condition')\n",
    "\n",
    "out_stem <- paste(fig_path, '/', component, '_lme_', paste(terms, collapse='_X_'), '.pdf', sep='')\n",
    "\n",
    "options(repr.plot.width=10) #, repr.plot.height=6)\n",
    "\n",
    "# pdf(out_stem)\n",
    "# plot_model(mod, type='emm', terms=terms,\n",
    "#            title=paste(component, '-', paste(terms, collapse=' X '), sep=' '),\n",
    "#            dot.size=4, line.size=1.5, dodge=.33,  colors=sns_colors,\n",
    "#             ) + theme(aspect.ratio=9/16, \n",
    "#                      axis.text.x = element_text(angle = 20, hjust = .5, vjust=.67)\n",
    "#                      )\n",
    "# dev.off() \n",
    "\n",
    "plot_model(mod, type='emm', terms=terms,\n",
    "           title=paste(component, '-', paste(terms, collapse=' X '), sep=' '),\n",
    "           dot.size=4, line.size=1.5, dodge=.33,  colors=sns_colors, \n",
    "            ) #+ theme(aspect.ratio=9/16)"
   ]
  },
  {
   "cell_type": "code",
   "execution_count": null,
   "metadata": {
    "vscode": {
     "languageId": "r"
    }
   },
   "outputs": [],
   "source": [
    "contr_tab <- test(emtrends(mod, ~ Condition, var='WordID_raw'))\n",
    "ncomp = nrow(contr_tab)\n",
    "contr_tab$'p (corr)' = round(p.adjust(contr_tab$'p.value', method = 'BH', n = ncomp), 4)\n",
    "contr_tab <- subset(contr_tab, select=-c(p.value))\n",
    "contr_tab\n"
   ]
  },
  {
   "attachments": {},
   "cell_type": "markdown",
   "metadata": {},
   "source": [
    "---\n",
    "### Reading Comprehension"
   ]
  },
  {
   "cell_type": "code",
   "execution_count": null,
   "metadata": {
    "vscode": {
     "languageId": "r"
    }
   },
   "outputs": [],
   "source": [
    "start_time <- Sys.time()\n",
    "cl <- makeCluster(num_cores)\n",
    "\n",
    "mod_PsgComp <- bam(Amplitude ~ (Condition * PsgComp_raw) + baseline\n",
    "            + s(Channel, participant_id, bs=\"re\") \n",
    "            + s(Condition, participant_id, bs=\"re\") \n",
    "            + s(participant_id, bs=\"re\"),\n",
    "            data=dat, \n",
    "            samfrac=0.1, cluster=cl, gc.level=2)            \n",
    "\n",
    "stopCluster(cl)\n",
    "end_time <- Sys.time()\n",
    "print(end_time - start_time)            "
   ]
  },
  {
   "cell_type": "code",
   "execution_count": null,
   "metadata": {
    "vscode": {
     "languageId": "r"
    }
   },
   "outputs": [],
   "source": [
    "mod = mod_PsgComp"
   ]
  },
  {
   "cell_type": "code",
   "execution_count": null,
   "metadata": {
    "vscode": {
     "languageId": "r"
    }
   },
   "outputs": [],
   "source": [
    "terms <- c('PsgComp_raw', 'Condition')\n",
    "\n",
    "out_stem <- paste(fig_path, '/', component, '_lme_', paste(terms, collapse='_X_'), '.pdf', sep='')\n",
    "\n",
    "options(repr.plot.width=10) #, repr.plot.height=6)\n",
    "\n",
    "# pdf(out_stem)\n",
    "# plot_model(mod, type='emm', terms=terms,\n",
    "#            title=paste(component, '-', paste(terms, collapse=' X '), sep=' '),\n",
    "#            dot.size=4, line.size=1.5, dodge=.33,  colors=sns_colors,\n",
    "#             ) + theme(aspect.ratio=9/16, \n",
    "#                      axis.text.x = element_text(angle = 20, hjust = .5, vjust=.67)\n",
    "#                      )\n",
    "# dev.off() \n",
    "\n",
    "plot_model(mod, type='emm', terms=terms,\n",
    "           title=paste(component, '-', paste(terms, collapse=' X '), sep=' '),\n",
    "           dot.size=4, line.size=1.5, dodge=.33,  colors=sns_colors, \n",
    "            ) #+ theme(aspect.ratio=9/16)"
   ]
  },
  {
   "cell_type": "code",
   "execution_count": null,
   "metadata": {
    "vscode": {
     "languageId": "r"
    }
   },
   "outputs": [],
   "source": [
    "contr_tab <- test(emtrends(mod, ~ Condition, var='PsgComp_raw'))\n",
    "ncomp = nrow(contr_tab)\n",
    "contr_tab$'p (corr)' = round(p.adjust(contr_tab$'p.value', method = 'BH', n = ncomp), 4)\n",
    "contr_tab <- subset(contr_tab, select=-c(p.value))\n",
    "contr_tab"
   ]
  },
  {
   "attachments": {},
   "cell_type": "markdown",
   "metadata": {},
   "source": [
    "---\n",
    "### PPVT"
   ]
  },
  {
   "cell_type": "code",
   "execution_count": null,
   "metadata": {
    "vscode": {
     "languageId": "r"
    }
   },
   "outputs": [],
   "source": [
    "start_time <- Sys.time()\n",
    "cl <- makeCluster(num_cores)\n",
    "\n",
    "mod_PPVT <- bam(Amplitude ~ (Condition * PPVT_raw) + baseline\n",
    "            + s(Channel, participant_id, bs=\"re\") \n",
    "            + s(Condition, participant_id, bs=\"re\") \n",
    "            + s(participant_id, bs=\"re\"),\n",
    "            data=dat, \n",
    "            samfrac=0.1, cluster=cl, gc.level=2)            \n",
    "\n",
    "stopCluster(cl)\n",
    "end_time <- Sys.time()\n",
    "print(end_time - start_time)            "
   ]
  },
  {
   "cell_type": "code",
   "execution_count": null,
   "metadata": {
    "vscode": {
     "languageId": "r"
    }
   },
   "outputs": [],
   "source": [
    "mod = mod_PPVT"
   ]
  },
  {
   "cell_type": "code",
   "execution_count": null,
   "metadata": {
    "vscode": {
     "languageId": "r"
    }
   },
   "outputs": [],
   "source": [
    "terms <- c('PPVT_raw', 'Condition')\n",
    "\n",
    "out_stem <- paste(fig_path, '/', component, '_lme_', paste(terms, collapse='_X_'), '.pdf', sep='')\n",
    "\n",
    "options(repr.plot.width=10) #, repr.plot.height=6)\n",
    "\n",
    "# pdf(out_stem)\n",
    "# plot_model(mod, type='emm', terms=terms,\n",
    "#            title=paste(component, '-', paste(terms, collapse=' X '), sep=' '),\n",
    "#            dot.size=4, line.size=1.5, dodge=.33,  colors=sns_colors,\n",
    "#             ) + theme(aspect.ratio=9/16, \n",
    "#                      axis.text.x = element_text(angle = 20, hjust = .5, vjust=.67)\n",
    "#                      )\n",
    "# dev.off() \n",
    "\n",
    "plot_model(mod, type='emm', terms=terms,\n",
    "           title=paste(component, '-', paste(terms, collapse=' X '), sep=' '),\n",
    "           dot.size=4, line.size=1.5, dodge=.33,  colors=sns_colors, \n",
    "            ) #+ theme(aspect.ratio=9/16)"
   ]
  },
  {
   "cell_type": "code",
   "execution_count": null,
   "metadata": {
    "vscode": {
     "languageId": "r"
    }
   },
   "outputs": [],
   "source": [
    "contr_tab <- test(emtrends(mod, ~ Condition, var='PPVT_raw'))\n",
    "ncomp = nrow(contr_tab)\n",
    "contr_tab$'p (corr)' = round(p.adjust(contr_tab$'p.value', method = 'BH', n = ncomp), 4)\n",
    "contr_tab <- subset(contr_tab, select=-c(p.value))\n",
    "contr_tab\n"
   ]
  },
  {
   "cell_type": "code",
   "execution_count": null,
   "metadata": {
    "vscode": {
     "languageId": "r"
    }
   },
   "outputs": [],
   "source": []
  }
 ],
 "metadata": {
  "anaconda-cloud": {},
  "kernel_info": {
   "name": "ir"
  },
  "kernelspec": {
   "display_name": "R",
   "language": "R",
   "name": "ir"
  },
  "language_info": {
   "codemirror_mode": "r",
   "file_extension": ".r",
   "mimetype": "text/x-r-source",
   "name": "R",
   "pygments_lexer": "r",
   "version": "4.1.2"
  },
  "nteract": {
   "version": "0.12.3"
  },
  "vscode": {
   "interpreter": {
    "hash": "760055932674735d287fd612619c18ffc3840c7c49c197eeb438d57975a1e213"
   }
  }
 },
 "nbformat": 4,
 "nbformat_minor": 4
}
