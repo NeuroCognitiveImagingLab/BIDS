{
 "cells": [
  {
   "cell_type": "markdown",
   "id": "47c8e26e-64b6-41a9-a842-227791bed0ab",
   "metadata": {},
   "source": [
    "# Make BIDS root folder structure for a new EEG study \n",
    "(or new BIDS structure for an old study)\n",
    "\n",
    "Creates the following empty folder structure for a new study:\n",
    "\n",
    "```\n",
    "— code\n",
    "    - import\n",
    "    - preproc\n",
    "    - analysis\n",
    "\n",
    "- derivatives\n",
    "    - preproc_pipeline_1\n",
    "        - s001\n",
    "        - s002\n",
    "    - preproc_pipeline_2\n",
    "    - statistical_analysis_1\n",
    "\n",
    "- rawdata\n",
    "    - s001\n",
    "    - s002\n",
    "    \n",
    "- README.md\n",
    "    \n",
    "- sourcedata\n",
    "    - eeg\n",
    "    - behav\n",
    "\n",
    "```\n",
    "\n",
    "- `code` contains all code used to operate on the data sets, including file conversion/import, preprocessing, and analysis\n",
    "- `sourcedata` contains the original, unprocessed data files, organized into subfolders by modality (e.g., EEG, behavioural log files). These files should be write-protected as the original data should never be modified or deleted.\n",
    "- `rawdata` contains BIDS-compliant raw datasets. These are typically the output of an import script that operates on data in `sourcedata` and converts it to BIDS-compliant formats.\n",
    "- `derivatives` contain versions of the data that are processed by scripts in the `code` folder. Separate folders in `derivatives` should be made for different types of outputs, e.g., the output of a preprocessing pipeline would go in one folder, but a statistical analysis on that preprocessed data in another. This organization makes it easy to perform different batches of operations on data and compare the results, as well as keeping things organized. Within a `derivatives` subfolder, data should be organized by subject, potentially under subfolders for the outputs of different preprocessing steps, if these are saved.\n",
    "- `README.md` is a Markdown file which you should edit to include a descirption of the study and experimental paradigm. This provides the context in which the data can be understood.  \n"
   ]
  },
  {
   "cell_type": "code",
   "execution_count": 35,
   "id": "3db6b90a-a67d-4419-a191-3a565ce9c725",
   "metadata": {},
   "outputs": [],
   "source": [
    "import os\n",
    "import os.path as op\n",
    "import json\n",
    "from mne_bids import make_dataset_description, update_sidecar_json, BIDSPath"
   ]
  },
  {
   "cell_type": "markdown",
   "id": "9bb54837-c8ef-4e0e-9567-d77682ce0ce6",
   "metadata": {},
   "source": [
    "## BIDS Project Parameters\n",
    "Used to store metadata and for file/folder names\n",
    "\n",
    "### Update this with your study info"
   ]
  },
  {
   "cell_type": "code",
   "execution_count": 36,
   "id": "62a74703-6691-454e-bc1b-c4b2e96cbadf",
   "metadata": {},
   "outputs": [],
   "source": [
    "# change to your study name\n",
    "# IMPORTANT: when you collect data, you should use the study name, exactly as it's \n",
    "# specified here (same capitalization etc.), plus unique subject ID numbers\n",
    "study_name = 'NCIL_EEG_template'\n",
    "\n",
    "# Ethics board name and protocol ID\n",
    "reb_info = 'Dalhousie SSHREB 20xx-xxxx'\n",
    "\n",
    "# add additional project team member names\n",
    "authors = ['Aaron J. Newman', ]\n",
    "\n",
    "line_freq = 60 # Hz\n",
    "\n",
    "instn = 'Dalhousie University'\n",
    "instn_addr = 'Halifax, NS, Canada'\n",
    "instn_dept = 'NeuroCognitive Imaging Lab, Department of Psychology & Neuroscience'\n",
    "\n",
    "# Specify source of study funding ('NSERC', 'SSHRC', etc.)\n",
    "funding = None \n",
    "\n",
    "license = 'BSD 3-clause'"
   ]
  },
  {
   "cell_type": "markdown",
   "id": "1e10528b-bb65-42a9-bcbb-197d18dc9ff6",
   "metadata": {},
   "source": [
    "## Run this cell to create directory structure"
   ]
  },
  {
   "cell_type": "code",
   "execution_count": 38,
   "id": "11c1a1eb-b270-4c55-a9da-2bd3a8ae5699",
   "metadata": {},
   "outputs": [
    {
     "name": "stdout",
     "output_type": "stream",
     "text": [
      "Writing 'data/dataset_description.json'...\n"
     ]
    }
   ],
   "source": [
    "bids_root = 'data' \n",
    "\n",
    "os.mkdir(bids_root)\n",
    "\n",
    "subdirs = [ 'code', op.join('code', 'import'), 'derivatives', 'rawdata', 'sourcedata', \n",
    "           op.join('sourcedata', 'eeg'), op.join('sourcedata', 'stim_log_files')\n",
    "          ]    \n",
    "\n",
    "if not op.isdir(code_path):\n",
    "    # --- Create folder structure --- \n",
    "    for sd in subdirs:\n",
    "        subd_path = op.join(bids_root, sd)\n",
    "        os.mkdir(subd_path)   \n",
    "\n",
    "    # --- Create metadata --- \n",
    "    make_dataset_description(path=bids_root,\n",
    "                             name=study_name,\n",
    "                             data_license=license,\n",
    "                             authors=authors,\n",
    "                             funding=funding,\n",
    "                            )\n",
    "\n",
    "    # --- Update metadata with additional info --- \n",
    "    entries = {'EthicsApprovals':reb_info,\n",
    "               'InstitutionName':instn,\n",
    "               'InstitutionAddress':instn_addr,\n",
    "               'InstitutionalDepartmentName':instn_dept,\n",
    "               'PowerLineFrequency':line_freq,\n",
    "              }   \n",
    "    sidecar_path = op.join(bids_root, 'dataset_description.json')\n",
    "    with open(sidecar_path, 'r') as f:\n",
    "        info = json.load(f)        \n",
    "    info = {**info, **entries}\n",
    "    with open(sidecar_path, 'w') as f:\n",
    "        info = json.dump(info, f)\n",
    "    \n",
    "    # --- Write README file ---\n",
    "    readme = ['# README - ' + study_name + '\\n',\n",
    "              'EEG study conducted in the [NeuroCognitive Imaging Lab](http://ncil.science), Department of Psychology & Neuroscience, [Dalhousie University](https://dal.ca). Directed by Aaron J Newman](https://aaronjnewman.com), [NeuroCognitive Imaging Lab](http://ncil.science).\\n',\n",
    "              '\\n',\n",
    "              'Code in this project largely relies on the Python pacakges MNE, mne-bids, mne-bids-pipeline. Aditional code written by Aaron J Newman and ---, released under the [BSD 3-clause license](https://opensource.org/licenses/BSD-3-Clause).\\n',\n",
    "              '\\n',\n",
    "              '## Study Description\\n',\n",
    "              '\\n',\n",
    "              '## Stimulus Presentation Details\\n',\n",
    "              ''\n",
    "             ]\n",
    "\n",
    "    with open(op.join(bids_root, 'README.md'), 'w') as f:\n",
    "        f.writelines(readme)\n",
    "        \n",
    "else:\n",
    "    print('Error: Target directory already exists')"
   ]
  },
  {
   "cell_type": "code",
   "execution_count": null,
   "id": "efea76dd-ee9c-4b06-926b-7403c91768d2",
   "metadata": {},
   "outputs": [],
   "source": []
  }
 ],
 "metadata": {
  "kernelspec": {
   "display_name": "Python 3 (ipykernel)",
   "language": "python",
   "name": "python3"
  },
  "language_info": {
   "codemirror_mode": {
    "name": "ipython",
    "version": 3
   },
   "file_extension": ".py",
   "mimetype": "text/x-python",
   "name": "python",
   "nbconvert_exporter": "python",
   "pygments_lexer": "ipython3",
   "version": "3.10.5"
  }
 },
 "nbformat": 4,
 "nbformat_minor": 5
}
